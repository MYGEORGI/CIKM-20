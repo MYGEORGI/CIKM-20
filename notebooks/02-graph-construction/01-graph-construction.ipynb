{
 "cells": [
  {
   "cell_type": "markdown",
   "metadata": {},
   "source": [
    "# Preamble"
   ]
  },
  {
   "cell_type": "code",
   "execution_count": 1,
   "metadata": {},
   "outputs": [],
   "source": [
    "from nltk import word_tokenize\n",
    "import unicodedata\n",
    "import json\n",
    "import nltk\n",
    "import bz2"
   ]
  },
  {
   "cell_type": "code",
   "execution_count": 2,
   "metadata": {},
   "outputs": [],
   "source": [
    "PATH_CAUSALITY_GRAPH_PARTS = [\n",
    "    \"../../data/causality-graphs/spotting/wikipedia/infobox-graph.json\",\n",
    "    \"../../data/causality-graphs/spotting/wikipedia/list-graph.json\",\n",
    "    \"../../data/causality-graphs/spotting/wikipedia/text-graph.json\",\n",
    "    \"../../data/causality-graphs/spotting/clueweb12/clueweb-graph.json\"\n",
    "]\n",
    "\n",
    "PATH_NLTK_RESOURCES = \"../../data/external/nltk/\"\n",
    "\n",
    "PATH_OUTPUT_GRAPH = \"../../data/causality-graphs/integration/causenet-full.jsonl.bz2\""
   ]
  },
  {
   "cell_type": "code",
   "execution_count": 3,
   "metadata": {},
   "outputs": [
    {
     "name": "stderr",
     "output_type": "stream",
     "text": [
      "[nltk_data] Downloading package punkt to\n",
      "[nltk_data]     ../../data/downloads/nltk_data/...\n",
      "[nltk_data]   Package punkt is already up-to-date!\n"
     ]
    }
   ],
   "source": [
    "nltk.download('punkt', PATH_NLTK_RESOURCES)\n",
    "nltk.data.path.append(PATH_NLTK_RESOURCES)"
   ]
  },
  {
   "cell_type": "markdown",
   "metadata": {},
   "source": [
    "# Load and Merge Causality Graphs"
   ]
  },
  {
   "cell_type": "code",
   "execution_count": 4,
   "metadata": {},
   "outputs": [],
   "source": [
    "final_graph = []\n",
    "for path in PATH_CAUSALITY_GRAPH_PARTS:\n",
    "    final_graph.extend(json.loads(open(path).read()))"
   ]
  },
  {
   "cell_type": "code",
   "execution_count": 5,
   "metadata": {},
   "outputs": [],
   "source": [
    "def normalize(string):\n",
    "    # as in conceptNet\n",
    "    # https://en.wikipedia.org/wiki/Unicode_equivalence#Normalization\n",
    "    return '_'.join([unicodedata.normalize('NFKC', token.lower())\n",
    "                     for token in word_tokenize(string)])"
   ]
  },
  {
   "cell_type": "code",
   "execution_count": 6,
   "metadata": {},
   "outputs": [],
   "source": [
    "for relation in final_graph:\n",
    "    relation = relation['causal_relation']\n",
    "    relation['cause']['concept'] = normalize(relation['cause']['concept'])\n",
    "    relation['effect']['concept'] = normalize(relation['effect']['concept'])"
   ]
  },
  {
   "cell_type": "code",
   "execution_count": 7,
   "metadata": {},
   "outputs": [],
   "source": [
    "existing = {}\n",
    "position = -1\n",
    "\n",
    "for relation in final_graph:\n",
    "    position += 1\n",
    "    relation_id = relation['causal_relation']['cause']['concept']\n",
    "    relation_id += \" -> \"\n",
    "    relation_id += relation['causal_relation']['effect']['concept']\n",
    "\n",
    "    relation['can_delete'] = 0\n",
    "\n",
    "    if relation_id in existing:\n",
    "        first_relation = final_graph[existing[relation_id]]\n",
    "        first_relation['sources'].extend(relation['sources'])\n",
    "\n",
    "        relation['can_delete'] = 1  # marking for deletion\n",
    "    else:\n",
    "        existing[relation_id] = position"
   ]
  },
  {
   "cell_type": "code",
   "execution_count": 8,
   "metadata": {},
   "outputs": [],
   "source": [
    "causenet = [relation for relation in final_graph\n",
    "            if relation['can_delete'] == 0]"
   ]
  },
  {
   "cell_type": "code",
   "execution_count": 9,
   "metadata": {},
   "outputs": [],
   "source": [
    "for relation in causenet:\n",
    "    del relation['can_delete']"
   ]
  },
  {
   "cell_type": "markdown",
   "metadata": {},
   "source": [
    "# Save CauseNet"
   ]
  },
  {
   "cell_type": "code",
   "execution_count": 10,
   "metadata": {},
   "outputs": [],
   "source": [
    "target = bz2.open(PATH_OUTPUT_GRAPH, \"wt\")\n",
    "\n",
    "for line in causenet:\n",
    "    target.write(json.dumps(line))\n",
    "    target.write(\"\\n\")\n",
    "\n",
    "target.close()"
   ]
  }
 ],
 "metadata": {
  "kernelspec": {
   "display_name": "cikm20-causenet",
   "language": "python",
   "name": "cikm20-causenet"
  },
  "language_info": {
   "codemirror_mode": {
    "name": "ipython",
    "version": 3
   },
   "file_extension": ".py",
   "mimetype": "text/x-python",
   "name": "python",
   "nbconvert_exporter": "python",
   "pygments_lexer": "ipython3",
   "version": "3.7.3"
  },
  "toc": {
   "base_numbering": 1,
   "nav_menu": {},
   "number_sections": true,
   "sideBar": true,
   "skip_h1_title": false,
   "title_cell": "Table of Contents",
   "title_sidebar": "Contents",
   "toc_cell": false,
   "toc_position": {},
   "toc_section_display": true,
   "toc_window_display": false
  }
 },
 "nbformat": 4,
 "nbformat_minor": 4
}
