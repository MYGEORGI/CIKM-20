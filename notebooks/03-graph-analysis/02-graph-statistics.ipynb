{
 "cells": [
  {
   "cell_type": "markdown",
   "metadata": {},
   "source": [
    "# Preamble"
   ]
  },
  {
   "cell_type": "code",
   "execution_count": 1,
   "metadata": {},
   "outputs": [],
   "source": [
    "from IPython.display import HTML, display\n",
    "from urllib.parse import urlparse\n",
    "import operator\n",
    "import tldextract\n",
    "import numpy as np\n",
    "import pandas as pd\n",
    "import tabulate\n",
    "import bz2\n",
    "import json"
   ]
  },
  {
   "cell_type": "code",
   "execution_count": 2,
   "metadata": {},
   "outputs": [],
   "source": [
    "PATH_CAUSENET = \"../../data/causality-graphs/causenet-full.jsonl.bz2\"\n",
    "PATH_CATEGORIZATION = \"../../data/categorization/manual_categorization.csv\"\n",
    "PATH_WIKIPEDIA_EXTRACTION = \"../../data/causality-graphs/extraction/\"\n",
    "PATH_WIKIPEDIA_EXTRACTION += \"wikipedia/wikipedia-extraction.tsv\""
   ]
  },
  {
   "cell_type": "markdown",
   "metadata": {},
   "source": [
    "# Loading CauseNet"
   ]
  },
  {
   "cell_type": "code",
   "execution_count": 3,
   "metadata": {},
   "outputs": [],
   "source": [
    "def load_jsonl(path):\n",
    "    print(\"Loading... \" + path)\n",
    "    lines = []\n",
    "    document = bz2.open(path, mode='rt')\n",
    "    for line in document:\n",
    "        lines.append(json.loads(line))\n",
    "    return lines"
   ]
  },
  {
   "cell_type": "code",
   "execution_count": null,
   "metadata": {},
   "outputs": [
    {
     "name": "stdout",
     "output_type": "stream",
     "text": [
      "Loading... ../../data/causality-graphs/causenet-full.jsonl.bz2\n"
     ]
    }
   ],
   "source": [
    "causenet = load_jsonl(PATH_CAUSENET)"
   ]
  },
  {
   "cell_type": "markdown",
   "metadata": {},
   "source": [
    "## Determine Support"
   ]
  },
  {
   "cell_type": "code",
   "execution_count": 5,
   "metadata": {},
   "outputs": [],
   "source": [
    "for relation in causenet:\n",
    "    patterns = []\n",
    "    for source in relation['sources']:\n",
    "        if 'path_pattern' in source['payload']:\n",
    "            patterns.append(source['payload']['path_pattern'])\n",
    "    relation['support'] = len(set(patterns))"
   ]
  },
  {
   "cell_type": "markdown",
   "metadata": {},
   "source": [
    "## Determine Subgraphs"
   ]
  },
  {
   "cell_type": "code",
   "execution_count": 6,
   "metadata": {},
   "outputs": [],
   "source": [
    "def get_subgraph(graph, source_type):\n",
    "    subgraph = []\n",
    "    for relation in graph:\n",
    "        belongs_to_subgraph = False\n",
    "        for source in relation['sources']:\n",
    "            if source['type'] == source_type:\n",
    "                belongs_to_subgraph = True\n",
    "                break\n",
    "        if belongs_to_subgraph:\n",
    "            subgraph.append(relation)\n",
    "    return subgraph"
   ]
  },
  {
   "cell_type": "code",
   "execution_count": 7,
   "metadata": {},
   "outputs": [],
   "source": [
    "source_types = ['clueweb12_sentence', 'wikipedia_sentence',\n",
    "                'wikipedia_list', 'wikipedia_infobox']\n",
    "causality_graphs = {'causenet': causenet}\n",
    "\n",
    "for source_type in source_types:\n",
    "    causality_graphs[source_type] = get_subgraph(causenet, source_type)"
   ]
  },
  {
   "cell_type": "markdown",
   "metadata": {},
   "source": [
    "# Table 2: Top 10 patterns of causal relations"
   ]
  },
  {
   "cell_type": "code",
   "execution_count": 8,
   "metadata": {},
   "outputs": [],
   "source": [
    "pattern_statistics = {}\n",
    "\n",
    "for relation in causality_graphs['causenet']:\n",
    "    for source in relation['sources']:\n",
    "        if 'path_pattern' in source['payload']:\n",
    "            pattern = source['payload']['path_pattern']\n",
    "            pattern_statistics.setdefault(pattern, []).append(\n",
    "                str(relation['causal_relation']))\n",
    "\n",
    "sorted_pattern_statistics = sorted(\n",
    "    pattern_statistics.items(), key=lambda x: len(set(x[1])), reverse=True)"
   ]
  },
  {
   "cell_type": "code",
   "execution_count": 9,
   "metadata": {},
   "outputs": [],
   "source": [
    "def pattern_statistics(sorted_pattern_statistics, output='html_table'):\n",
    "    table = []\n",
    "    for pattern_statistic in sorted_pattern_statistics:\n",
    "        pattern = [x.replace(\"[\", \"\").replace(\"]\", \"\")\n",
    "                   for x in pattern_statistic[0].split(\"\\t\")]\n",
    "\n",
    "        if len(pattern) == 5 and len(sorted_pattern_statistics) > 10:\n",
    "            pattern.append(\"\")\n",
    "            pattern.append(\"\")\n",
    "\n",
    "        number_relations = len(set(pattern_statistic[1]))\n",
    "        pattern.append(\"{:,}\".format(number_relations))\n",
    "        table.append(pattern)\n",
    "\n",
    "    if output == 'html_table':\n",
    "        display(HTML(tabulate.tabulate(table, tablefmt='html')))\n",
    "    else:\n",
    "        # print raw latex\n",
    "        for row in table:\n",
    "            print('\\t& '.join(row) + \" \\\\\\\\\")"
   ]
  },
  {
   "cell_type": "code",
   "execution_count": 10,
   "metadata": {},
   "outputs": [
    {
     "data": {
      "text/html": [
       "<table>\n",
       "<tbody>\n",
       "<tr><td>cause/N</td><td>-nsubj    </td><td>cause/VB      </td><td>+dobj     </td><td>effect/N</td><td>904,385</td></tr>\n",
       "<tr><td>cause/N</td><td>-nmod:with</td><td>associated/VBN</td><td>-acl      </td><td>effect/N</td><td>892,908</td></tr>\n",
       "<tr><td>cause/N</td><td>-nsubj    </td><td>lead/VB       </td><td>+nmod:to  </td><td>effect/N</td><td>783,860</td></tr>\n",
       "<tr><td>cause/N</td><td>-nsubj    </td><td>led/VBD       </td><td>+nmod:to  </td><td>effect/N</td><td>724,978</td></tr>\n",
       "<tr><td>cause/N</td><td>-nsubjpass</td><td>associated/VBN</td><td>+nmod:with</td><td>effect/N</td><td>692,666</td></tr>\n",
       "<tr><td>cause/N</td><td>-nmod:by  </td><td>caused/VBN    </td><td>-acl      </td><td>effect/N</td><td>598,639</td></tr>\n",
       "<tr><td>cause/N</td><td>-nsubj    </td><td>result/VB     </td><td>+nmod:in  </td><td>effect/N</td><td>552,352</td></tr>\n",
       "<tr><td>cause/N</td><td>-nsubj    </td><td>causes/VBZ    </td><td>+dobj     </td><td>effect/N</td><td>496,426</td></tr>\n",
       "<tr><td>cause/N</td><td>-nsubj    </td><td>leads/VBZ     </td><td>+nmod:to  </td><td>effect/N</td><td>491,340</td></tr>\n",
       "<tr><td>cause/N</td><td>-nsubj    </td><td>resulted/VBD  </td><td>+nmod:in  </td><td>effect/N</td><td>473,298</td></tr>\n",
       "</tbody>\n",
       "</table>"
      ],
      "text/plain": [
       "<IPython.core.display.HTML object>"
      ]
     },
     "metadata": {},
     "output_type": "display_data"
    }
   ],
   "source": [
    "pattern_statistics(sorted_pattern_statistics[:10])"
   ]
  },
  {
   "cell_type": "markdown",
   "metadata": {},
   "source": [
    "# Table 3: Overview of CauseNet, Overlap and Sources "
   ]
  },
  {
   "cell_type": "markdown",
   "metadata": {},
   "source": [
    "## Overview"
   ]
  },
  {
   "cell_type": "code",
   "execution_count": 11,
   "metadata": {},
   "outputs": [],
   "source": [
    "columns = ['CauseNet', '|V|', '|E|']\n",
    "df_overview = pd.DataFrame(columns=columns).set_index('CauseNet')\n",
    "\n",
    "for causality_graph in causality_graphs:\n",
    "\n",
    "    nodes = []\n",
    "    for sample in causality_graphs[causality_graph]:\n",
    "        nodes.append(sample['causal_relation']['cause']['concept'])\n",
    "        nodes.append(sample['causal_relation']['effect']['concept'])\n",
    "\n",
    "    row = [len(set(nodes)), len(causality_graphs[causality_graph])]\n",
    "    df_overview.loc[causality_graph] = row"
   ]
  },
  {
   "cell_type": "code",
   "execution_count": 12,
   "metadata": {},
   "outputs": [
    {
     "data": {
      "text/html": [
       "<style  type=\"text/css\" >\n",
       "</style><table id=\"T_15914030_dec8_11ea_aff4_005056b8869f\" ><thead>    <tr>        <th class=\"blank level0\" ></th>        <th class=\"col_heading level0 col0\" >|V|</th>        <th class=\"col_heading level0 col1\" >|E|</th>    </tr>    <tr>        <th class=\"index_name level0\" >CauseNet</th>        <th class=\"blank\" ></th>        <th class=\"blank\" ></th>    </tr></thead><tbody>\n",
       "                <tr>\n",
       "                        <th id=\"T_15914030_dec8_11ea_aff4_005056b8869flevel0_row0\" class=\"row_heading level0 row0\" >causenet</th>\n",
       "                        <td id=\"T_15914030_dec8_11ea_aff4_005056b8869frow0_col0\" class=\"data row0 col0\" >12,186,310</td>\n",
       "                        <td id=\"T_15914030_dec8_11ea_aff4_005056b8869frow0_col1\" class=\"data row0 col1\" >11,609,890</td>\n",
       "            </tr>\n",
       "            <tr>\n",
       "                        <th id=\"T_15914030_dec8_11ea_aff4_005056b8869flevel0_row1\" class=\"row_heading level0 row1\" >clueweb12_sentence</th>\n",
       "                        <td id=\"T_15914030_dec8_11ea_aff4_005056b8869frow1_col0\" class=\"data row1 col0\" >11,368,371</td>\n",
       "                        <td id=\"T_15914030_dec8_11ea_aff4_005056b8869frow1_col1\" class=\"data row1 col1\" >10,872,313</td>\n",
       "            </tr>\n",
       "            <tr>\n",
       "                        <th id=\"T_15914030_dec8_11ea_aff4_005056b8869flevel0_row2\" class=\"row_heading level0 row2\" >wikipedia_sentence</th>\n",
       "                        <td id=\"T_15914030_dec8_11ea_aff4_005056b8869frow2_col0\" class=\"data row2 col0\" >1,070,686</td>\n",
       "                        <td id=\"T_15914030_dec8_11ea_aff4_005056b8869frow2_col1\" class=\"data row2 col1\" >793,593</td>\n",
       "            </tr>\n",
       "            <tr>\n",
       "                        <th id=\"T_15914030_dec8_11ea_aff4_005056b8869flevel0_row3\" class=\"row_heading level0 row3\" >wikipedia_list</th>\n",
       "                        <td id=\"T_15914030_dec8_11ea_aff4_005056b8869frow3_col0\" class=\"data row3 col0\" >8,295</td>\n",
       "                        <td id=\"T_15914030_dec8_11ea_aff4_005056b8869frow3_col1\" class=\"data row3 col1\" >10,612</td>\n",
       "            </tr>\n",
       "            <tr>\n",
       "                        <th id=\"T_15914030_dec8_11ea_aff4_005056b8869flevel0_row4\" class=\"row_heading level0 row4\" >wikipedia_infobox</th>\n",
       "                        <td id=\"T_15914030_dec8_11ea_aff4_005056b8869frow4_col0\" class=\"data row4 col0\" >7,201</td>\n",
       "                        <td id=\"T_15914030_dec8_11ea_aff4_005056b8869frow4_col1\" class=\"data row4 col1\" >7,880</td>\n",
       "            </tr>\n",
       "    </tbody></table>"
      ],
      "text/plain": [
       "<pandas.io.formats.style.Styler at 0x7f8849f9ee10>"
      ]
     },
     "execution_count": 12,
     "metadata": {},
     "output_type": "execute_result"
    }
   ],
   "source": [
    "df_overview.style.format(\"{0:,}\")"
   ]
  },
  {
   "cell_type": "markdown",
   "metadata": {},
   "source": [
    "## Intersections"
   ]
  },
  {
   "cell_type": "code",
   "execution_count": 13,
   "metadata": {},
   "outputs": [],
   "source": [
    "intersections = {}\n",
    "for causality_graph in causality_graphs:\n",
    "    if causality_graph == 'causenet':\n",
    "        continue\n",
    "\n",
    "    graph_intersections = {}\n",
    "\n",
    "    for relation in causality_graphs[causality_graph]:\n",
    "        relation_intersections = []\n",
    "        for source in relation['sources']:\n",
    "            if source['type'] == causality_graph:\n",
    "                continue\n",
    "\n",
    "            if source['type'] in relation_intersections:\n",
    "                continue\n",
    "\n",
    "            relation_intersections.append(source['type'])\n",
    "\n",
    "        for source_type in relation_intersections:\n",
    "            intersection = graph_intersections.get(source_type, 0) + 1\n",
    "            graph_intersections[source_type] = intersection\n",
    "\n",
    "    intersections[causality_graph] = graph_intersections"
   ]
  },
  {
   "cell_type": "code",
   "execution_count": 14,
   "metadata": {
    "scrolled": true
   },
   "outputs": [],
   "source": [
    "columns = ['E1', 'E2', r'|E1$\\cap$E2|']\n",
    "df_intersections = pd.DataFrame(columns=columns).set_index(['E1', 'E2'])\n",
    "\n",
    "for e1 in intersections:\n",
    "    for e2 in intersections[e1]:\n",
    "        if (e2, e1) in df_intersections.index:\n",
    "            continue\n",
    "        df_intersections.loc[(e1, e2), r'|E1$\\cap$E2|'] = intersections[e1][e2]\n",
    "\n",
    "df_intersections = df_intersections.astype({r'|E1$\\cap$E2|': int})"
   ]
  },
  {
   "cell_type": "code",
   "execution_count": 15,
   "metadata": {
    "scrolled": true
   },
   "outputs": [
    {
     "data": {
      "text/html": [
       "<style  type=\"text/css\" >\n",
       "</style><table id=\"T_2b1d8eae_dec8_11ea_aff4_005056b8869f\" ><thead>    <tr>        <th class=\"blank\" ></th>        <th class=\"blank level0\" ></th>        <th class=\"col_heading level0 col0\" >|E1$\\cap$E2|</th>    </tr>    <tr>        <th class=\"index_name level0\" >E1</th>        <th class=\"index_name level1\" >E2</th>        <th class=\"blank\" ></th>    </tr></thead><tbody>\n",
       "                <tr>\n",
       "                        <th id=\"T_2b1d8eae_dec8_11ea_aff4_005056b8869flevel0_row0\" class=\"row_heading level0 row0\" rowspan=3>clueweb12_sentence</th>\n",
       "                        <th id=\"T_2b1d8eae_dec8_11ea_aff4_005056b8869flevel1_row0\" class=\"row_heading level1 row0\" >wikipedia_sentence</th>\n",
       "                        <td id=\"T_2b1d8eae_dec8_11ea_aff4_005056b8869frow0_col0\" class=\"data row0 col0\" >72,937</td>\n",
       "            </tr>\n",
       "            <tr>\n",
       "                                <th id=\"T_2b1d8eae_dec8_11ea_aff4_005056b8869flevel1_row1\" class=\"row_heading level1 row1\" >wikipedia_infobox</th>\n",
       "                        <td id=\"T_2b1d8eae_dec8_11ea_aff4_005056b8869frow1_col0\" class=\"data row1 col0\" >939</td>\n",
       "            </tr>\n",
       "            <tr>\n",
       "                                <th id=\"T_2b1d8eae_dec8_11ea_aff4_005056b8869flevel1_row2\" class=\"row_heading level1 row2\" >wikipedia_list</th>\n",
       "                        <td id=\"T_2b1d8eae_dec8_11ea_aff4_005056b8869frow2_col0\" class=\"data row2 col0\" >506</td>\n",
       "            </tr>\n",
       "            <tr>\n",
       "                        <th id=\"T_2b1d8eae_dec8_11ea_aff4_005056b8869flevel0_row3\" class=\"row_heading level0 row3\" >wikipedia_sentence</th>\n",
       "                        <th id=\"T_2b1d8eae_dec8_11ea_aff4_005056b8869flevel1_row3\" class=\"row_heading level1 row3\" >wikipedia_infobox</th>\n",
       "                        <td id=\"T_2b1d8eae_dec8_11ea_aff4_005056b8869frow3_col0\" class=\"data row3 col0\" >209</td>\n",
       "            </tr>\n",
       "            <tr>\n",
       "                        <th id=\"T_2b1d8eae_dec8_11ea_aff4_005056b8869flevel0_row4\" class=\"row_heading level0 row4\" >wikipedia_list</th>\n",
       "                        <th id=\"T_2b1d8eae_dec8_11ea_aff4_005056b8869flevel1_row4\" class=\"row_heading level1 row4\" >wikipedia_infobox</th>\n",
       "                        <td id=\"T_2b1d8eae_dec8_11ea_aff4_005056b8869frow4_col0\" class=\"data row4 col0\" >93</td>\n",
       "            </tr>\n",
       "            <tr>\n",
       "                        <th id=\"T_2b1d8eae_dec8_11ea_aff4_005056b8869flevel0_row5\" class=\"row_heading level0 row5\" >wikipedia_sentence</th>\n",
       "                        <th id=\"T_2b1d8eae_dec8_11ea_aff4_005056b8869flevel1_row5\" class=\"row_heading level1 row5\" >wikipedia_list</th>\n",
       "                        <td id=\"T_2b1d8eae_dec8_11ea_aff4_005056b8869frow5_col0\" class=\"data row5 col0\" >70</td>\n",
       "            </tr>\n",
       "    </tbody></table>"
      ],
      "text/plain": [
       "<pandas.io.formats.style.Styler at 0x7f8737bf4160>"
      ]
     },
     "execution_count": 15,
     "metadata": {},
     "output_type": "execute_result"
    }
   ],
   "source": [
    "df_intersections.sort_values(\n",
    "    by=r'|E1$\\cap$E2|', ascending=False).style.format(\"{0:,}\")"
   ]
  },
  {
   "cell_type": "markdown",
   "metadata": {},
   "source": [
    "## Sources"
   ]
  },
  {
   "cell_type": "code",
   "execution_count": 16,
   "metadata": {},
   "outputs": [],
   "source": [
    "source_counter = {}\n",
    "for relation in causality_graphs['causenet']:\n",
    "    for source in relation['sources']:\n",
    "        for source_type in source_types:\n",
    "            if source_type == source['type']:\n",
    "                if 'wiki' in source_type:\n",
    "                    source_counter.setdefault(source_type, []).append(\n",
    "                        source['payload']['wikipedia_page_id'])\n",
    "                else:\n",
    "                    source_counter.setdefault(source_type, []).append(\n",
    "                        source['payload']['clueweb12_page_reference'])"
   ]
  },
  {
   "cell_type": "code",
   "execution_count": 17,
   "metadata": {},
   "outputs": [],
   "source": [
    "for source_type in source_counter:\n",
    "    source_counter[source_type] = len(set(source_counter[source_type]))"
   ]
  },
  {
   "cell_type": "code",
   "execution_count": 18,
   "metadata": {},
   "outputs": [],
   "source": [
    "columns = ['Source', 'Pages/Articles']\n",
    "df_sources = pd.DataFrame(columns=columns).set_index(['Source'])\n",
    "\n",
    "for source in source_counter:\n",
    "    df_sources.loc[source] = source_counter[source]"
   ]
  },
  {
   "cell_type": "code",
   "execution_count": 19,
   "metadata": {},
   "outputs": [
    {
     "data": {
      "text/html": [
       "<style  type=\"text/css\" >\n",
       "</style><table id=\"T_4b737cc2_dec8_11ea_aff4_005056b8869f\" ><thead>    <tr>        <th class=\"blank level0\" ></th>        <th class=\"col_heading level0 col0\" >Pages/Articles</th>    </tr>    <tr>        <th class=\"index_name level0\" >Source</th>        <th class=\"blank\" ></th>    </tr></thead><tbody>\n",
       "                <tr>\n",
       "                        <th id=\"T_4b737cc2_dec8_11ea_aff4_005056b8869flevel0_row0\" class=\"row_heading level0 row0\" >clueweb12_sentence</th>\n",
       "                        <td id=\"T_4b737cc2_dec8_11ea_aff4_005056b8869frow0_col0\" class=\"data row0 col0\" >12,111,758</td>\n",
       "            </tr>\n",
       "            <tr>\n",
       "                        <th id=\"T_4b737cc2_dec8_11ea_aff4_005056b8869flevel0_row1\" class=\"row_heading level0 row1\" >wikipedia_sentence</th>\n",
       "                        <td id=\"T_4b737cc2_dec8_11ea_aff4_005056b8869frow1_col0\" class=\"data row1 col0\" >427,893</td>\n",
       "            </tr>\n",
       "            <tr>\n",
       "                        <th id=\"T_4b737cc2_dec8_11ea_aff4_005056b8869flevel0_row2\" class=\"row_heading level0 row2\" >wikipedia_infobox</th>\n",
       "                        <td id=\"T_4b737cc2_dec8_11ea_aff4_005056b8869frow2_col0\" class=\"data row2 col0\" >2,725</td>\n",
       "            </tr>\n",
       "            <tr>\n",
       "                        <th id=\"T_4b737cc2_dec8_11ea_aff4_005056b8869flevel0_row3\" class=\"row_heading level0 row3\" >wikipedia_list</th>\n",
       "                        <td id=\"T_4b737cc2_dec8_11ea_aff4_005056b8869frow3_col0\" class=\"data row3 col0\" >1,194</td>\n",
       "            </tr>\n",
       "    </tbody></table>"
      ],
      "text/plain": [
       "<pandas.io.formats.style.Styler at 0x7f8737c03e10>"
      ]
     },
     "execution_count": 19,
     "metadata": {},
     "output_type": "execute_result"
    }
   ],
   "source": [
    "df_sources.sort_values(by='Pages/Articles',\n",
    "                       ascending=False).style.format(\"{0:,}\")"
   ]
  },
  {
   "cell_type": "code",
   "execution_count": 20,
   "metadata": {},
   "outputs": [],
   "source": [
    "def is_valid_article(title):\n",
    "    forbidden_title_parts = ['Wikipedia:', 'Template:', 'File:',\n",
    "                             'Portal:', 'Category:', 'Draft:',\n",
    "                             'List of', 'disambiguation']\n",
    "\n",
    "    contains_forbidden_title_part = False\n",
    "    for forbidden_title_part in forbidden_title_parts:\n",
    "        if forbidden_title_part in title:\n",
    "            contains_forbidden_title_part = True\n",
    "            break\n",
    "    return not contains_forbidden_title_part"
   ]
  },
  {
   "cell_type": "code",
   "execution_count": 21,
   "metadata": {},
   "outputs": [],
   "source": [
    "wikipedia_number_articles = 0\n",
    "\n",
    "for line in open(PATH_WIKIPEDIA_EXTRACTION, encoding=\"utf-8\"):\n",
    "    parts = line.strip().split('\\t')\n",
    "    if parts[0] != 'wikipedia_page':\n",
    "        continue\n",
    "    if len(parts) != 2:\n",
    "        continue\n",
    "    if not is_valid_article(parts[1]):\n",
    "        continue\n",
    "    wikipedia_number_articles += 1"
   ]
  },
  {
   "cell_type": "code",
   "execution_count": 22,
   "metadata": {},
   "outputs": [
    {
     "name": "stdout",
     "output_type": "stream",
     "text": [
      "Wikipedia total number of articles:\n",
      "5,208,098\n"
     ]
    }
   ],
   "source": [
    "print(f\"Wikipedia total number of articles:\")\n",
    "print(f\"{wikipedia_number_articles:,}\")"
   ]
  },
  {
   "cell_type": "markdown",
   "metadata": {},
   "source": [
    "# Table 4: Source analysis"
   ]
  },
  {
   "cell_type": "markdown",
   "metadata": {},
   "source": [
    "## ClueWeb"
   ]
  },
  {
   "cell_type": "code",
   "execution_count": 23,
   "metadata": {},
   "outputs": [],
   "source": [
    "hostname_to_relations = {}\n",
    "domains_to_relations = {}\n",
    "tld_to_relations = {}\n",
    "domains_to_subdomains = {}\n",
    "\n",
    "for relation in causality_graphs['clueweb12_sentence']:\n",
    "    for source in relation['sources']:\n",
    "        if source['type'] != 'clueweb12_sentence':\n",
    "            continue\n",
    "        url = source['payload']['clueweb12_page_reference']\n",
    "        hostname = '{uri.netloc}'.format(uri=urlparse(url))\n",
    "\n",
    "        processed_url = tldextract.extract(url)\n",
    "        subdomain = processed_url.subdomain\n",
    "        domain = processed_url.registered_domain\n",
    "        tld = processed_url.suffix\n",
    "\n",
    "        relation_key = str(relation['causal_relation'])\n",
    "        hostname_to_relations.setdefault(hostname, []).append(relation_key)\n",
    "        domains_to_subdomains.setdefault(domain, []).append(subdomain)\n",
    "        domains_to_relations.setdefault(domain, []).append(relation_key)\n",
    "        tld_to_relations.setdefault(tld, []).append(relation_key)"
   ]
  },
  {
   "cell_type": "code",
   "execution_count": 24,
   "metadata": {},
   "outputs": [],
   "source": [
    "sources = [hostname_to_relations, domains_to_subdomains,\n",
    "           domains_to_relations, tld_to_relations]\n",
    "for source_dict in sources:\n",
    "    for key in source_dict:\n",
    "        source_dict[key] = len(set(source_dict[key]))"
   ]
  },
  {
   "cell_type": "code",
   "execution_count": 25,
   "metadata": {},
   "outputs": [],
   "source": [
    "sorted_hostname_to_relations = sorted(\n",
    "    hostname_to_relations.items(), key=lambda x: x[1], reverse=True)\n",
    "sorted_domains_to_relations = sorted(\n",
    "    domains_to_relations.items(), key=lambda x: x[1], reverse=True)\n",
    "sorted_tld_to_relations = sorted(\n",
    "    tld_to_relations.items(), key=lambda x: x[1], reverse=True)"
   ]
  },
  {
   "cell_type": "code",
   "execution_count": 26,
   "metadata": {},
   "outputs": [],
   "source": [
    "# manually defined categories\n",
    "columns = ['Hostname', 'Category', '|E|']\n",
    "df_sources = pd.DataFrame(columns=columns).set_index(['Hostname'])\n",
    "categories = [\"Science\", \"Science\", \"Science\", \"Regional\",\n",
    "              \"Science\", \"Science\", \"Reference\", \"Reference\",\n",
    "              \"Reference\", \"Science\", \"Business\", \"News\",\n",
    "              \"News\", \"Computers\", \"Reference\"]\n",
    "for i in range(15):\n",
    "    short_name = str(sorted_hostname_to_relations[i][0]).replace('www.', '')\n",
    "    df_sources.loc[short_name] = [\n",
    "        categories[i], sorted_hostname_to_relations[i][1]]"
   ]
  },
  {
   "cell_type": "code",
   "execution_count": 27,
   "metadata": {},
   "outputs": [
    {
     "data": {
      "text/html": [
       "<style  type=\"text/css\" >\n",
       "</style><table id=\"T_4c26f5e8_deca_11ea_aff4_005056b8869f\" ><thead>    <tr>        <th class=\"blank level0\" ></th>        <th class=\"col_heading level0 col0\" >Category</th>        <th class=\"col_heading level0 col1\" >|E|</th>    </tr>    <tr>        <th class=\"index_name level0\" >Hostname</th>        <th class=\"blank\" ></th>        <th class=\"blank\" ></th>    </tr></thead><tbody>\n",
       "                <tr>\n",
       "                        <th id=\"T_4c26f5e8_deca_11ea_aff4_005056b8869flevel0_row0\" class=\"row_heading level0 row0\" >sdbonline.org</th>\n",
       "                        <td id=\"T_4c26f5e8_deca_11ea_aff4_005056b8869frow0_col0\" class=\"data row0 col0\" >Science</td>\n",
       "                        <td id=\"T_4c26f5e8_deca_11ea_aff4_005056b8869frow0_col1\" class=\"data row0 col1\" >26,517</td>\n",
       "            </tr>\n",
       "            <tr>\n",
       "                        <th id=\"T_4c26f5e8_deca_11ea_aff4_005056b8869flevel0_row1\" class=\"row_heading level0 row1\" >bionewsonline.com</th>\n",
       "                        <td id=\"T_4c26f5e8_deca_11ea_aff4_005056b8869frow1_col0\" class=\"data row1 col0\" >Science</td>\n",
       "                        <td id=\"T_4c26f5e8_deca_11ea_aff4_005056b8869frow1_col1\" class=\"data row1 col1\" >25,212</td>\n",
       "            </tr>\n",
       "            <tr>\n",
       "                        <th id=\"T_4c26f5e8_deca_11ea_aff4_005056b8869flevel0_row2\" class=\"row_heading level0 row2\" >jci.org</th>\n",
       "                        <td id=\"T_4c26f5e8_deca_11ea_aff4_005056b8869frow2_col0\" class=\"data row2 col0\" >Science</td>\n",
       "                        <td id=\"T_4c26f5e8_deca_11ea_aff4_005056b8869frow2_col1\" class=\"data row2 col1\" >16,081</td>\n",
       "            </tr>\n",
       "            <tr>\n",
       "                        <th id=\"T_4c26f5e8_deca_11ea_aff4_005056b8869flevel0_row3\" class=\"row_heading level0 row3\" >sec.gov</th>\n",
       "                        <td id=\"T_4c26f5e8_deca_11ea_aff4_005056b8869frow3_col0\" class=\"data row3 col0\" >Regional</td>\n",
       "                        <td id=\"T_4c26f5e8_deca_11ea_aff4_005056b8869frow3_col1\" class=\"data row3 col1\" >13,907</td>\n",
       "            </tr>\n",
       "            <tr>\n",
       "                        <th id=\"T_4c26f5e8_deca_11ea_aff4_005056b8869flevel0_row4\" class=\"row_heading level0 row4\" >plosone.org</th>\n",
       "                        <td id=\"T_4c26f5e8_deca_11ea_aff4_005056b8869frow4_col0\" class=\"data row4 col0\" >Science</td>\n",
       "                        <td id=\"T_4c26f5e8_deca_11ea_aff4_005056b8869frow4_col1\" class=\"data row4 col1\" >12,722</td>\n",
       "            </tr>\n",
       "            <tr>\n",
       "                        <th id=\"T_4c26f5e8_deca_11ea_aff4_005056b8869flevel0_row5\" class=\"row_heading level0 row5\" >molvis.org</th>\n",
       "                        <td id=\"T_4c26f5e8_deca_11ea_aff4_005056b8869frow5_col0\" class=\"data row5 col0\" >Science</td>\n",
       "                        <td id=\"T_4c26f5e8_deca_11ea_aff4_005056b8869frow5_col1\" class=\"data row5 col1\" >9,544</td>\n",
       "            </tr>\n",
       "            <tr>\n",
       "                        <th id=\"T_4c26f5e8_deca_11ea_aff4_005056b8869flevel0_row6\" class=\"row_heading level0 row6\" >neurotransmitter.net</th>\n",
       "                        <td id=\"T_4c26f5e8_deca_11ea_aff4_005056b8869frow6_col0\" class=\"data row6 col0\" >Reference</td>\n",
       "                        <td id=\"T_4c26f5e8_deca_11ea_aff4_005056b8869frow6_col1\" class=\"data row6 col1\" >8,842</td>\n",
       "            </tr>\n",
       "            <tr>\n",
       "                        <th id=\"T_4c26f5e8_deca_11ea_aff4_005056b8869flevel0_row7\" class=\"row_heading level0 row7\" >diseaseinformation.info</th>\n",
       "                        <td id=\"T_4c26f5e8_deca_11ea_aff4_005056b8869frow7_col0\" class=\"data row7 col0\" >Reference</td>\n",
       "                        <td id=\"T_4c26f5e8_deca_11ea_aff4_005056b8869frow7_col1\" class=\"data row7 col1\" >8,829</td>\n",
       "            </tr>\n",
       "            <tr>\n",
       "                        <th id=\"T_4c26f5e8_deca_11ea_aff4_005056b8869flevel0_row8\" class=\"row_heading level0 row8\" >leninist.biz</th>\n",
       "                        <td id=\"T_4c26f5e8_deca_11ea_aff4_005056b8869frow8_col0\" class=\"data row8 col0\" >Reference</td>\n",
       "                        <td id=\"T_4c26f5e8_deca_11ea_aff4_005056b8869frow8_col1\" class=\"data row8 col1\" >8,033</td>\n",
       "            </tr>\n",
       "            <tr>\n",
       "                        <th id=\"T_4c26f5e8_deca_11ea_aff4_005056b8869flevel0_row9\" class=\"row_heading level0 row9\" >lansbury.bwh.harvard.edu</th>\n",
       "                        <td id=\"T_4c26f5e8_deca_11ea_aff4_005056b8869frow9_col0\" class=\"data row9 col0\" >Science</td>\n",
       "                        <td id=\"T_4c26f5e8_deca_11ea_aff4_005056b8869frow9_col1\" class=\"data row9 col1\" >7,828</td>\n",
       "            </tr>\n",
       "            <tr>\n",
       "                        <th id=\"T_4c26f5e8_deca_11ea_aff4_005056b8869flevel0_row10\" class=\"row_heading level0 row10\" >pharmcast.com</th>\n",
       "                        <td id=\"T_4c26f5e8_deca_11ea_aff4_005056b8869frow10_col0\" class=\"data row10 col0\" >Business</td>\n",
       "                        <td id=\"T_4c26f5e8_deca_11ea_aff4_005056b8869frow10_col1\" class=\"data row10 col1\" >7,817</td>\n",
       "            </tr>\n",
       "            <tr>\n",
       "                        <th id=\"T_4c26f5e8_deca_11ea_aff4_005056b8869flevel0_row11\" class=\"row_heading level0 row11\" >cnn.tv</th>\n",
       "                        <td id=\"T_4c26f5e8_deca_11ea_aff4_005056b8869frow11_col0\" class=\"data row11 col0\" >News</td>\n",
       "                        <td id=\"T_4c26f5e8_deca_11ea_aff4_005056b8869frow11_col1\" class=\"data row11 col1\" >7,477</td>\n",
       "            </tr>\n",
       "            <tr>\n",
       "                        <th id=\"T_4c26f5e8_deca_11ea_aff4_005056b8869flevel0_row12\" class=\"row_heading level0 row12\" >nucnews.net</th>\n",
       "                        <td id=\"T_4c26f5e8_deca_11ea_aff4_005056b8869frow12_col0\" class=\"data row12 col0\" >News</td>\n",
       "                        <td id=\"T_4c26f5e8_deca_11ea_aff4_005056b8869frow12_col1\" class=\"data row12 col1\" >7,370</td>\n",
       "            </tr>\n",
       "            <tr>\n",
       "                        <th id=\"T_4c26f5e8_deca_11ea_aff4_005056b8869flevel0_row13\" class=\"row_heading level0 row13\" >corrupteddatarecovery.com</th>\n",
       "                        <td id=\"T_4c26f5e8_deca_11ea_aff4_005056b8869frow13_col0\" class=\"data row13 col0\" >Computers</td>\n",
       "                        <td id=\"T_4c26f5e8_deca_11ea_aff4_005056b8869frow13_col1\" class=\"data row13 col1\" >6,629</td>\n",
       "            </tr>\n",
       "            <tr>\n",
       "                        <th id=\"T_4c26f5e8_deca_11ea_aff4_005056b8869flevel0_row14\" class=\"row_heading level0 row14\" >pediaview.com</th>\n",
       "                        <td id=\"T_4c26f5e8_deca_11ea_aff4_005056b8869frow14_col0\" class=\"data row14 col0\" >Reference</td>\n",
       "                        <td id=\"T_4c26f5e8_deca_11ea_aff4_005056b8869frow14_col1\" class=\"data row14 col1\" >6,147</td>\n",
       "            </tr>\n",
       "    </tbody></table>"
      ],
      "text/plain": [
       "<pandas.io.formats.style.Styler at 0x7f865d0b6780>"
      ]
     },
     "execution_count": 27,
     "metadata": {},
     "output_type": "execute_result"
    }
   ],
   "source": [
    "df_sources.style.format({'|E|': \"{0:,}\"})"
   ]
  },
  {
   "cell_type": "code",
   "execution_count": 28,
   "metadata": {},
   "outputs": [
    {
     "name": "stdout",
     "output_type": "stream",
     "text": [
      "Total hostnames: 842,698\n",
      "Average relations: 18\n"
     ]
    }
   ],
   "source": [
    "print(\"Total hostnames: \" + str(f'{len(hostname_to_relations):,}'))\n",
    "mean_relations = sum(hostname_to_relations.values())\n",
    "mean_relations = str(round(mean_relations/len(hostname_to_relations)))\n",
    "print(\"Average relations: \" + mean_relations)"
   ]
  },
  {
   "cell_type": "code",
   "execution_count": 29,
   "metadata": {},
   "outputs": [],
   "source": [
    "columns = ['Hostname', 'Category', '|Subdomains|', '|E|']\n",
    "df_sources = pd.DataFrame(columns=columns).set_index(['Hostname'])\n",
    "# manually defined categories\n",
    "categories = [\"Science\", \"Society\", \"Society\", \"Society\",\n",
    "              \"Regional\", \"Arts\", \"Reference\", \"Society\",\n",
    "              \"Science\", \"Science\", \"Reference\", \"Regional\",\n",
    "              \"Science\", \"Regional\", \"Reference\"]\n",
    "for i in range(15):\n",
    "    df_sources.loc[sorted_domains_to_relations[i][0]] = [\n",
    "        categories[i],\n",
    "        domains_to_subdomains[sorted_domains_to_relations[i][0]],\n",
    "        sorted_domains_to_relations[i][1],\n",
    "    ]"
   ]
  },
  {
   "cell_type": "code",
   "execution_count": 30,
   "metadata": {},
   "outputs": [
    {
     "data": {
      "text/html": [
       "<style  type=\"text/css\" >\n",
       "</style><table id=\"T_4c35a804_deca_11ea_aff4_005056b8869f\" ><thead>    <tr>        <th class=\"blank level0\" ></th>        <th class=\"col_heading level0 col0\" >Category</th>        <th class=\"col_heading level0 col1\" >|Subdomains|</th>        <th class=\"col_heading level0 col2\" >|E|</th>    </tr>    <tr>        <th class=\"index_name level0\" >Hostname</th>        <th class=\"blank\" ></th>        <th class=\"blank\" ></th>        <th class=\"blank\" ></th>    </tr></thead><tbody>\n",
       "                <tr>\n",
       "                        <th id=\"T_4c35a804_deca_11ea_aff4_005056b8869flevel0_row0\" class=\"row_heading level0 row0\" >researchtoday.net</th>\n",
       "                        <td id=\"T_4c35a804_deca_11ea_aff4_005056b8869frow0_col0\" class=\"data row0 col0\" >Science</td>\n",
       "                        <td id=\"T_4c35a804_deca_11ea_aff4_005056b8869frow0_col1\" class=\"data row0 col1\" >302</td>\n",
       "                        <td id=\"T_4c35a804_deca_11ea_aff4_005056b8869frow0_col2\" class=\"data row0 col2\" >125,728</td>\n",
       "            </tr>\n",
       "            <tr>\n",
       "                        <th id=\"T_4c35a804_deca_11ea_aff4_005056b8869flevel0_row1\" class=\"row_heading level0 row1\" >wordpress.com</th>\n",
       "                        <td id=\"T_4c35a804_deca_11ea_aff4_005056b8869frow1_col0\" class=\"data row1 col0\" >Society</td>\n",
       "                        <td id=\"T_4c35a804_deca_11ea_aff4_005056b8869frow1_col1\" class=\"data row1 col1\" >6,835</td>\n",
       "                        <td id=\"T_4c35a804_deca_11ea_aff4_005056b8869frow1_col2\" class=\"data row1 col2\" >91,230</td>\n",
       "            </tr>\n",
       "            <tr>\n",
       "                        <th id=\"T_4c35a804_deca_11ea_aff4_005056b8869flevel0_row2\" class=\"row_heading level0 row2\" >typepad.com</th>\n",
       "                        <td id=\"T_4c35a804_deca_11ea_aff4_005056b8869frow2_col0\" class=\"data row2 col0\" >Society</td>\n",
       "                        <td id=\"T_4c35a804_deca_11ea_aff4_005056b8869frow2_col1\" class=\"data row2 col1\" >5,687</td>\n",
       "                        <td id=\"T_4c35a804_deca_11ea_aff4_005056b8869frow2_col2\" class=\"data row2 col2\" >72,357</td>\n",
       "            </tr>\n",
       "            <tr>\n",
       "                        <th id=\"T_4c35a804_deca_11ea_aff4_005056b8869flevel0_row3\" class=\"row_heading level0 row3\" >hubpages.com</th>\n",
       "                        <td id=\"T_4c35a804_deca_11ea_aff4_005056b8869frow3_col0\" class=\"data row3 col0\" >Society</td>\n",
       "                        <td id=\"T_4c35a804_deca_11ea_aff4_005056b8869frow3_col1\" class=\"data row3 col1\" >4,370</td>\n",
       "                        <td id=\"T_4c35a804_deca_11ea_aff4_005056b8869frow3_col2\" class=\"data row3 col2\" >40,473</td>\n",
       "            </tr>\n",
       "            <tr>\n",
       "                        <th id=\"T_4c35a804_deca_11ea_aff4_005056b8869flevel0_row4\" class=\"row_heading level0 row4\" >nih.gov</th>\n",
       "                        <td id=\"T_4c35a804_deca_11ea_aff4_005056b8869frow4_col0\" class=\"data row4 col0\" >Regional</td>\n",
       "                        <td id=\"T_4c35a804_deca_11ea_aff4_005056b8869frow4_col1\" class=\"data row4 col1\" >368</td>\n",
       "                        <td id=\"T_4c35a804_deca_11ea_aff4_005056b8869frow4_col2\" class=\"data row4 col2\" >40,280</td>\n",
       "            </tr>\n",
       "            <tr>\n",
       "                        <th id=\"T_4c35a804_deca_11ea_aff4_005056b8869flevel0_row5\" class=\"row_heading level0 row5\" >deviantart.com</th>\n",
       "                        <td id=\"T_4c35a804_deca_11ea_aff4_005056b8869frow5_col0\" class=\"data row5 col0\" >Arts</td>\n",
       "                        <td id=\"T_4c35a804_deca_11ea_aff4_005056b8869frow5_col1\" class=\"data row5 col1\" >20,365</td>\n",
       "                        <td id=\"T_4c35a804_deca_11ea_aff4_005056b8869frow5_col2\" class=\"data row5 col2\" >40,064</td>\n",
       "            </tr>\n",
       "            <tr>\n",
       "                        <th id=\"T_4c35a804_deca_11ea_aff4_005056b8869flevel0_row6\" class=\"row_heading level0 row6\" >about.com</th>\n",
       "                        <td id=\"T_4c35a804_deca_11ea_aff4_005056b8869frow6_col0\" class=\"data row6 col0\" >Reference</td>\n",
       "                        <td id=\"T_4c35a804_deca_11ea_aff4_005056b8869frow6_col1\" class=\"data row6 col1\" >828</td>\n",
       "                        <td id=\"T_4c35a804_deca_11ea_aff4_005056b8869frow6_col2\" class=\"data row6 col2\" >36,363</td>\n",
       "            </tr>\n",
       "            <tr>\n",
       "                        <th id=\"T_4c35a804_deca_11ea_aff4_005056b8869flevel0_row7\" class=\"row_heading level0 row7\" >tripod.com</th>\n",
       "                        <td id=\"T_4c35a804_deca_11ea_aff4_005056b8869frow7_col0\" class=\"data row7 col0\" >Society</td>\n",
       "                        <td id=\"T_4c35a804_deca_11ea_aff4_005056b8869frow7_col1\" class=\"data row7 col1\" >1,877</td>\n",
       "                        <td id=\"T_4c35a804_deca_11ea_aff4_005056b8869frow7_col2\" class=\"data row7 col2\" >31,131</td>\n",
       "            </tr>\n",
       "            <tr>\n",
       "                        <th id=\"T_4c35a804_deca_11ea_aff4_005056b8869flevel0_row8\" class=\"row_heading level0 row8\" >sdbonline.org</th>\n",
       "                        <td id=\"T_4c35a804_deca_11ea_aff4_005056b8869frow8_col0\" class=\"data row8 col0\" >Science</td>\n",
       "                        <td id=\"T_4c35a804_deca_11ea_aff4_005056b8869frow8_col1\" class=\"data row8 col1\" >1</td>\n",
       "                        <td id=\"T_4c35a804_deca_11ea_aff4_005056b8869frow8_col2\" class=\"data row8 col2\" >26,517</td>\n",
       "            </tr>\n",
       "            <tr>\n",
       "                        <th id=\"T_4c35a804_deca_11ea_aff4_005056b8869flevel0_row9\" class=\"row_heading level0 row9\" >bionewsonline.com</th>\n",
       "                        <td id=\"T_4c35a804_deca_11ea_aff4_005056b8869frow9_col0\" class=\"data row9 col0\" >Science</td>\n",
       "                        <td id=\"T_4c35a804_deca_11ea_aff4_005056b8869frow9_col1\" class=\"data row9 col1\" >1</td>\n",
       "                        <td id=\"T_4c35a804_deca_11ea_aff4_005056b8869frow9_col2\" class=\"data row9 col2\" >25,212</td>\n",
       "            </tr>\n",
       "            <tr>\n",
       "                        <th id=\"T_4c35a804_deca_11ea_aff4_005056b8869flevel0_row10\" class=\"row_heading level0 row10\" >harvard.edu</th>\n",
       "                        <td id=\"T_4c35a804_deca_11ea_aff4_005056b8869frow10_col0\" class=\"data row10 col0\" >Reference</td>\n",
       "                        <td id=\"T_4c35a804_deca_11ea_aff4_005056b8869frow10_col1\" class=\"data row10 col1\" >438</td>\n",
       "                        <td id=\"T_4c35a804_deca_11ea_aff4_005056b8869frow10_col2\" class=\"data row10 col2\" >22,072</td>\n",
       "            </tr>\n",
       "            <tr>\n",
       "                        <th id=\"T_4c35a804_deca_11ea_aff4_005056b8869flevel0_row11\" class=\"row_heading level0 row11\" >ca.gov</th>\n",
       "                        <td id=\"T_4c35a804_deca_11ea_aff4_005056b8869frow11_col0\" class=\"data row11 col0\" >Regional</td>\n",
       "                        <td id=\"T_4c35a804_deca_11ea_aff4_005056b8869frow11_col1\" class=\"data row11 col1\" >437</td>\n",
       "                        <td id=\"T_4c35a804_deca_11ea_aff4_005056b8869frow11_col2\" class=\"data row11 col2\" >17,356</td>\n",
       "            </tr>\n",
       "            <tr>\n",
       "                        <th id=\"T_4c35a804_deca_11ea_aff4_005056b8869flevel0_row12\" class=\"row_heading level0 row12\" >confex.com</th>\n",
       "                        <td id=\"T_4c35a804_deca_11ea_aff4_005056b8869frow12_col0\" class=\"data row12 col0\" >Science</td>\n",
       "                        <td id=\"T_4c35a804_deca_11ea_aff4_005056b8869frow12_col1\" class=\"data row12 col1\" >44</td>\n",
       "                        <td id=\"T_4c35a804_deca_11ea_aff4_005056b8869frow12_col2\" class=\"data row12 col2\" >17,108</td>\n",
       "            </tr>\n",
       "            <tr>\n",
       "                        <th id=\"T_4c35a804_deca_11ea_aff4_005056b8869flevel0_row13\" class=\"row_heading level0 row13\" >sec.gov</th>\n",
       "                        <td id=\"T_4c35a804_deca_11ea_aff4_005056b8869frow13_col0\" class=\"data row13 col0\" >Regional</td>\n",
       "                        <td id=\"T_4c35a804_deca_11ea_aff4_005056b8869frow13_col1\" class=\"data row13 col1\" >5</td>\n",
       "                        <td id=\"T_4c35a804_deca_11ea_aff4_005056b8869frow13_col2\" class=\"data row13 col2\" >16,641</td>\n",
       "            </tr>\n",
       "            <tr>\n",
       "                        <th id=\"T_4c35a804_deca_11ea_aff4_005056b8869flevel0_row14\" class=\"row_heading level0 row14\" >stanford.edu</th>\n",
       "                        <td id=\"T_4c35a804_deca_11ea_aff4_005056b8869frow14_col0\" class=\"data row14 col0\" >Reference</td>\n",
       "                        <td id=\"T_4c35a804_deca_11ea_aff4_005056b8869frow14_col1\" class=\"data row14 col1\" >582</td>\n",
       "                        <td id=\"T_4c35a804_deca_11ea_aff4_005056b8869frow14_col2\" class=\"data row14 col2\" >16,300</td>\n",
       "            </tr>\n",
       "    </tbody></table>"
      ],
      "text/plain": [
       "<pandas.io.formats.style.Styler at 0x7f865d0b6518>"
      ]
     },
     "execution_count": 30,
     "metadata": {},
     "output_type": "execute_result"
    }
   ],
   "source": [
    "df_sources.style.format({'|E|': \"{0:,}\", \"|Subdomains|\": \"{0:,}\"})"
   ]
  },
  {
   "cell_type": "code",
   "execution_count": 31,
   "metadata": {},
   "outputs": [
    {
     "name": "stdout",
     "output_type": "stream",
     "text": [
      "Total hostnames: 635,861\n",
      "Average relations: 22\n"
     ]
    }
   ],
   "source": [
    "print(\"Total hostnames: \" + str(f'{len(domains_to_relations):,}'))\n",
    "mean_relations = sum(domains_to_relations.values())\n",
    "mean_relations = str(round(mean_relations/len(domains_to_relations)))\n",
    "print(\"Average relations: \" + mean_relations)"
   ]
  },
  {
   "cell_type": "code",
   "execution_count": 32,
   "metadata": {},
   "outputs": [],
   "source": [
    "df_sources = pd.DataFrame(columns=['TLD', '|E|']).set_index(['TLD'])\n",
    "for tld in sorted_tld_to_relations[:15]:\n",
    "    df_sources.loc[tld[0]] = tld[1]"
   ]
  },
  {
   "cell_type": "code",
   "execution_count": 33,
   "metadata": {},
   "outputs": [
    {
     "data": {
      "text/html": [
       "<style  type=\"text/css\" >\n",
       "</style><table id=\"T_4c40f2fe_deca_11ea_aff4_005056b8869f\" ><thead>    <tr>        <th class=\"blank level0\" ></th>        <th class=\"col_heading level0 col0\" >|E|</th>    </tr>    <tr>        <th class=\"index_name level0\" >TLD</th>        <th class=\"blank\" ></th>    </tr></thead><tbody>\n",
       "                <tr>\n",
       "                        <th id=\"T_4c40f2fe_deca_11ea_aff4_005056b8869flevel0_row0\" class=\"row_heading level0 row0\" >com</th>\n",
       "                        <td id=\"T_4c40f2fe_deca_11ea_aff4_005056b8869frow0_col0\" class=\"data row0 col0\" >5,597,297</td>\n",
       "            </tr>\n",
       "            <tr>\n",
       "                        <th id=\"T_4c40f2fe_deca_11ea_aff4_005056b8869flevel0_row1\" class=\"row_heading level0 row1\" >org</th>\n",
       "                        <td id=\"T_4c40f2fe_deca_11ea_aff4_005056b8869frow1_col0\" class=\"data row1 col0\" >2,590,683</td>\n",
       "            </tr>\n",
       "            <tr>\n",
       "                        <th id=\"T_4c40f2fe_deca_11ea_aff4_005056b8869flevel0_row2\" class=\"row_heading level0 row2\" >net</th>\n",
       "                        <td id=\"T_4c40f2fe_deca_11ea_aff4_005056b8869frow2_col0\" class=\"data row2 col0\" >793,937</td>\n",
       "            </tr>\n",
       "            <tr>\n",
       "                        <th id=\"T_4c40f2fe_deca_11ea_aff4_005056b8869flevel0_row3\" class=\"row_heading level0 row3\" >edu</th>\n",
       "                        <td id=\"T_4c40f2fe_deca_11ea_aff4_005056b8869frow3_col0\" class=\"data row3 col0\" >766,731</td>\n",
       "            </tr>\n",
       "            <tr>\n",
       "                        <th id=\"T_4c40f2fe_deca_11ea_aff4_005056b8869flevel0_row4\" class=\"row_heading level0 row4\" >gov</th>\n",
       "                        <td id=\"T_4c40f2fe_deca_11ea_aff4_005056b8869frow4_col0\" class=\"data row4 col0\" >320,263</td>\n",
       "            </tr>\n",
       "            <tr>\n",
       "                        <th id=\"T_4c40f2fe_deca_11ea_aff4_005056b8869flevel0_row5\" class=\"row_heading level0 row5\" >co.uk</th>\n",
       "                        <td id=\"T_4c40f2fe_deca_11ea_aff4_005056b8869frow5_col0\" class=\"data row5 col0\" >229,834</td>\n",
       "            </tr>\n",
       "            <tr>\n",
       "                        <th id=\"T_4c40f2fe_deca_11ea_aff4_005056b8869flevel0_row6\" class=\"row_heading level0 row6\" >ca</th>\n",
       "                        <td id=\"T_4c40f2fe_deca_11ea_aff4_005056b8869frow6_col0\" class=\"data row6 col0\" >185,661</td>\n",
       "            </tr>\n",
       "            <tr>\n",
       "                        <th id=\"T_4c40f2fe_deca_11ea_aff4_005056b8869flevel0_row7\" class=\"row_heading level0 row7\" >info</th>\n",
       "                        <td id=\"T_4c40f2fe_deca_11ea_aff4_005056b8869frow7_col0\" class=\"data row7 col0\" >138,519</td>\n",
       "            </tr>\n",
       "            <tr>\n",
       "                        <th id=\"T_4c40f2fe_deca_11ea_aff4_005056b8869flevel0_row8\" class=\"row_heading level0 row8\" >org.uk</th>\n",
       "                        <td id=\"T_4c40f2fe_deca_11ea_aff4_005056b8869frow8_col0\" class=\"data row8 col0\" >111,697</td>\n",
       "            </tr>\n",
       "            <tr>\n",
       "                        <th id=\"T_4c40f2fe_deca_11ea_aff4_005056b8869flevel0_row9\" class=\"row_heading level0 row9\" >ac.uk</th>\n",
       "                        <td id=\"T_4c40f2fe_deca_11ea_aff4_005056b8869frow9_col0\" class=\"data row9 col0\" >85,304</td>\n",
       "            </tr>\n",
       "            <tr>\n",
       "                        <th id=\"T_4c40f2fe_deca_11ea_aff4_005056b8869flevel0_row10\" class=\"row_heading level0 row10\" >de</th>\n",
       "                        <td id=\"T_4c40f2fe_deca_11ea_aff4_005056b8869frow10_col0\" class=\"data row10 col0\" >72,532</td>\n",
       "            </tr>\n",
       "            <tr>\n",
       "                        <th id=\"T_4c40f2fe_deca_11ea_aff4_005056b8869flevel0_row11\" class=\"row_heading level0 row11\" >com.au</th>\n",
       "                        <td id=\"T_4c40f2fe_deca_11ea_aff4_005056b8869frow11_col0\" class=\"data row11 col0\" >71,478</td>\n",
       "            </tr>\n",
       "            <tr>\n",
       "                        <th id=\"T_4c40f2fe_deca_11ea_aff4_005056b8869flevel0_row12\" class=\"row_heading level0 row12\" >us</th>\n",
       "                        <td id=\"T_4c40f2fe_deca_11ea_aff4_005056b8869frow12_col0\" class=\"data row12 col0\" >60,972</td>\n",
       "            </tr>\n",
       "            <tr>\n",
       "                        <th id=\"T_4c40f2fe_deca_11ea_aff4_005056b8869flevel0_row13\" class=\"row_heading level0 row13\" >org.au</th>\n",
       "                        <td id=\"T_4c40f2fe_deca_11ea_aff4_005056b8869frow13_col0\" class=\"data row13 col0\" >40,301</td>\n",
       "            </tr>\n",
       "            <tr>\n",
       "                        <th id=\"T_4c40f2fe_deca_11ea_aff4_005056b8869flevel0_row14\" class=\"row_heading level0 row14\" >edu.au</th>\n",
       "                        <td id=\"T_4c40f2fe_deca_11ea_aff4_005056b8869frow14_col0\" class=\"data row14 col0\" >39,664</td>\n",
       "            </tr>\n",
       "    </tbody></table>"
      ],
      "text/plain": [
       "<pandas.io.formats.style.Styler at 0x7f865d0b69b0>"
      ]
     },
     "execution_count": 33,
     "metadata": {},
     "output_type": "execute_result"
    }
   ],
   "source": [
    "df_sources.style.format({'|E|': \"{0:,}\"})"
   ]
  },
  {
   "cell_type": "code",
   "execution_count": 34,
   "metadata": {},
   "outputs": [
    {
     "name": "stdout",
     "output_type": "stream",
     "text": [
      "Total TLDs: 1,181\n",
      "Average relations: 10,206\n"
     ]
    }
   ],
   "source": [
    "print(\"Total TLDs: \" + str(f'{len(tld_to_relations):,}'))\n",
    "mean_relations = round(sum(tld_to_relations.values())/len(tld_to_relations))\n",
    "print(f\"Average relations: {mean_relations:,}\")"
   ]
  },
  {
   "cell_type": "markdown",
   "metadata": {},
   "source": [
    "### Manual Categorization"
   ]
  },
  {
   "cell_type": "code",
   "execution_count": 35,
   "metadata": {},
   "outputs": [
    {
     "data": {
      "text/html": [
       "<style  type=\"text/css\" >\n",
       "</style><table id=\"T_4c48fcce_deca_11ea_aff4_005056b8869f\" ><thead>    <tr>        <th class=\"blank level0\" ></th>        <th class=\"col_heading level0 col0\" >|E|</th>        <th class=\"col_heading level0 col1\" >Category</th>    </tr>    <tr>        <th class=\"index_name level0\" >Hostname</th>        <th class=\"blank\" ></th>        <th class=\"blank\" ></th>    </tr></thead><tbody>\n",
       "                <tr>\n",
       "                        <th id=\"T_4c48fcce_deca_11ea_aff4_005056b8869flevel0_row0\" class=\"row_heading level0 row0\" >sdbonline.org</th>\n",
       "                        <td id=\"T_4c48fcce_deca_11ea_aff4_005056b8869frow0_col0\" class=\"data row0 col0\" >26,517</td>\n",
       "                        <td id=\"T_4c48fcce_deca_11ea_aff4_005056b8869frow0_col1\" class=\"data row0 col1\" >Science</td>\n",
       "            </tr>\n",
       "            <tr>\n",
       "                        <th id=\"T_4c48fcce_deca_11ea_aff4_005056b8869flevel0_row1\" class=\"row_heading level0 row1\" >bionewsonline.com</th>\n",
       "                        <td id=\"T_4c48fcce_deca_11ea_aff4_005056b8869frow1_col0\" class=\"data row1 col0\" >25,212</td>\n",
       "                        <td id=\"T_4c48fcce_deca_11ea_aff4_005056b8869frow1_col1\" class=\"data row1 col1\" >Science</td>\n",
       "            </tr>\n",
       "            <tr>\n",
       "                        <th id=\"T_4c48fcce_deca_11ea_aff4_005056b8869flevel0_row2\" class=\"row_heading level0 row2\" >jci.org</th>\n",
       "                        <td id=\"T_4c48fcce_deca_11ea_aff4_005056b8869frow2_col0\" class=\"data row2 col0\" >16,081</td>\n",
       "                        <td id=\"T_4c48fcce_deca_11ea_aff4_005056b8869frow2_col1\" class=\"data row2 col1\" >Science</td>\n",
       "            </tr>\n",
       "            <tr>\n",
       "                        <th id=\"T_4c48fcce_deca_11ea_aff4_005056b8869flevel0_row3\" class=\"row_heading level0 row3\" >sec.gov</th>\n",
       "                        <td id=\"T_4c48fcce_deca_11ea_aff4_005056b8869frow3_col0\" class=\"data row3 col0\" >13,907</td>\n",
       "                        <td id=\"T_4c48fcce_deca_11ea_aff4_005056b8869frow3_col1\" class=\"data row3 col1\" >Regional</td>\n",
       "            </tr>\n",
       "            <tr>\n",
       "                        <th id=\"T_4c48fcce_deca_11ea_aff4_005056b8869flevel0_row4\" class=\"row_heading level0 row4\" >plosone.org</th>\n",
       "                        <td id=\"T_4c48fcce_deca_11ea_aff4_005056b8869frow4_col0\" class=\"data row4 col0\" >12,722</td>\n",
       "                        <td id=\"T_4c48fcce_deca_11ea_aff4_005056b8869frow4_col1\" class=\"data row4 col1\" >Science</td>\n",
       "            </tr>\n",
       "    </tbody></table>"
      ],
      "text/plain": [
       "<pandas.io.formats.style.Styler at 0x7f86a6a03f98>"
      ]
     },
     "execution_count": 35,
     "metadata": {},
     "output_type": "execute_result"
    }
   ],
   "source": [
    "categorization = pd.read_csv(PATH_CATEGORIZATION,\n",
    "                             header=None, index_col=0,\n",
    "                             names=[\"Hostname\", \"|E|\", \"Category\"])\n",
    "categorization.head().style.format({'|E|': \"{0:,}\"})"
   ]
  },
  {
   "cell_type": "code",
   "execution_count": 36,
   "metadata": {},
   "outputs": [],
   "source": [
    "def get_domains_of_category(category):\n",
    "    row_indices = categorization[\"Category\"] == category\n",
    "    return categorization[row_indices].index.values.tolist()"
   ]
  },
  {
   "cell_type": "code",
   "execution_count": 37,
   "metadata": {},
   "outputs": [],
   "source": [
    "categories = list(set(categorization[\"Category\"].values.tolist()))\n",
    "categories += ['Games', 'Home', 'Recreation', 'Sports']"
   ]
  },
  {
   "cell_type": "code",
   "execution_count": 38,
   "metadata": {},
   "outputs": [],
   "source": [
    "url_to_graph = {}\n",
    "\n",
    "for relation in causality_graphs['clueweb12_sentence']:\n",
    "    for source in relation['sources']:\n",
    "        if source['type'] != 'clueweb12_sentence':\n",
    "            continue\n",
    "\n",
    "        url = source['payload']['clueweb12_page_reference']\n",
    "        hostname = '{uri.netloc}'.format(uri=urlparse(url))\n",
    "        hostname = hostname.replace('www.', '')\n",
    "\n",
    "        for annotated_hostnames in categorization.index.values.tolist():\n",
    "            if hostname == annotated_hostnames:\n",
    "                relation_idx = str(relation['causal_relation'])\n",
    "                url_to_graph.setdefault(hostname, []).append(relation_idx)"
   ]
  },
  {
   "cell_type": "code",
   "execution_count": 39,
   "metadata": {},
   "outputs": [],
   "source": [
    "category_to_relations = {}\n",
    "for category in categories:\n",
    "    category_to_relations.setdefault(category, [])\n",
    "    for domain in get_domains_of_category(category):\n",
    "        if domain in url_to_graph:\n",
    "            relations = url_to_graph[domain]\n",
    "            category_to_relations.setdefault(category, []).extend(relations)"
   ]
  },
  {
   "cell_type": "code",
   "execution_count": 40,
   "metadata": {},
   "outputs": [],
   "source": [
    "for category in category_to_relations:\n",
    "    category_to_relations[category] = len(set(category_to_relations[category]))"
   ]
  },
  {
   "cell_type": "code",
   "execution_count": 41,
   "metadata": {},
   "outputs": [],
   "source": [
    "columns = ['Category', '|Domains|', '|E|']\n",
    "df_sources = pd.DataFrame(columns=columns).set_index(['Category'])\n",
    "\n",
    "for category in category_to_relations:\n",
    "    df_sources.loc[category] = [len(get_domains_of_category(category)),\n",
    "                                category_to_relations[category]]"
   ]
  },
  {
   "cell_type": "code",
   "execution_count": 42,
   "metadata": {},
   "outputs": [
    {
     "data": {
      "text/html": [
       "<style  type=\"text/css\" >\n",
       "</style><table id=\"T_4ac942de_decd_11ea_aff4_005056b8869f\" ><thead>    <tr>        <th class=\"blank level0\" ></th>        <th class=\"col_heading level0 col0\" >|Domains|</th>        <th class=\"col_heading level0 col1\" >|E|</th>    </tr>    <tr>        <th class=\"index_name level0\" >Category</th>        <th class=\"blank\" ></th>        <th class=\"blank\" ></th>    </tr></thead><tbody>\n",
       "                <tr>\n",
       "                        <th id=\"T_4ac942de_decd_11ea_aff4_005056b8869flevel0_row0\" class=\"row_heading level0 row0\" >Science</th>\n",
       "                        <td id=\"T_4ac942de_decd_11ea_aff4_005056b8869frow0_col0\" class=\"data row0 col0\" >121</td>\n",
       "                        <td id=\"T_4ac942de_decd_11ea_aff4_005056b8869frow0_col1\" class=\"data row0 col1\" >296,330</td>\n",
       "            </tr>\n",
       "            <tr>\n",
       "                        <th id=\"T_4ac942de_decd_11ea_aff4_005056b8869flevel0_row1\" class=\"row_heading level0 row1\" >Reference</th>\n",
       "                        <td id=\"T_4ac942de_decd_11ea_aff4_005056b8869frow1_col0\" class=\"data row1 col0\" >118</td>\n",
       "                        <td id=\"T_4ac942de_decd_11ea_aff4_005056b8869frow1_col1\" class=\"data row1 col1\" >240,033</td>\n",
       "            </tr>\n",
       "            <tr>\n",
       "                        <th id=\"T_4ac942de_decd_11ea_aff4_005056b8869flevel0_row2\" class=\"row_heading level0 row2\" >Health</th>\n",
       "                        <td id=\"T_4ac942de_decd_11ea_aff4_005056b8869frow2_col0\" class=\"data row2 col0\" >84</td>\n",
       "                        <td id=\"T_4ac942de_decd_11ea_aff4_005056b8869frow2_col1\" class=\"data row2 col1\" >147,851</td>\n",
       "            </tr>\n",
       "            <tr>\n",
       "                        <th id=\"T_4ac942de_decd_11ea_aff4_005056b8869flevel0_row3\" class=\"row_heading level0 row3\" >Society</th>\n",
       "                        <td id=\"T_4ac942de_decd_11ea_aff4_005056b8869frow3_col0\" class=\"data row3 col0\" >80</td>\n",
       "                        <td id=\"T_4ac942de_decd_11ea_aff4_005056b8869frow3_col1\" class=\"data row3 col1\" >129,058</td>\n",
       "            </tr>\n",
       "            <tr>\n",
       "                        <th id=\"T_4ac942de_decd_11ea_aff4_005056b8869flevel0_row4\" class=\"row_heading level0 row4\" >Regional</th>\n",
       "                        <td id=\"T_4ac942de_decd_11ea_aff4_005056b8869frow4_col0\" class=\"data row4 col0\" >34</td>\n",
       "                        <td id=\"T_4ac942de_decd_11ea_aff4_005056b8869frow4_col1\" class=\"data row4 col1\" >76,754</td>\n",
       "            </tr>\n",
       "            <tr>\n",
       "                        <th id=\"T_4ac942de_decd_11ea_aff4_005056b8869flevel0_row5\" class=\"row_heading level0 row5\" >Buisness</th>\n",
       "                        <td id=\"T_4ac942de_decd_11ea_aff4_005056b8869frow5_col0\" class=\"data row5 col0\" >21</td>\n",
       "                        <td id=\"T_4ac942de_decd_11ea_aff4_005056b8869frow5_col1\" class=\"data row5 col1\" >43,900</td>\n",
       "            </tr>\n",
       "            <tr>\n",
       "                        <th id=\"T_4ac942de_decd_11ea_aff4_005056b8869flevel0_row6\" class=\"row_heading level0 row6\" >News</th>\n",
       "                        <td id=\"T_4ac942de_decd_11ea_aff4_005056b8869frow6_col0\" class=\"data row6 col0\" >11</td>\n",
       "                        <td id=\"T_4ac942de_decd_11ea_aff4_005056b8869frow6_col1\" class=\"data row6 col1\" >33,906</td>\n",
       "            </tr>\n",
       "            <tr>\n",
       "                        <th id=\"T_4ac942de_decd_11ea_aff4_005056b8869flevel0_row7\" class=\"row_heading level0 row7\" >Computers</th>\n",
       "                        <td id=\"T_4ac942de_decd_11ea_aff4_005056b8869frow7_col0\" class=\"data row7 col0\" >18</td>\n",
       "                        <td id=\"T_4ac942de_decd_11ea_aff4_005056b8869frow7_col1\" class=\"data row7 col1\" >27,319</td>\n",
       "            </tr>\n",
       "            <tr>\n",
       "                        <th id=\"T_4ac942de_decd_11ea_aff4_005056b8869flevel0_row8\" class=\"row_heading level0 row8\" >Shopping</th>\n",
       "                        <td id=\"T_4ac942de_decd_11ea_aff4_005056b8869frow8_col0\" class=\"data row8 col0\" >9</td>\n",
       "                        <td id=\"T_4ac942de_decd_11ea_aff4_005056b8869frow8_col1\" class=\"data row8 col1\" >14,078</td>\n",
       "            </tr>\n",
       "            <tr>\n",
       "                        <th id=\"T_4ac942de_decd_11ea_aff4_005056b8869flevel0_row9\" class=\"row_heading level0 row9\" >Arts</th>\n",
       "                        <td id=\"T_4ac942de_decd_11ea_aff4_005056b8869frow9_col0\" class=\"data row9 col0\" >3</td>\n",
       "                        <td id=\"T_4ac942de_decd_11ea_aff4_005056b8869frow9_col1\" class=\"data row9 col1\" >8,017</td>\n",
       "            </tr>\n",
       "            <tr>\n",
       "                        <th id=\"T_4ac942de_decd_11ea_aff4_005056b8869flevel0_row10\" class=\"row_heading level0 row10\" >World</th>\n",
       "                        <td id=\"T_4ac942de_decd_11ea_aff4_005056b8869frow10_col0\" class=\"data row10 col0\" >1</td>\n",
       "                        <td id=\"T_4ac942de_decd_11ea_aff4_005056b8869frow10_col1\" class=\"data row10 col1\" >2,738</td>\n",
       "            </tr>\n",
       "            <tr>\n",
       "                        <th id=\"T_4ac942de_decd_11ea_aff4_005056b8869flevel0_row11\" class=\"row_heading level0 row11\" >Games</th>\n",
       "                        <td id=\"T_4ac942de_decd_11ea_aff4_005056b8869frow11_col0\" class=\"data row11 col0\" >0</td>\n",
       "                        <td id=\"T_4ac942de_decd_11ea_aff4_005056b8869frow11_col1\" class=\"data row11 col1\" >0</td>\n",
       "            </tr>\n",
       "            <tr>\n",
       "                        <th id=\"T_4ac942de_decd_11ea_aff4_005056b8869flevel0_row12\" class=\"row_heading level0 row12\" >Home</th>\n",
       "                        <td id=\"T_4ac942de_decd_11ea_aff4_005056b8869frow12_col0\" class=\"data row12 col0\" >0</td>\n",
       "                        <td id=\"T_4ac942de_decd_11ea_aff4_005056b8869frow12_col1\" class=\"data row12 col1\" >0</td>\n",
       "            </tr>\n",
       "            <tr>\n",
       "                        <th id=\"T_4ac942de_decd_11ea_aff4_005056b8869flevel0_row13\" class=\"row_heading level0 row13\" >Recreation</th>\n",
       "                        <td id=\"T_4ac942de_decd_11ea_aff4_005056b8869frow13_col0\" class=\"data row13 col0\" >0</td>\n",
       "                        <td id=\"T_4ac942de_decd_11ea_aff4_005056b8869frow13_col1\" class=\"data row13 col1\" >0</td>\n",
       "            </tr>\n",
       "            <tr>\n",
       "                        <th id=\"T_4ac942de_decd_11ea_aff4_005056b8869flevel0_row14\" class=\"row_heading level0 row14\" >Sports</th>\n",
       "                        <td id=\"T_4ac942de_decd_11ea_aff4_005056b8869frow14_col0\" class=\"data row14 col0\" >0</td>\n",
       "                        <td id=\"T_4ac942de_decd_11ea_aff4_005056b8869frow14_col1\" class=\"data row14 col1\" >0</td>\n",
       "            </tr>\n",
       "    </tbody></table>"
      ],
      "text/plain": [
       "<pandas.io.formats.style.Styler at 0x7f86190ba940>"
      ]
     },
     "execution_count": 42,
     "metadata": {},
     "output_type": "execute_result"
    }
   ],
   "source": [
    "df_sources.sort_values('|E|', ascending=False).style.format({'|E|': \"{0:,}\"})"
   ]
  },
  {
   "cell_type": "markdown",
   "metadata": {},
   "source": [
    "## Wikipedia"
   ]
  },
  {
   "cell_type": "code",
   "execution_count": 43,
   "metadata": {},
   "outputs": [],
   "source": [
    "template_sources = {}\n",
    "template_relations = {}\n",
    "template_values = {}\n",
    "\n",
    "for relation in causality_graphs[\"wikipedia_infobox\"]:\n",
    "    for source in relation['sources']:\n",
    "        if source['type'] != \"wikipedia_infobox\":\n",
    "            continue\n",
    "        page_id = source['payload']['wikipedia_page_id']\n",
    "        infobox_template = source['payload']['infobox_template'].lower()\n",
    "\n",
    "        template_sources.setdefault(infobox_template, []).append(page_id)\n",
    "        relation_id = str(relation['causal_relation'])\n",
    "        template_relations.setdefault(infobox_template, []).append(relation_id)\n",
    "\n",
    "        ifbx_value_id = source['payload']['wikipedia_page_id']\n",
    "        ifbx_value_id += source['payload']['infobox_argument']\n",
    "        ifbx_value_id += source['payload']['infobox_title']\n",
    "        template_values.setdefault(infobox_template, []).append(ifbx_value_id)"
   ]
  },
  {
   "cell_type": "code",
   "execution_count": 44,
   "metadata": {},
   "outputs": [],
   "source": [
    "columns = ['Infobox template', 'Articles', 'Values', '|E|']\n",
    "df_sources = pd.DataFrame(columns=columns).set_index(['Infobox template'])\n",
    "\n",
    "for template in template_sources.keys():\n",
    "    df_sources.loc[template] = [len(set(template_sources[template])),\n",
    "                                len(set(template_values[template])),\n",
    "                                len(set(template_relations[template]))]"
   ]
  },
  {
   "cell_type": "code",
   "execution_count": 45,
   "metadata": {},
   "outputs": [
    {
     "data": {
      "text/html": [
       "<style  type=\"text/css\" >\n",
       "</style><table id=\"T_4ad98b76_decd_11ea_aff4_005056b8869f\" ><thead>    <tr>        <th class=\"blank level0\" ></th>        <th class=\"col_heading level0 col0\" >Articles</th>        <th class=\"col_heading level0 col1\" >Values</th>        <th class=\"col_heading level0 col2\" >|E|</th>    </tr>    <tr>        <th class=\"index_name level0\" >Infobox template</th>        <th class=\"blank\" ></th>        <th class=\"blank\" ></th>        <th class=\"blank\" ></th>    </tr></thead><tbody>\n",
       "                <tr>\n",
       "                        <th id=\"T_4ad98b76_decd_11ea_aff4_005056b8869flevel0_row0\" class=\"row_heading level0 row0\" >infobox medical condition (new)</th>\n",
       "                        <td id=\"T_4ad98b76_decd_11ea_aff4_005056b8869frow0_col0\" class=\"data row0 col0\" >820</td>\n",
       "                        <td id=\"T_4ad98b76_decd_11ea_aff4_005056b8869frow0_col1\" class=\"data row0 col1\" >1,695</td>\n",
       "                        <td id=\"T_4ad98b76_decd_11ea_aff4_005056b8869frow0_col2\" class=\"data row0 col2\" >4,923</td>\n",
       "            </tr>\n",
       "            <tr>\n",
       "                        <th id=\"T_4ad98b76_decd_11ea_aff4_005056b8869flevel0_row1\" class=\"row_heading level0 row1\" >infobox civil conflict</th>\n",
       "                        <td id=\"T_4ad98b76_decd_11ea_aff4_005056b8869frow1_col0\" class=\"data row1 col0\" >579</td>\n",
       "                        <td id=\"T_4ad98b76_decd_11ea_aff4_005056b8869frow1_col1\" class=\"data row1 col1\" >581</td>\n",
       "                        <td id=\"T_4ad98b76_decd_11ea_aff4_005056b8869frow1_col2\" class=\"data row1 col2\" >1,339</td>\n",
       "            </tr>\n",
       "            <tr>\n",
       "                        <th id=\"T_4ad98b76_decd_11ea_aff4_005056b8869flevel0_row2\" class=\"row_heading level0 row2\" >infobox rail accident</th>\n",
       "                        <td id=\"T_4ad98b76_decd_11ea_aff4_005056b8869frow2_col0\" class=\"data row2 col0\" >452</td>\n",
       "                        <td id=\"T_4ad98b76_decd_11ea_aff4_005056b8869frow2_col1\" class=\"data row2 col1\" >461</td>\n",
       "                        <td id=\"T_4ad98b76_decd_11ea_aff4_005056b8869frow2_col2\" class=\"data row2 col2\" >530</td>\n",
       "            </tr>\n",
       "            <tr>\n",
       "                        <th id=\"T_4ad98b76_decd_11ea_aff4_005056b8869flevel0_row3\" class=\"row_heading level0 row3\" >infobox event</th>\n",
       "                        <td id=\"T_4ad98b76_decd_11ea_aff4_005056b8869frow3_col0\" class=\"data row3 col0\" >380</td>\n",
       "                        <td id=\"T_4ad98b76_decd_11ea_aff4_005056b8869frow3_col1\" class=\"data row3 col1\" >384</td>\n",
       "                        <td id=\"T_4ad98b76_decd_11ea_aff4_005056b8869frow3_col2\" class=\"data row3 col2\" >495</td>\n",
       "            </tr>\n",
       "            <tr>\n",
       "                        <th id=\"T_4ad98b76_decd_11ea_aff4_005056b8869flevel0_row4\" class=\"row_heading level0 row4\" >infobox wildfire</th>\n",
       "                        <td id=\"T_4ad98b76_decd_11ea_aff4_005056b8869frow4_col0\" class=\"data row4 col0\" >257</td>\n",
       "                        <td id=\"T_4ad98b76_decd_11ea_aff4_005056b8869frow4_col1\" class=\"data row4 col1\" >257</td>\n",
       "                        <td id=\"T_4ad98b76_decd_11ea_aff4_005056b8869frow4_col2\" class=\"data row4 col2\" >306</td>\n",
       "            </tr>\n",
       "            <tr>\n",
       "                        <th id=\"T_4ad98b76_decd_11ea_aff4_005056b8869flevel0_row5\" class=\"row_heading level0 row5\" >infobox news event</th>\n",
       "                        <td id=\"T_4ad98b76_decd_11ea_aff4_005056b8869frow5_col0\" class=\"data row5 col0\" >146</td>\n",
       "                        <td id=\"T_4ad98b76_decd_11ea_aff4_005056b8869frow5_col1\" class=\"data row5 col1\" >146</td>\n",
       "                        <td id=\"T_4ad98b76_decd_11ea_aff4_005056b8869frow5_col2\" class=\"data row5 col2\" >170</td>\n",
       "            </tr>\n",
       "            <tr>\n",
       "                        <th id=\"T_4ad98b76_decd_11ea_aff4_005056b8869flevel0_row6\" class=\"row_heading level0 row6\" >infobox oil spill</th>\n",
       "                        <td id=\"T_4ad98b76_decd_11ea_aff4_005056b8869frow6_col0\" class=\"data row6 col0\" >35</td>\n",
       "                        <td id=\"T_4ad98b76_decd_11ea_aff4_005056b8869frow6_col1\" class=\"data row6 col1\" >35</td>\n",
       "                        <td id=\"T_4ad98b76_decd_11ea_aff4_005056b8869frow6_col2\" class=\"data row6 col2\" >36</td>\n",
       "            </tr>\n",
       "            <tr>\n",
       "                        <th id=\"T_4ad98b76_decd_11ea_aff4_005056b8869flevel0_row7\" class=\"row_heading level0 row7\" >infobox military conflict</th>\n",
       "                        <td id=\"T_4ad98b76_decd_11ea_aff4_005056b8869frow7_col0\" class=\"data row7 col0\" >23</td>\n",
       "                        <td id=\"T_4ad98b76_decd_11ea_aff4_005056b8869frow7_col1\" class=\"data row7 col1\" >23</td>\n",
       "                        <td id=\"T_4ad98b76_decd_11ea_aff4_005056b8869frow7_col2\" class=\"data row7 col2\" >32</td>\n",
       "            </tr>\n",
       "            <tr>\n",
       "                        <th id=\"T_4ad98b76_decd_11ea_aff4_005056b8869flevel0_row8\" class=\"row_heading level0 row8\" >infobox birth control</th>\n",
       "                        <td id=\"T_4ad98b76_decd_11ea_aff4_005056b8869frow8_col0\" class=\"data row8 col0\" >13</td>\n",
       "                        <td id=\"T_4ad98b76_decd_11ea_aff4_005056b8869frow8_col1\" class=\"data row8 col1\" >13</td>\n",
       "                        <td id=\"T_4ad98b76_decd_11ea_aff4_005056b8869frow8_col2\" class=\"data row8 col2\" >26</td>\n",
       "            </tr>\n",
       "            <tr>\n",
       "                        <th id=\"T_4ad98b76_decd_11ea_aff4_005056b8869flevel0_row9\" class=\"row_heading level0 row9\" >infobox bus accident</th>\n",
       "                        <td id=\"T_4ad98b76_decd_11ea_aff4_005056b8869frow9_col0\" class=\"data row9 col0\" >20</td>\n",
       "                        <td id=\"T_4ad98b76_decd_11ea_aff4_005056b8869frow9_col1\" class=\"data row9 col1\" >20</td>\n",
       "                        <td id=\"T_4ad98b76_decd_11ea_aff4_005056b8869frow9_col2\" class=\"data row9 col2\" >23</td>\n",
       "            </tr>\n",
       "    </tbody></table>"
      ],
      "text/plain": [
       "<pandas.io.formats.style.Styler at 0x7f86c646d828>"
      ]
     },
     "execution_count": 45,
     "metadata": {},
     "output_type": "execute_result"
    }
   ],
   "source": [
    "df_sources.sort_values('|E|', ascending=False).style.format({'|E|': \"{0:,}\", 'Values': \"{0:,}\"})"
   ]
  },
  {
   "cell_type": "code",
   "execution_count": 46,
   "metadata": {},
   "outputs": [],
   "source": [
    "def articles_to_relations(graph_type):\n",
    "    relations_by_article = {}\n",
    "    article_name_mapping = {}\n",
    "\n",
    "    for relation in causality_graphs[graph_type]:\n",
    "        for source in relation['sources']:\n",
    "            if source['type'] != graph_type:\n",
    "                continue\n",
    "            article_id = int(source['payload']['wikipedia_page_id'])\n",
    "            if article_id not in relations_by_article:\n",
    "                relations_by_article.update({article_id: []})\n",
    "            relation_id = str(relation['causal_relation'])\n",
    "            relations_by_article[article_id].append(relation_id)\n",
    "            article_name = {int(source['payload']['wikipedia_page_id']):\n",
    "                            source['payload']['wikipedia_page_title']}\n",
    "            article_name_mapping.update(article_name)\n",
    "\n",
    "    print(f\"Number Wikipedia Articles: {len(set(relations_by_article)):,}\")\n",
    "\n",
    "    for article in relations_by_article:\n",
    "        relations_by_article[article] = set(relations_by_article[article])\n",
    "    return relations_by_article, article_name_mapping"
   ]
  },
  {
   "cell_type": "code",
   "execution_count": 47,
   "metadata": {},
   "outputs": [
    {
     "name": "stdout",
     "output_type": "stream",
     "text": [
      "Number Wikipedia Articles: 2,725\n"
     ]
    }
   ],
   "source": [
    "relations_by_article, name_mapping = articles_to_relations('wikipedia_infobox')"
   ]
  },
  {
   "cell_type": "code",
   "execution_count": 48,
   "metadata": {},
   "outputs": [],
   "source": [
    "def sort_key(key):\n",
    "    return (-len(relations_by_article[key]), name_mapping[key])\n",
    "\n",
    "\n",
    "columns = ['Wikipedia article title (ibxs.)', '|E|']\n",
    "index = ['Wikipedia article title (ibxs.)']\n",
    "df_sources = pd.DataFrame(columns=columns).set_index(index)\n",
    "\n",
    "sorted_articles = sorted(relations_by_article, key=sort_key)\n",
    "for idx in sorted_articles[:10]:\n",
    "    df_sources.loc[name_mapping[idx]] = len(relations_by_article[idx])"
   ]
  },
  {
   "cell_type": "code",
   "execution_count": 49,
   "metadata": {},
   "outputs": [
    {
     "data": {
      "text/html": [
       "<div>\n",
       "<style scoped>\n",
       "    .dataframe tbody tr th:only-of-type {\n",
       "        vertical-align: middle;\n",
       "    }\n",
       "\n",
       "    .dataframe tbody tr th {\n",
       "        vertical-align: top;\n",
       "    }\n",
       "\n",
       "    .dataframe thead th {\n",
       "        text-align: right;\n",
       "    }\n",
       "</style>\n",
       "<table border=\"1\" class=\"dataframe\">\n",
       "  <thead>\n",
       "    <tr style=\"text-align: right;\">\n",
       "      <th></th>\n",
       "      <th>|E|</th>\n",
       "    </tr>\n",
       "    <tr>\n",
       "      <th>Wikipedia article title (ibxs.)</th>\n",
       "      <th></th>\n",
       "    </tr>\n",
       "  </thead>\n",
       "  <tbody>\n",
       "    <tr>\n",
       "      <th>2013 Romanian protests against the Roșia Montană Project</th>\n",
       "      <td>23</td>\n",
       "    </tr>\n",
       "    <tr>\n",
       "      <th>Shock (circulatory)</th>\n",
       "      <td>19</td>\n",
       "    </tr>\n",
       "    <tr>\n",
       "      <th>Breast cancer</th>\n",
       "      <td>18</td>\n",
       "    </tr>\n",
       "    <tr>\n",
       "      <th>Constipation</th>\n",
       "      <td>17</td>\n",
       "    </tr>\n",
       "    <tr>\n",
       "      <th>Intracerebral hemorrhage</th>\n",
       "      <td>17</td>\n",
       "    </tr>\n",
       "    <tr>\n",
       "      <th>Protests against Donald Trump</th>\n",
       "      <td>17</td>\n",
       "    </tr>\n",
       "    <tr>\n",
       "      <th>Heat stroke</th>\n",
       "      <td>16</td>\n",
       "    </tr>\n",
       "    <tr>\n",
       "      <th>Scombroid food poisoning</th>\n",
       "      <td>16</td>\n",
       "    </tr>\n",
       "    <tr>\n",
       "      <th>Acute lymphoblastic leukemia</th>\n",
       "      <td>15</td>\n",
       "    </tr>\n",
       "    <tr>\n",
       "      <th>Bowel obstruction</th>\n",
       "      <td>15</td>\n",
       "    </tr>\n",
       "  </tbody>\n",
       "</table>\n",
       "</div>"
      ],
      "text/plain": [
       "                                                   |E|\n",
       "Wikipedia article title (ibxs.)                       \n",
       "2013 Romanian protests against the Roșia Montan...  23\n",
       "Shock (circulatory)                                 19\n",
       "Breast cancer                                       18\n",
       "Constipation                                        17\n",
       "Intracerebral hemorrhage                            17\n",
       "Protests against Donald Trump                       17\n",
       "Heat stroke                                         16\n",
       "Scombroid food poisoning                            16\n",
       "Acute lymphoblastic leukemia                        15\n",
       "Bowel obstruction                                   15"
      ]
     },
     "execution_count": 49,
     "metadata": {},
     "output_type": "execute_result"
    }
   ],
   "source": [
    "df_sources"
   ]
  },
  {
   "cell_type": "code",
   "execution_count": 50,
   "metadata": {},
   "outputs": [
    {
     "name": "stdout",
     "output_type": "stream",
     "text": [
      "Number Wikipedia Articles: 1,194\n"
     ]
    }
   ],
   "source": [
    "relations_by_article, name_mapping = articles_to_relations('wikipedia_list')"
   ]
  },
  {
   "cell_type": "code",
   "execution_count": 51,
   "metadata": {},
   "outputs": [],
   "source": [
    "def sort_key(key):\n",
    "    return (-len(relations_by_article[key]), name_mapping[key])\n",
    "\n",
    "\n",
    "columns = ['Wikipedia article title (lists)', '|E|']\n",
    "index = ['Wikipedia article title (lists)']\n",
    "df_sources = pd.DataFrame(columns=columns).set_index(index)\n",
    "\n",
    "sorted_articles = sorted(relations_by_article, key=sort_key)\n",
    "for idx in sorted_articles[:10]:\n",
    "    df_sources.loc[name_mapping[idx]] = len(relations_by_article[idx])"
   ]
  },
  {
   "cell_type": "code",
   "execution_count": 52,
   "metadata": {},
   "outputs": [
    {
     "data": {
      "text/html": [
       "<div>\n",
       "<style scoped>\n",
       "    .dataframe tbody tr th:only-of-type {\n",
       "        vertical-align: middle;\n",
       "    }\n",
       "\n",
       "    .dataframe tbody tr th {\n",
       "        vertical-align: top;\n",
       "    }\n",
       "\n",
       "    .dataframe thead th {\n",
       "        text-align: right;\n",
       "    }\n",
       "</style>\n",
       "<table border=\"1\" class=\"dataframe\">\n",
       "  <thead>\n",
       "    <tr style=\"text-align: right;\">\n",
       "      <th></th>\n",
       "      <th>|E|</th>\n",
       "    </tr>\n",
       "    <tr>\n",
       "      <th>Wikipedia article title (lists)</th>\n",
       "      <th></th>\n",
       "    </tr>\n",
       "  </thead>\n",
       "  <tbody>\n",
       "    <tr>\n",
       "      <th>Flushing (physiology)</th>\n",
       "      <td>58</td>\n",
       "    </tr>\n",
       "    <tr>\n",
       "      <th>Mast cell activation syndrome</th>\n",
       "      <td>56</td>\n",
       "    </tr>\n",
       "    <tr>\n",
       "      <th>Coarse facial features</th>\n",
       "      <td>50</td>\n",
       "    </tr>\n",
       "    <tr>\n",
       "      <th>Hypotonia</th>\n",
       "      <td>47</td>\n",
       "    </tr>\n",
       "    <tr>\n",
       "      <th>Autistic catatonia</th>\n",
       "      <td>46</td>\n",
       "    </tr>\n",
       "    <tr>\n",
       "      <th>Livedo reticularis</th>\n",
       "      <td>46</td>\n",
       "    </tr>\n",
       "    <tr>\n",
       "      <th>Pallor</th>\n",
       "      <td>43</td>\n",
       "    </tr>\n",
       "    <tr>\n",
       "      <th>Delayed puberty</th>\n",
       "      <td>42</td>\n",
       "    </tr>\n",
       "    <tr>\n",
       "      <th>Eosinophilic myocarditis</th>\n",
       "      <td>42</td>\n",
       "    </tr>\n",
       "    <tr>\n",
       "      <th>Intraparenchymal hemorrhage</th>\n",
       "      <td>42</td>\n",
       "    </tr>\n",
       "  </tbody>\n",
       "</table>\n",
       "</div>"
      ],
      "text/plain": [
       "                                |E|\n",
       "Wikipedia article title (lists)    \n",
       "Flushing (physiology)            58\n",
       "Mast cell activation syndrome    56\n",
       "Coarse facial features           50\n",
       "Hypotonia                        47\n",
       "Autistic catatonia               46\n",
       "Livedo reticularis               46\n",
       "Pallor                           43\n",
       "Delayed puberty                  42\n",
       "Eosinophilic myocarditis         42\n",
       "Intraparenchymal hemorrhage      42"
      ]
     },
     "execution_count": 52,
     "metadata": {},
     "output_type": "execute_result"
    }
   ],
   "source": [
    "df_sources"
   ]
  },
  {
   "cell_type": "code",
   "execution_count": 53,
   "metadata": {},
   "outputs": [
    {
     "name": "stdout",
     "output_type": "stream",
     "text": [
      "Number Wikipedia Articles: 427,893\n"
     ]
    }
   ],
   "source": [
    "relations_by_article, name_mapping = articles_to_relations('wikipedia_sentence')"
   ]
  },
  {
   "cell_type": "code",
   "execution_count": 54,
   "metadata": {},
   "outputs": [],
   "source": [
    "def sort_key(key):\n",
    "    return (-len(relations_by_article[key]), name_mapping[key])\n",
    "\n",
    "\n",
    "columns = ['Wikipedia article title (texts)', '|E|']\n",
    "index = ['Wikipedia article title (texts)']\n",
    "df_sources = pd.DataFrame(columns=columns).set_index(index)\n",
    "\n",
    "sorted_articles = sorted(relations_by_article, key=sort_key)\n",
    "for idx in sorted_articles[:10]:\n",
    "    df_sources.loc[name_mapping[idx]] = len(relations_by_article[idx])"
   ]
  },
  {
   "cell_type": "code",
   "execution_count": 55,
   "metadata": {},
   "outputs": [
    {
     "data": {
      "text/html": [
       "<div>\n",
       "<style scoped>\n",
       "    .dataframe tbody tr th:only-of-type {\n",
       "        vertical-align: middle;\n",
       "    }\n",
       "\n",
       "    .dataframe tbody tr th {\n",
       "        vertical-align: top;\n",
       "    }\n",
       "\n",
       "    .dataframe thead th {\n",
       "        text-align: right;\n",
       "    }\n",
       "</style>\n",
       "<table border=\"1\" class=\"dataframe\">\n",
       "  <thead>\n",
       "    <tr style=\"text-align: right;\">\n",
       "      <th></th>\n",
       "      <th>|E|</th>\n",
       "    </tr>\n",
       "    <tr>\n",
       "      <th>Wikipedia article title (texts)</th>\n",
       "      <th></th>\n",
       "    </tr>\n",
       "  </thead>\n",
       "  <tbody>\n",
       "    <tr>\n",
       "      <th>Effects of global warming on human health</th>\n",
       "      <td>98</td>\n",
       "    </tr>\n",
       "    <tr>\n",
       "      <th>Hepatitis</th>\n",
       "      <td>79</td>\n",
       "    </tr>\n",
       "    <tr>\n",
       "      <th>Horse colic</th>\n",
       "      <td>77</td>\n",
       "    </tr>\n",
       "    <tr>\n",
       "      <th>Safety of electronic cigarettes</th>\n",
       "      <td>72</td>\n",
       "    </tr>\n",
       "    <tr>\n",
       "      <th>Nutritional neuroscience</th>\n",
       "      <td>71</td>\n",
       "    </tr>\n",
       "    <tr>\n",
       "      <th>Causes of cancer pain</th>\n",
       "      <td>70</td>\n",
       "    </tr>\n",
       "    <tr>\n",
       "      <th>Dog health</th>\n",
       "      <td>69</td>\n",
       "    </tr>\n",
       "    <tr>\n",
       "      <th>Long-term effects of alcohol consumption</th>\n",
       "      <td>69</td>\n",
       "    </tr>\n",
       "    <tr>\n",
       "      <th>Famine</th>\n",
       "      <td>67</td>\n",
       "    </tr>\n",
       "    <tr>\n",
       "      <th>Progeroid syndromes</th>\n",
       "      <td>60</td>\n",
       "    </tr>\n",
       "  </tbody>\n",
       "</table>\n",
       "</div>"
      ],
      "text/plain": [
       "                                          |E|\n",
       "Wikipedia article title (texts)              \n",
       "Effects of global warming on human health  98\n",
       "Hepatitis                                  79\n",
       "Horse colic                                77\n",
       "Safety of electronic cigarettes            72\n",
       "Nutritional neuroscience                   71\n",
       "Causes of cancer pain                      70\n",
       "Dog health                                 69\n",
       "Long-term effects of alcohol consumption   69\n",
       "Famine                                     67\n",
       "Progeroid syndromes                        60"
      ]
     },
     "execution_count": 55,
     "metadata": {},
     "output_type": "execute_result"
    }
   ],
   "source": [
    "df_sources"
   ]
  },
  {
   "cell_type": "code",
   "execution_count": 56,
   "metadata": {},
   "outputs": [
    {
     "name": "stdout",
     "output_type": "stream",
     "text": [
      "2\n"
     ]
    }
   ],
   "source": [
    "mean_relations = sum([len(x) for x in relations_by_article.values()])\n",
    "mean_relations = round(mean_relations/len(relations_by_article))\n",
    "print(mean_relations)"
   ]
  },
  {
   "cell_type": "markdown",
   "metadata": {},
   "source": [
    "# Table 5: Concepts and paths of CauseNet"
   ]
  },
  {
   "cell_type": "code",
   "execution_count": 57,
   "metadata": {},
   "outputs": [],
   "source": [
    "class Node():\n",
    "\n",
    "    def __init__(self, concept):\n",
    "        self.concept = concept\n",
    "        self.outgoing = {}\n",
    "        self.incoming = {}\n",
    "\n",
    "    def add_incoming(self, concept, support):\n",
    "        self.incoming[concept] = support\n",
    "\n",
    "    def add_outgoing(self, concept, support):\n",
    "        self.outgoing[concept] = support\n",
    "\n",
    "    def degree_centrality(self, graph_size):\n",
    "        return len(list(set(self.outgoing.keys()))\n",
    "                   + list(set(self.incoming.keys())))/(graph_size-1)"
   ]
  },
  {
   "cell_type": "code",
   "execution_count": 58,
   "metadata": {},
   "outputs": [],
   "source": [
    "class Graph():\n",
    "    def __init__(self):\n",
    "        self.concepts = {}\n",
    "        self.sorted = None\n",
    "\n",
    "    def add_relation(self, causal_relation, support):\n",
    "        cause_concept = causal_relation['cause']['concept']\n",
    "        effect_concept = causal_relation['effect']['concept']\n",
    "        self.add_concepts(cause_concept, effect_concept)\n",
    "\n",
    "        cause_node = self.concepts[causal_relation['cause']['concept']]\n",
    "        effect_node = self.concepts[causal_relation['effect']['concept']]\n",
    "        cause_node.add_outgoing(effect_concept, support)\n",
    "        effect_node.add_incoming(cause_concept, support)\n",
    "\n",
    "    def add_concepts(self, cause_concept, effect_concept):\n",
    "        if cause_concept not in self.concepts:\n",
    "            self.concepts[cause_concept] = Node(cause_concept)\n",
    "        if effect_concept not in self.concepts:\n",
    "            self.concepts[effect_concept] = Node(effect_concept)\n",
    "\n",
    "    def _sort_by_centrality(self, node):\n",
    "        return (-node[1].degree_centrality(len(self.concepts)),\n",
    "                node[1].concept)\n",
    "\n",
    "    def most_central_nodes(self, top_k=10):\n",
    "        if self.sorted is not None:\n",
    "            return self.sorted\n",
    "\n",
    "        nodes = self.concepts.items()\n",
    "        sorted_nodes = sorted(nodes, key=self._sort_by_centrality)\n",
    "        self.sorted = sorted_nodes[:top_k]\n",
    "        return self.sorted"
   ]
  },
  {
   "cell_type": "markdown",
   "metadata": {},
   "source": [
    "## Central Nodes"
   ]
  },
  {
   "cell_type": "code",
   "execution_count": 59,
   "metadata": {},
   "outputs": [],
   "source": [
    "source_type_to_graphs = {}\n",
    "\n",
    "for source_type in source_types:\n",
    "    graph = Graph()\n",
    "\n",
    "    for relation in causality_graphs[source_type]:\n",
    "        graph.add_relation(relation['causal_relation'], relation['support'])\n",
    "\n",
    "    source_type_to_graphs[source_type] = graph"
   ]
  },
  {
   "cell_type": "code",
   "execution_count": 60,
   "metadata": {},
   "outputs": [
    {
     "name": "stdout",
     "output_type": "stream",
     "text": [
      "clueweb12_sentence\n"
     ]
    },
    {
     "data": {
      "text/html": [
       "<style  type=\"text/css\" >\n",
       "</style><table id=\"T_f4dfe890_decd_11ea_aff4_005056b8869f\" ><thead>    <tr>        <th class=\"blank level0\" ></th>        <th class=\"col_heading level0 col0\" >Out</th>        <th class=\"col_heading level0 col1\" >In</th>        <th class=\"col_heading level0 col2\" >Cent.</th>    </tr>    <tr>        <th class=\"index_name level0\" >Concept</th>        <th class=\"blank\" ></th>        <th class=\"blank\" ></th>        <th class=\"blank\" ></th>    </tr></thead><tbody>\n",
       "                <tr>\n",
       "                        <th id=\"T_f4dfe890_decd_11ea_aff4_005056b8869flevel0_row0\" class=\"row_heading level0 row0\" >problems</th>\n",
       "                        <td id=\"T_f4dfe890_decd_11ea_aff4_005056b8869frow0_col0\" class=\"data row0 col0\" >8,077</td>\n",
       "                        <td id=\"T_f4dfe890_decd_11ea_aff4_005056b8869frow0_col1\" class=\"data row0 col1\" >64,355</td>\n",
       "                        <td id=\"T_f4dfe890_decd_11ea_aff4_005056b8869frow0_col2\" class=\"data row0 col2\" >0.006</td>\n",
       "            </tr>\n",
       "            <tr>\n",
       "                        <th id=\"T_f4dfe890_decd_11ea_aff4_005056b8869flevel0_row1\" class=\"row_heading level0 row1\" >death</th>\n",
       "                        <td id=\"T_f4dfe890_decd_11ea_aff4_005056b8869frow1_col0\" class=\"data row1 col0\" >4,485</td>\n",
       "                        <td id=\"T_f4dfe890_decd_11ea_aff4_005056b8869frow1_col1\" class=\"data row1 col1\" >44,144</td>\n",
       "                        <td id=\"T_f4dfe890_decd_11ea_aff4_005056b8869frow1_col2\" class=\"data row1 col2\" >0.004</td>\n",
       "            </tr>\n",
       "            <tr>\n",
       "                        <th id=\"T_f4dfe890_decd_11ea_aff4_005056b8869flevel0_row2\" class=\"row_heading level0 row2\" >damage</th>\n",
       "                        <td id=\"T_f4dfe890_decd_11ea_aff4_005056b8869frow2_col0\" class=\"data row2 col0\" >3,890</td>\n",
       "                        <td id=\"T_f4dfe890_decd_11ea_aff4_005056b8869frow2_col1\" class=\"data row2 col1\" >28,301</td>\n",
       "                        <td id=\"T_f4dfe890_decd_11ea_aff4_005056b8869frow2_col2\" class=\"data row2 col2\" >0.003</td>\n",
       "            </tr>\n",
       "            <tr>\n",
       "                        <th id=\"T_f4dfe890_decd_11ea_aff4_005056b8869flevel0_row3\" class=\"row_heading level0 row3\" >pain</th>\n",
       "                        <td id=\"T_f4dfe890_decd_11ea_aff4_005056b8869frow3_col0\" class=\"data row3 col0\" >3,668</td>\n",
       "                        <td id=\"T_f4dfe890_decd_11ea_aff4_005056b8869frow3_col1\" class=\"data row3 col1\" >23,046</td>\n",
       "                        <td id=\"T_f4dfe890_decd_11ea_aff4_005056b8869frow3_col2\" class=\"data row3 col2\" >0.002</td>\n",
       "            </tr>\n",
       "            <tr>\n",
       "                        <th id=\"T_f4dfe890_decd_11ea_aff4_005056b8869flevel0_row4\" class=\"row_heading level0 row4\" >disease</th>\n",
       "                        <td id=\"T_f4dfe890_decd_11ea_aff4_005056b8869frow4_col0\" class=\"data row4 col0\" >11,198</td>\n",
       "                        <td id=\"T_f4dfe890_decd_11ea_aff4_005056b8869frow4_col1\" class=\"data row4 col1\" >15,175</td>\n",
       "                        <td id=\"T_f4dfe890_decd_11ea_aff4_005056b8869frow4_col2\" class=\"data row4 col2\" >0.002</td>\n",
       "            </tr>\n",
       "            <tr>\n",
       "                        <th id=\"T_f4dfe890_decd_11ea_aff4_005056b8869flevel0_row5\" class=\"row_heading level0 row5\" >injury</th>\n",
       "                        <td id=\"T_f4dfe890_decd_11ea_aff4_005056b8869frow5_col0\" class=\"data row5 col0\" >6,681</td>\n",
       "                        <td id=\"T_f4dfe890_decd_11ea_aff4_005056b8869frow5_col1\" class=\"data row5 col1\" >14,733</td>\n",
       "                        <td id=\"T_f4dfe890_decd_11ea_aff4_005056b8869frow5_col2\" class=\"data row5 col2\" >0.002</td>\n",
       "            </tr>\n",
       "            <tr>\n",
       "                        <th id=\"T_f4dfe890_decd_11ea_aff4_005056b8869flevel0_row6\" class=\"row_heading level0 row6\" >stress</th>\n",
       "                        <td id=\"T_f4dfe890_decd_11ea_aff4_005056b8869frow6_col0\" class=\"data row6 col0\" >10,114</td>\n",
       "                        <td id=\"T_f4dfe890_decd_11ea_aff4_005056b8869frow6_col1\" class=\"data row6 col1\" >9,077</td>\n",
       "                        <td id=\"T_f4dfe890_decd_11ea_aff4_005056b8869frow6_col2\" class=\"data row6 col2\" >0.002</td>\n",
       "            </tr>\n",
       "            <tr>\n",
       "                        <th id=\"T_f4dfe890_decd_11ea_aff4_005056b8869flevel0_row7\" class=\"row_heading level0 row7\" >changes</th>\n",
       "                        <td id=\"T_f4dfe890_decd_11ea_aff4_005056b8869frow7_col0\" class=\"data row7 col0\" >9,155</td>\n",
       "                        <td id=\"T_f4dfe890_decd_11ea_aff4_005056b8869frow7_col1\" class=\"data row7 col1\" >9,459</td>\n",
       "                        <td id=\"T_f4dfe890_decd_11ea_aff4_005056b8869frow7_col2\" class=\"data row7 col2\" >0.002</td>\n",
       "            </tr>\n",
       "            <tr>\n",
       "                        <th id=\"T_f4dfe890_decd_11ea_aff4_005056b8869flevel0_row8\" class=\"row_heading level0 row8\" >problem</th>\n",
       "                        <td id=\"T_f4dfe890_decd_11ea_aff4_005056b8869frow8_col0\" class=\"data row8 col0\" >2,608</td>\n",
       "                        <td id=\"T_f4dfe890_decd_11ea_aff4_005056b8869frow8_col1\" class=\"data row8 col1\" >15,975</td>\n",
       "                        <td id=\"T_f4dfe890_decd_11ea_aff4_005056b8869frow8_col2\" class=\"data row8 col2\" >0.002</td>\n",
       "            </tr>\n",
       "            <tr>\n",
       "                        <th id=\"T_f4dfe890_decd_11ea_aff4_005056b8869flevel0_row9\" class=\"row_heading level0 row9\" >symptoms</th>\n",
       "                        <td id=\"T_f4dfe890_decd_11ea_aff4_005056b8869frow9_col0\" class=\"data row9 col0\" >2,720</td>\n",
       "                        <td id=\"T_f4dfe890_decd_11ea_aff4_005056b8869frow9_col1\" class=\"data row9 col1\" >14,415</td>\n",
       "                        <td id=\"T_f4dfe890_decd_11ea_aff4_005056b8869frow9_col2\" class=\"data row9 col2\" >0.002</td>\n",
       "            </tr>\n",
       "    </tbody></table>"
      ],
      "text/plain": [
       "<IPython.core.display.HTML object>"
      ]
     },
     "metadata": {},
     "output_type": "display_data"
    },
    {
     "name": "stdout",
     "output_type": "stream",
     "text": [
      "\n",
      "wikipedia_sentence\n"
     ]
    },
    {
     "data": {
      "text/html": [
       "<style  type=\"text/css\" >\n",
       "</style><table id=\"T_f9db1efa_decd_11ea_aff4_005056b8869f\" ><thead>    <tr>        <th class=\"blank level0\" ></th>        <th class=\"col_heading level0 col0\" >Out</th>        <th class=\"col_heading level0 col1\" >In</th>        <th class=\"col_heading level0 col2\" >Cent.</th>    </tr>    <tr>        <th class=\"index_name level0\" >Concept</th>        <th class=\"blank\" ></th>        <th class=\"blank\" ></th>        <th class=\"blank\" ></th>    </tr></thead><tbody>\n",
       "                <tr>\n",
       "                        <th id=\"T_f9db1efa_decd_11ea_aff4_005056b8869flevel0_row0\" class=\"row_heading level0 row0\" >death</th>\n",
       "                        <td id=\"T_f9db1efa_decd_11ea_aff4_005056b8869frow0_col0\" class=\"data row0 col0\" >689</td>\n",
       "                        <td id=\"T_f9db1efa_decd_11ea_aff4_005056b8869frow0_col1\" class=\"data row0 col1\" >4,054</td>\n",
       "                        <td id=\"T_f9db1efa_decd_11ea_aff4_005056b8869frow0_col2\" class=\"data row0 col2\" >0.004</td>\n",
       "            </tr>\n",
       "            <tr>\n",
       "                        <th id=\"T_f9db1efa_decd_11ea_aff4_005056b8869flevel0_row1\" class=\"row_heading level0 row1\" >problems</th>\n",
       "                        <td id=\"T_f9db1efa_decd_11ea_aff4_005056b8869frow1_col0\" class=\"data row1 col0\" >412</td>\n",
       "                        <td id=\"T_f9db1efa_decd_11ea_aff4_005056b8869frow1_col1\" class=\"data row1 col1\" >2,519</td>\n",
       "                        <td id=\"T_f9db1efa_decd_11ea_aff4_005056b8869frow1_col2\" class=\"data row1 col2\" >0.003</td>\n",
       "            </tr>\n",
       "            <tr>\n",
       "                        <th id=\"T_f9db1efa_decd_11ea_aff4_005056b8869flevel0_row2\" class=\"row_heading level0 row2\" >damage</th>\n",
       "                        <td id=\"T_f9db1efa_decd_11ea_aff4_005056b8869frow2_col0\" class=\"data row2 col0\" >340</td>\n",
       "                        <td id=\"T_f9db1efa_decd_11ea_aff4_005056b8869frow2_col1\" class=\"data row2 col1\" >1,953</td>\n",
       "                        <td id=\"T_f9db1efa_decd_11ea_aff4_005056b8869frow2_col2\" class=\"data row2 col2\" >0.002</td>\n",
       "            </tr>\n",
       "            <tr>\n",
       "                        <th id=\"T_f9db1efa_decd_11ea_aff4_005056b8869flevel0_row3\" class=\"row_heading level0 row3\" >controversy</th>\n",
       "                        <td id=\"T_f9db1efa_decd_11ea_aff4_005056b8869frow3_col0\" class=\"data row3 col0\" >427</td>\n",
       "                        <td id=\"T_f9db1efa_decd_11ea_aff4_005056b8869frow3_col1\" class=\"data row3 col1\" >1,729</td>\n",
       "                        <td id=\"T_f9db1efa_decd_11ea_aff4_005056b8869frow3_col2\" class=\"data row3 col2\" >0.002</td>\n",
       "            </tr>\n",
       "            <tr>\n",
       "                        <th id=\"T_f9db1efa_decd_11ea_aff4_005056b8869flevel0_row4\" class=\"row_heading level0 row4\" >disease</th>\n",
       "                        <td id=\"T_f9db1efa_decd_11ea_aff4_005056b8869frow4_col0\" class=\"data row4 col0\" >831</td>\n",
       "                        <td id=\"T_f9db1efa_decd_11ea_aff4_005056b8869frow4_col1\" class=\"data row4 col1\" >1,019</td>\n",
       "                        <td id=\"T_f9db1efa_decd_11ea_aff4_005056b8869frow4_col2\" class=\"data row4 col2\" >0.002</td>\n",
       "            </tr>\n",
       "            <tr>\n",
       "                        <th id=\"T_f9db1efa_decd_11ea_aff4_005056b8869flevel0_row5\" class=\"row_heading level0 row5\" >events</th>\n",
       "                        <td id=\"T_f9db1efa_decd_11ea_aff4_005056b8869frow5_col0\" class=\"data row5 col0\" >1,625</td>\n",
       "                        <td id=\"T_f9db1efa_decd_11ea_aff4_005056b8869frow5_col1\" class=\"data row5 col1\" >220</td>\n",
       "                        <td id=\"T_f9db1efa_decd_11ea_aff4_005056b8869frow5_col2\" class=\"data row5 col2\" >0.002</td>\n",
       "            </tr>\n",
       "            <tr>\n",
       "                        <th id=\"T_f9db1efa_decd_11ea_aff4_005056b8869flevel0_row6\" class=\"row_heading level0 row6\" >accident</th>\n",
       "                        <td id=\"T_f9db1efa_decd_11ea_aff4_005056b8869frow6_col0\" class=\"data row6 col0\" >778</td>\n",
       "                        <td id=\"T_f9db1efa_decd_11ea_aff4_005056b8869frow6_col1\" class=\"data row6 col1\" >1,064</td>\n",
       "                        <td id=\"T_f9db1efa_decd_11ea_aff4_005056b8869frow6_col2\" class=\"data row6 col2\" >0.002</td>\n",
       "            </tr>\n",
       "            <tr>\n",
       "                        <th id=\"T_f9db1efa_decd_11ea_aff4_005056b8869flevel0_row7\" class=\"row_heading level0 row7\" >incident</th>\n",
       "                        <td id=\"T_f9db1efa_decd_11ea_aff4_005056b8869frow7_col0\" class=\"data row7 col0\" >1,465</td>\n",
       "                        <td id=\"T_f9db1efa_decd_11ea_aff4_005056b8869frow7_col1\" class=\"data row7 col1\" >309</td>\n",
       "                        <td id=\"T_f9db1efa_decd_11ea_aff4_005056b8869frow7_col2\" class=\"data row7 col2\" >0.002</td>\n",
       "            </tr>\n",
       "            <tr>\n",
       "                        <th id=\"T_f9db1efa_decd_11ea_aff4_005056b8869flevel0_row8\" class=\"row_heading level0 row8\" >deaths</th>\n",
       "                        <td id=\"T_f9db1efa_decd_11ea_aff4_005056b8869frow8_col0\" class=\"data row8 col0\" >113</td>\n",
       "                        <td id=\"T_f9db1efa_decd_11ea_aff4_005056b8869frow8_col1\" class=\"data row8 col1\" >1,361</td>\n",
       "                        <td id=\"T_f9db1efa_decd_11ea_aff4_005056b8869frow8_col2\" class=\"data row8 col2\" >0.001</td>\n",
       "            </tr>\n",
       "            <tr>\n",
       "                        <th id=\"T_f9db1efa_decd_11ea_aff4_005056b8869flevel0_row9\" class=\"row_heading level0 row9\" >success</th>\n",
       "                        <td id=\"T_f9db1efa_decd_11ea_aff4_005056b8869frow9_col0\" class=\"data row9 col0\" >811</td>\n",
       "                        <td id=\"T_f9db1efa_decd_11ea_aff4_005056b8869frow9_col1\" class=\"data row9 col1\" >632</td>\n",
       "                        <td id=\"T_f9db1efa_decd_11ea_aff4_005056b8869frow9_col2\" class=\"data row9 col2\" >0.001</td>\n",
       "            </tr>\n",
       "    </tbody></table>"
      ],
      "text/plain": [
       "<IPython.core.display.HTML object>"
      ]
     },
     "metadata": {},
     "output_type": "display_data"
    },
    {
     "name": "stdout",
     "output_type": "stream",
     "text": [
      "\n",
      "wikipedia_list\n"
     ]
    },
    {
     "data": {
      "text/html": [
       "<style  type=\"text/css\" >\n",
       "</style><table id=\"T_f9e3f76e_decd_11ea_aff4_005056b8869f\" ><thead>    <tr>        <th class=\"blank level0\" ></th>        <th class=\"col_heading level0 col0\" >Out</th>        <th class=\"col_heading level0 col1\" >In</th>        <th class=\"col_heading level0 col2\" >Cent.</th>    </tr>    <tr>        <th class=\"index_name level0\" >Concept</th>        <th class=\"blank\" ></th>        <th class=\"blank\" ></th>        <th class=\"blank\" ></th>    </tr></thead><tbody>\n",
       "                <tr>\n",
       "                        <th id=\"T_f9e3f76e_decd_11ea_aff4_005056b8869flevel0_row0\" class=\"row_heading level0 row0\" >fatigue</th>\n",
       "                        <td id=\"T_f9e3f76e_decd_11ea_aff4_005056b8869frow0_col0\" class=\"data row0 col0\" >3</td>\n",
       "                        <td id=\"T_f9e3f76e_decd_11ea_aff4_005056b8869frow0_col1\" class=\"data row0 col1\" >66</td>\n",
       "                        <td id=\"T_f9e3f76e_decd_11ea_aff4_005056b8869frow0_col2\" class=\"data row0 col2\" >0.008</td>\n",
       "            </tr>\n",
       "            <tr>\n",
       "                        <th id=\"T_f9e3f76e_decd_11ea_aff4_005056b8869flevel0_row1\" class=\"row_heading level0 row1\" >nausea</th>\n",
       "                        <td id=\"T_f9e3f76e_decd_11ea_aff4_005056b8869frow1_col0\" class=\"data row1 col0\" >0</td>\n",
       "                        <td id=\"T_f9e3f76e_decd_11ea_aff4_005056b8869frow1_col1\" class=\"data row1 col1\" >68</td>\n",
       "                        <td id=\"T_f9e3f76e_decd_11ea_aff4_005056b8869frow1_col2\" class=\"data row1 col2\" >0.008</td>\n",
       "            </tr>\n",
       "            <tr>\n",
       "                        <th id=\"T_f9e3f76e_decd_11ea_aff4_005056b8869flevel0_row2\" class=\"row_heading level0 row2\" >vomiting</th>\n",
       "                        <td id=\"T_f9e3f76e_decd_11ea_aff4_005056b8869frow2_col0\" class=\"data row2 col0\" >1</td>\n",
       "                        <td id=\"T_f9e3f76e_decd_11ea_aff4_005056b8869frow2_col1\" class=\"data row2 col1\" >59</td>\n",
       "                        <td id=\"T_f9e3f76e_decd_11ea_aff4_005056b8869frow2_col2\" class=\"data row2 col2\" >0.007</td>\n",
       "            </tr>\n",
       "            <tr>\n",
       "                        <th id=\"T_f9e3f76e_decd_11ea_aff4_005056b8869flevel0_row3\" class=\"row_heading level0 row3\" >flushing_(_physiology_)</th>\n",
       "                        <td id=\"T_f9e3f76e_decd_11ea_aff4_005056b8869frow3_col0\" class=\"data row3 col0\" >0</td>\n",
       "                        <td id=\"T_f9e3f76e_decd_11ea_aff4_005056b8869frow3_col1\" class=\"data row3 col1\" >58</td>\n",
       "                        <td id=\"T_f9e3f76e_decd_11ea_aff4_005056b8869frow3_col2\" class=\"data row3 col2\" >0.007</td>\n",
       "            </tr>\n",
       "            <tr>\n",
       "                        <th id=\"T_f9e3f76e_decd_11ea_aff4_005056b8869flevel0_row4\" class=\"row_heading level0 row4\" >mast_cell_activation_syndrome</th>\n",
       "                        <td id=\"T_f9e3f76e_decd_11ea_aff4_005056b8869frow4_col0\" class=\"data row4 col0\" >56</td>\n",
       "                        <td id=\"T_f9e3f76e_decd_11ea_aff4_005056b8869frow4_col1\" class=\"data row4 col1\" >0</td>\n",
       "                        <td id=\"T_f9e3f76e_decd_11ea_aff4_005056b8869frow4_col2\" class=\"data row4 col2\" >0.007</td>\n",
       "            </tr>\n",
       "            <tr>\n",
       "                        <th id=\"T_f9e3f76e_decd_11ea_aff4_005056b8869flevel0_row5\" class=\"row_heading level0 row5\" >fever</th>\n",
       "                        <td id=\"T_f9e3f76e_decd_11ea_aff4_005056b8869frow5_col0\" class=\"data row5 col0\" >5</td>\n",
       "                        <td id=\"T_f9e3f76e_decd_11ea_aff4_005056b8869frow5_col1\" class=\"data row5 col1\" >50</td>\n",
       "                        <td id=\"T_f9e3f76e_decd_11ea_aff4_005056b8869frow5_col2\" class=\"data row5 col2\" >0.007</td>\n",
       "            </tr>\n",
       "            <tr>\n",
       "                        <th id=\"T_f9e3f76e_decd_11ea_aff4_005056b8869flevel0_row6\" class=\"row_heading level0 row6\" >hypotonia</th>\n",
       "                        <td id=\"T_f9e3f76e_decd_11ea_aff4_005056b8869frow6_col0\" class=\"data row6 col0\" >1</td>\n",
       "                        <td id=\"T_f9e3f76e_decd_11ea_aff4_005056b8869frow6_col1\" class=\"data row6 col1\" >53</td>\n",
       "                        <td id=\"T_f9e3f76e_decd_11ea_aff4_005056b8869frow6_col2\" class=\"data row6 col2\" >0.007</td>\n",
       "            </tr>\n",
       "            <tr>\n",
       "                        <th id=\"T_f9e3f76e_decd_11ea_aff4_005056b8869flevel0_row7\" class=\"row_heading level0 row7\" >tachycardia</th>\n",
       "                        <td id=\"T_f9e3f76e_decd_11ea_aff4_005056b8869frow7_col0\" class=\"data row7 col0\" >4</td>\n",
       "                        <td id=\"T_f9e3f76e_decd_11ea_aff4_005056b8869frow7_col1\" class=\"data row7 col1\" >50</td>\n",
       "                        <td id=\"T_f9e3f76e_decd_11ea_aff4_005056b8869frow7_col2\" class=\"data row7 col2\" >0.007</td>\n",
       "            </tr>\n",
       "            <tr>\n",
       "                        <th id=\"T_f9e3f76e_decd_11ea_aff4_005056b8869flevel0_row8\" class=\"row_heading level0 row8\" >coarse_facial_features</th>\n",
       "                        <td id=\"T_f9e3f76e_decd_11ea_aff4_005056b8869frow8_col0\" class=\"data row8 col0\" >0</td>\n",
       "                        <td id=\"T_f9e3f76e_decd_11ea_aff4_005056b8869frow8_col1\" class=\"data row8 col1\" >50</td>\n",
       "                        <td id=\"T_f9e3f76e_decd_11ea_aff4_005056b8869frow8_col2\" class=\"data row8 col2\" >0.006</td>\n",
       "            </tr>\n",
       "            <tr>\n",
       "                        <th id=\"T_f9e3f76e_decd_11ea_aff4_005056b8869flevel0_row9\" class=\"row_heading level0 row9\" >anxiety</th>\n",
       "                        <td id=\"T_f9e3f76e_decd_11ea_aff4_005056b8869frow9_col0\" class=\"data row9 col0\" >35</td>\n",
       "                        <td id=\"T_f9e3f76e_decd_11ea_aff4_005056b8869frow9_col1\" class=\"data row9 col1\" >14</td>\n",
       "                        <td id=\"T_f9e3f76e_decd_11ea_aff4_005056b8869frow9_col2\" class=\"data row9 col2\" >0.006</td>\n",
       "            </tr>\n",
       "    </tbody></table>"
      ],
      "text/plain": [
       "<IPython.core.display.HTML object>"
      ]
     },
     "metadata": {},
     "output_type": "display_data"
    },
    {
     "name": "stdout",
     "output_type": "stream",
     "text": [
      "\n",
      "wikipedia_infobox\n"
     ]
    },
    {
     "data": {
      "text/html": [
       "<style  type=\"text/css\" >\n",
       "</style><table id=\"T_f9ec09e0_decd_11ea_aff4_005056b8869f\" ><thead>    <tr>        <th class=\"blank level0\" ></th>        <th class=\"col_heading level0 col0\" >Out</th>        <th class=\"col_heading level0 col1\" >In</th>        <th class=\"col_heading level0 col2\" >Cent.</th>    </tr>    <tr>        <th class=\"index_name level0\" >Concept</th>        <th class=\"blank\" ></th>        <th class=\"blank\" ></th>        <th class=\"blank\" ></th>    </tr></thead><tbody>\n",
       "                <tr>\n",
       "                        <th id=\"T_f9ec09e0_decd_11ea_aff4_005056b8869flevel0_row0\" class=\"row_heading level0 row0\" >unknown</th>\n",
       "                        <td id=\"T_f9ec09e0_decd_11ea_aff4_005056b8869frow0_col0\" class=\"data row0 col0\" >117</td>\n",
       "                        <td id=\"T_f9ec09e0_decd_11ea_aff4_005056b8869frow0_col1\" class=\"data row0 col1\" >0</td>\n",
       "                        <td id=\"T_f9ec09e0_decd_11ea_aff4_005056b8869frow0_col2\" class=\"data row0 col2\" >0.016</td>\n",
       "            </tr>\n",
       "            <tr>\n",
       "                        <th id=\"T_f9ec09e0_decd_11ea_aff4_005056b8869flevel0_row1\" class=\"row_heading level0 row1\" >fever</th>\n",
       "                        <td id=\"T_f9ec09e0_decd_11ea_aff4_005056b8869frow1_col0\" class=\"data row1 col0\" >4</td>\n",
       "                        <td id=\"T_f9ec09e0_decd_11ea_aff4_005056b8869frow1_col1\" class=\"data row1 col1\" >103</td>\n",
       "                        <td id=\"T_f9ec09e0_decd_11ea_aff4_005056b8869frow1_col2\" class=\"data row1 col2\" >0.015</td>\n",
       "            </tr>\n",
       "            <tr>\n",
       "                        <th id=\"T_f9ec09e0_decd_11ea_aff4_005056b8869flevel0_row2\" class=\"row_heading level0 row2\" >lightning</th>\n",
       "                        <td id=\"T_f9ec09e0_decd_11ea_aff4_005056b8869frow2_col0\" class=\"data row2 col0\" >80</td>\n",
       "                        <td id=\"T_f9ec09e0_decd_11ea_aff4_005056b8869frow2_col1\" class=\"data row2 col1\" >0</td>\n",
       "                        <td id=\"T_f9ec09e0_decd_11ea_aff4_005056b8869frow2_col2\" class=\"data row2 col2\" >0.011</td>\n",
       "            </tr>\n",
       "            <tr>\n",
       "                        <th id=\"T_f9ec09e0_decd_11ea_aff4_005056b8869flevel0_row3\" class=\"row_heading level0 row3\" >family_history</th>\n",
       "                        <td id=\"T_f9ec09e0_decd_11ea_aff4_005056b8869frow3_col0\" class=\"data row3 col0\" >73</td>\n",
       "                        <td id=\"T_f9ec09e0_decd_11ea_aff4_005056b8869frow3_col1\" class=\"data row3 col1\" >0</td>\n",
       "                        <td id=\"T_f9ec09e0_decd_11ea_aff4_005056b8869frow3_col2\" class=\"data row3 col2\" >0.010</td>\n",
       "            </tr>\n",
       "            <tr>\n",
       "                        <th id=\"T_f9ec09e0_decd_11ea_aff4_005056b8869flevel0_row4\" class=\"row_heading level0 row4\" >under_investigation</th>\n",
       "                        <td id=\"T_f9ec09e0_decd_11ea_aff4_005056b8869frow4_col0\" class=\"data row4 col0\" >68</td>\n",
       "                        <td id=\"T_f9ec09e0_decd_11ea_aff4_005056b8869frow4_col1\" class=\"data row4 col1\" >0</td>\n",
       "                        <td id=\"T_f9ec09e0_decd_11ea_aff4_005056b8869frow4_col2\" class=\"data row4 col2\" >0.009</td>\n",
       "            </tr>\n",
       "            <tr>\n",
       "                        <th id=\"T_f9ec09e0_decd_11ea_aff4_005056b8869flevel0_row5\" class=\"row_heading level0 row5\" >vomiting</th>\n",
       "                        <td id=\"T_f9ec09e0_decd_11ea_aff4_005056b8869frow5_col0\" class=\"data row5 col0\" >1</td>\n",
       "                        <td id=\"T_f9ec09e0_decd_11ea_aff4_005056b8869frow5_col1\" class=\"data row5 col1\" >56</td>\n",
       "                        <td id=\"T_f9ec09e0_decd_11ea_aff4_005056b8869frow5_col2\" class=\"data row5 col2\" >0.008</td>\n",
       "            </tr>\n",
       "            <tr>\n",
       "                        <th id=\"T_f9ec09e0_decd_11ea_aff4_005056b8869flevel0_row6\" class=\"row_heading level0 row6\" >obesity</th>\n",
       "                        <td id=\"T_f9ec09e0_decd_11ea_aff4_005056b8869frow6_col0\" class=\"data row6 col0\" >49</td>\n",
       "                        <td id=\"T_f9ec09e0_decd_11ea_aff4_005056b8869frow6_col1\" class=\"data row6 col1\" >3</td>\n",
       "                        <td id=\"T_f9ec09e0_decd_11ea_aff4_005056b8869frow6_col2\" class=\"data row6 col2\" >0.007</td>\n",
       "            </tr>\n",
       "            <tr>\n",
       "                        <th id=\"T_f9ec09e0_decd_11ea_aff4_005056b8869flevel0_row7\" class=\"row_heading level0 row7\" >shortness_of_breath</th>\n",
       "                        <td id=\"T_f9ec09e0_decd_11ea_aff4_005056b8869frow7_col0\" class=\"data row7 col0\" >0</td>\n",
       "                        <td id=\"T_f9ec09e0_decd_11ea_aff4_005056b8869frow7_col1\" class=\"data row7 col1\" >52</td>\n",
       "                        <td id=\"T_f9ec09e0_decd_11ea_aff4_005056b8869frow7_col2\" class=\"data row7 col2\" >0.007</td>\n",
       "            </tr>\n",
       "            <tr>\n",
       "                        <th id=\"T_f9ec09e0_decd_11ea_aff4_005056b8869flevel0_row8\" class=\"row_heading level0 row8\" >arson</th>\n",
       "                        <td id=\"T_f9ec09e0_decd_11ea_aff4_005056b8869frow8_col0\" class=\"data row8 col0\" >47</td>\n",
       "                        <td id=\"T_f9ec09e0_decd_11ea_aff4_005056b8869frow8_col1\" class=\"data row8 col1\" >0</td>\n",
       "                        <td id=\"T_f9ec09e0_decd_11ea_aff4_005056b8869frow8_col2\" class=\"data row8 col2\" >0.007</td>\n",
       "            </tr>\n",
       "            <tr>\n",
       "                        <th id=\"T_f9ec09e0_decd_11ea_aff4_005056b8869flevel0_row9\" class=\"row_heading level0 row9\" >smoking</th>\n",
       "                        <td id=\"T_f9ec09e0_decd_11ea_aff4_005056b8869frow9_col0\" class=\"data row9 col0\" >46</td>\n",
       "                        <td id=\"T_f9ec09e0_decd_11ea_aff4_005056b8869frow9_col1\" class=\"data row9 col1\" >0</td>\n",
       "                        <td id=\"T_f9ec09e0_decd_11ea_aff4_005056b8869frow9_col2\" class=\"data row9 col2\" >0.006</td>\n",
       "            </tr>\n",
       "    </tbody></table>"
      ],
      "text/plain": [
       "<IPython.core.display.HTML object>"
      ]
     },
     "metadata": {},
     "output_type": "display_data"
    },
    {
     "name": "stdout",
     "output_type": "stream",
     "text": [
      "\n"
     ]
    }
   ],
   "source": [
    "for source_type in source_types:\n",
    "    print(source_type)\n",
    "    columns = ['Concept', 'Out', 'In', 'Cent.']\n",
    "    df_centrality = pd.DataFrame(columns=columns).set_index(['Concept'])\n",
    "    graph = source_type_to_graphs[source_type]\n",
    "    most_central_nodes = graph.most_central_nodes()\n",
    "\n",
    "    for node in most_central_nodes:\n",
    "        graph_size = len(source_type_to_graphs[source_type].concepts)\n",
    "        centrality = node[1].degree_centrality(graph_size)\n",
    "        df_centrality.loc[node[0]] = [len(node[1].outgoing),\n",
    "                                      len(node[1].incoming),\n",
    "                                      centrality]\n",
    "\n",
    "    df_centrality = df_centrality.astype({'Out': int, 'In': int})\n",
    "    dataframe_format = {'Out': \"{:,}\", 'In': \"{:,}\", 'Cent.':\"{:,.3f}\"}\n",
    "    display(HTML(df_centrality.style.format(dataframe_format).render()))\n",
    "\n",
    "    print()"
   ]
  },
  {
   "cell_type": "markdown",
   "metadata": {},
   "source": [
    "## Paths"
   ]
  },
  {
   "cell_type": "code",
   "execution_count": 61,
   "metadata": {},
   "outputs": [],
   "source": [
    "def dfs(graph, node, support, length):\n",
    "    if length == 0:\n",
    "        return [[(node, support)]]\n",
    "\n",
    "    resulting_paths = []\n",
    "\n",
    "    for outgoing_edge in graph.concepts[node].outgoing.items():\n",
    "\n",
    "        target = outgoing_edge[0]\n",
    "        target_support = outgoing_edge[1]\n",
    "\n",
    "        if target_support <= 10:\n",
    "            # prune for efficiency\n",
    "            continue\n",
    "\n",
    "        for path in dfs(graph, target, target_support, length-1):\n",
    "            resulting_paths.append([(node, support)] + path)\n",
    "\n",
    "    return resulting_paths"
   ]
  },
  {
   "cell_type": "code",
   "execution_count": 62,
   "metadata": {},
   "outputs": [],
   "source": [
    "def geometric_mean(numbers):\n",
    "    return np.power(np.prod(numbers), 1.0/len(numbers))"
   ]
  },
  {
   "cell_type": "code",
   "execution_count": 63,
   "metadata": {},
   "outputs": [],
   "source": [
    "def paths_with_highest_support(graph, path_lengths, min_path_support):\n",
    "    path_dict = {}\n",
    "\n",
    "    for node in graph.concepts:\n",
    "        for path in dfs(graph, node, 0, path_lengths):\n",
    "            path_string_list = [x[0] for x in path]\n",
    "            key = ' -> '.join(path_string_list)\n",
    "            edge_support_values = [x[1] for x in path if x[1] > 0]\n",
    "            path_support = geometric_mean(edge_support_values)\n",
    "\n",
    "            if path_support > min_path_support:\n",
    "                # store only relevant paths\n",
    "                path_dict.update({key: path_support})\n",
    "\n",
    "    return sorted(path_dict.items(), key=lambda x: (-x[1], x[0]))"
   ]
  },
  {
   "cell_type": "code",
   "execution_count": 64,
   "metadata": {},
   "outputs": [],
   "source": [
    "graph_causenet = Graph()\n",
    "\n",
    "for relation in causenet:\n",
    "    graph_causenet.add_relation(\n",
    "        relation['causal_relation'], relation['support'])"
   ]
  },
  {
   "cell_type": "code",
   "execution_count": 65,
   "metadata": {},
   "outputs": [],
   "source": [
    "paths_length_1 = paths_with_highest_support(graph_causenet, 1, 25)\n",
    "paths_length_2 = paths_with_highest_support(graph_causenet, 2, 20)\n",
    "paths_length_3 = paths_with_highest_support(graph_causenet, 3, 18)"
   ]
  },
  {
   "cell_type": "code",
   "execution_count": 66,
   "metadata": {},
   "outputs": [],
   "source": [
    "def print_paths():\n",
    "    for path_length in range(3):\n",
    "        nodes = set()\n",
    "\n",
    "        print(\"Path-length: \" + str(path_length+1))\n",
    "\n",
    "        columns = ['Cause']\n",
    "        for i in range(path_length):\n",
    "            columns.append(f'Mediator {i+1}')\n",
    "        columns.append('Effect')\n",
    "        columns.append('Support')\n",
    "\n",
    "        df_paths = pd.DataFrame(columns=columns).set_index(columns[:-1])\n",
    "\n",
    "        i = 0\n",
    "        printed_results = 0\n",
    "        while printed_results < 10:\n",
    "            paths = [paths_length_1, paths_length_2, paths_length_3]\n",
    "            path = paths[path_length][i][0]\n",
    "            support = str(int(round(paths[path_length][i][1])))\n",
    "            nodes_in_path = [x.strip() for x in path.split(\"->\")]\n",
    "\n",
    "            observed_nodes = sum([1 for node in nodes_in_path\n",
    "                                  if node in nodes])\n",
    "            nodes_already_observed = observed_nodes > 0\n",
    "            i += 1\n",
    "\n",
    "            if len(set(nodes_in_path)) < path_length + 2:\n",
    "                # skip loops\n",
    "                continue\n",
    "\n",
    "            if nodes_already_observed:\n",
    "                # only node-disjoint paths for better overview\n",
    "                continue\n",
    "\n",
    "            printed_results += 1\n",
    "\n",
    "            df_paths.loc[tuple(nodes_in_path), 'Support'] = support\n",
    "            nodes.update(nodes_in_path)\n",
    "        display(HTML(df_paths.style.format({'Support': '{:}'}).render()))\n",
    "        print()"
   ]
  },
  {
   "cell_type": "code",
   "execution_count": 67,
   "metadata": {
    "scrolled": false
   },
   "outputs": [
    {
     "name": "stdout",
     "output_type": "stream",
     "text": [
      "Path-length: 1\n"
     ]
    },
    {
     "data": {
      "text/html": [
       "<style  type=\"text/css\" >\n",
       "</style><table id=\"T_864935de_dece_11ea_aff4_005056b8869f\" ><thead>    <tr>        <th class=\"blank\" ></th>        <th class=\"blank level0\" ></th>        <th class=\"col_heading level0 col0\" >Support</th>    </tr>    <tr>        <th class=\"index_name level0\" >Cause</th>        <th class=\"index_name level1\" >Effect</th>        <th class=\"blank\" ></th>    </tr></thead><tbody>\n",
       "                <tr>\n",
       "                        <th id=\"T_864935de_dece_11ea_aff4_005056b8869flevel0_row0\" class=\"row_heading level0 row0\" >accident</th>\n",
       "                        <th id=\"T_864935de_dece_11ea_aff4_005056b8869flevel1_row0\" class=\"row_heading level1 row0\" >death</th>\n",
       "                        <td id=\"T_864935de_dece_11ea_aff4_005056b8869frow0_col0\" class=\"data row0 col0\" >38</td>\n",
       "            </tr>\n",
       "            <tr>\n",
       "                        <th id=\"T_864935de_dece_11ea_aff4_005056b8869flevel0_row1\" class=\"row_heading level0 row1\" >drought</th>\n",
       "                        <th id=\"T_864935de_dece_11ea_aff4_005056b8869flevel1_row1\" class=\"row_heading level1 row1\" >famine</th>\n",
       "                        <td id=\"T_864935de_dece_11ea_aff4_005056b8869frow1_col0\" class=\"data row1 col0\" >31</td>\n",
       "            </tr>\n",
       "            <tr>\n",
       "                        <th id=\"T_864935de_dece_11ea_aff4_005056b8869flevel0_row2\" class=\"row_heading level0 row2\" >injury</th>\n",
       "                        <th id=\"T_864935de_dece_11ea_aff4_005056b8869flevel1_row2\" class=\"row_heading level1 row2\" >pain</th>\n",
       "                        <td id=\"T_864935de_dece_11ea_aff4_005056b8869frow2_col0\" class=\"data row2 col0\" >31</td>\n",
       "            </tr>\n",
       "            <tr>\n",
       "                        <th id=\"T_864935de_dece_11ea_aff4_005056b8869flevel0_row3\" class=\"row_heading level0 row3\" >disease</th>\n",
       "                        <th id=\"T_864935de_dece_11ea_aff4_005056b8869flevel1_row3\" class=\"row_heading level1 row3\" >deaths</th>\n",
       "                        <td id=\"T_864935de_dece_11ea_aff4_005056b8869frow3_col0\" class=\"data row3 col0\" >30</td>\n",
       "            </tr>\n",
       "            <tr>\n",
       "                        <th id=\"T_864935de_dece_11ea_aff4_005056b8869flevel0_row4\" class=\"row_heading level0 row4\" >smoking</th>\n",
       "                        <th id=\"T_864935de_dece_11ea_aff4_005056b8869flevel1_row4\" class=\"row_heading level1 row4\" >lung_cancer</th>\n",
       "                        <td id=\"T_864935de_dece_11ea_aff4_005056b8869frow4_col0\" class=\"data row4 col0\" >30</td>\n",
       "            </tr>\n",
       "            <tr>\n",
       "                        <th id=\"T_864935de_dece_11ea_aff4_005056b8869flevel0_row5\" class=\"row_heading level0 row5\" >stress</th>\n",
       "                        <th id=\"T_864935de_dece_11ea_aff4_005056b8869flevel1_row5\" class=\"row_heading level1 row5\" >illness</th>\n",
       "                        <td id=\"T_864935de_dece_11ea_aff4_005056b8869frow5_col0\" class=\"data row5 col0\" >30</td>\n",
       "            </tr>\n",
       "            <tr>\n",
       "                        <th id=\"T_864935de_dece_11ea_aff4_005056b8869flevel0_row6\" class=\"row_heading level0 row6\" >depression</th>\n",
       "                        <th id=\"T_864935de_dece_11ea_aff4_005056b8869flevel1_row6\" class=\"row_heading level1 row6\" >suicide</th>\n",
       "                        <td id=\"T_864935de_dece_11ea_aff4_005056b8869frow6_col0\" class=\"data row6 col0\" >28</td>\n",
       "            </tr>\n",
       "            <tr>\n",
       "                        <th id=\"T_864935de_dece_11ea_aff4_005056b8869flevel0_row7\" class=\"row_heading level0 row7\" >anxiety</th>\n",
       "                        <th id=\"T_864935de_dece_11ea_aff4_005056b8869flevel1_row7\" class=\"row_heading level1 row7\" >insomnia</th>\n",
       "                        <td id=\"T_864935de_dece_11ea_aff4_005056b8869frow7_col0\" class=\"data row7 col0\" >27</td>\n",
       "            </tr>\n",
       "            <tr>\n",
       "                        <th id=\"T_864935de_dece_11ea_aff4_005056b8869flevel0_row8\" class=\"row_heading level0 row8\" >bacteria</th>\n",
       "                        <th id=\"T_864935de_dece_11ea_aff4_005056b8869flevel1_row8\" class=\"row_heading level1 row8\" >infection</th>\n",
       "                        <td id=\"T_864935de_dece_11ea_aff4_005056b8869frow8_col0\" class=\"data row8 col0\" >27</td>\n",
       "            </tr>\n",
       "            <tr>\n",
       "                        <th id=\"T_864935de_dece_11ea_aff4_005056b8869flevel0_row9\" class=\"row_heading level0 row9\" >diarrhea</th>\n",
       "                        <th id=\"T_864935de_dece_11ea_aff4_005056b8869flevel1_row9\" class=\"row_heading level1 row9\" >dehydration</th>\n",
       "                        <td id=\"T_864935de_dece_11ea_aff4_005056b8869frow9_col0\" class=\"data row9 col0\" >27</td>\n",
       "            </tr>\n",
       "    </tbody></table>"
      ],
      "text/plain": [
       "<IPython.core.display.HTML object>"
      ]
     },
     "metadata": {},
     "output_type": "display_data"
    },
    {
     "name": "stdout",
     "output_type": "stream",
     "text": [
      "\n",
      "Path-length: 2\n"
     ]
    },
    {
     "data": {
      "text/html": [
       "<style  type=\"text/css\" >\n",
       "</style><table id=\"T_86515e3a_dece_11ea_aff4_005056b8869f\" ><thead>    <tr>        <th class=\"blank\" ></th>        <th class=\"blank\" ></th>        <th class=\"blank level0\" ></th>        <th class=\"col_heading level0 col0\" >Support</th>    </tr>    <tr>        <th class=\"index_name level0\" >Cause</th>        <th class=\"index_name level1\" >Mediator 1</th>        <th class=\"index_name level2\" >Effect</th>        <th class=\"blank\" ></th>    </tr></thead><tbody>\n",
       "                <tr>\n",
       "                        <th id=\"T_86515e3a_dece_11ea_aff4_005056b8869flevel0_row0\" class=\"row_heading level0 row0\" >stress</th>\n",
       "                        <th id=\"T_86515e3a_dece_11ea_aff4_005056b8869flevel1_row0\" class=\"row_heading level1 row0\" >illness</th>\n",
       "                        <th id=\"T_86515e3a_dece_11ea_aff4_005056b8869flevel2_row0\" class=\"row_heading level2 row0\" >death</th>\n",
       "                        <td id=\"T_86515e3a_dece_11ea_aff4_005056b8869frow0_col0\" class=\"data row0 col0\" >33</td>\n",
       "            </tr>\n",
       "            <tr>\n",
       "                        <th id=\"T_86515e3a_dece_11ea_aff4_005056b8869flevel0_row1\" class=\"row_heading level0 row1\" >accident</th>\n",
       "                        <th id=\"T_86515e3a_dece_11ea_aff4_005056b8869flevel1_row1\" class=\"row_heading level1 row1\" >injury</th>\n",
       "                        <th id=\"T_86515e3a_dece_11ea_aff4_005056b8869flevel2_row1\" class=\"row_heading level2 row1\" >pain</th>\n",
       "                        <td id=\"T_86515e3a_dece_11ea_aff4_005056b8869frow1_col0\" class=\"data row1 col0\" >31</td>\n",
       "            </tr>\n",
       "            <tr>\n",
       "                        <th id=\"T_86515e3a_dece_11ea_aff4_005056b8869flevel0_row2\" class=\"row_heading level0 row2\" >exposure</th>\n",
       "                        <th id=\"T_86515e3a_dece_11ea_aff4_005056b8869flevel1_row2\" class=\"row_heading level1 row2\" >disease</th>\n",
       "                        <th id=\"T_86515e3a_dece_11ea_aff4_005056b8869flevel2_row2\" class=\"row_heading level2 row2\" >deaths</th>\n",
       "                        <td id=\"T_86515e3a_dece_11ea_aff4_005056b8869frow2_col0\" class=\"data row2 col0\" >28</td>\n",
       "            </tr>\n",
       "            <tr>\n",
       "                        <th id=\"T_86515e3a_dece_11ea_aff4_005056b8869flevel0_row3\" class=\"row_heading level0 row3\" >bacteria</th>\n",
       "                        <th id=\"T_86515e3a_dece_11ea_aff4_005056b8869flevel1_row3\" class=\"row_heading level1 row3\" >infection</th>\n",
       "                        <th id=\"T_86515e3a_dece_11ea_aff4_005056b8869flevel2_row3\" class=\"row_heading level2 row3\" >inflammation</th>\n",
       "                        <td id=\"T_86515e3a_dece_11ea_aff4_005056b8869frow3_col0\" class=\"data row3 col0\" >26</td>\n",
       "            </tr>\n",
       "            <tr>\n",
       "                        <th id=\"T_86515e3a_dece_11ea_aff4_005056b8869flevel0_row4\" class=\"row_heading level0 row4\" >obesity</th>\n",
       "                        <th id=\"T_86515e3a_dece_11ea_aff4_005056b8869flevel1_row4\" class=\"row_heading level1 row4\" >diabetes</th>\n",
       "                        <th id=\"T_86515e3a_dece_11ea_aff4_005056b8869flevel2_row4\" class=\"row_heading level2 row4\" >blindness</th>\n",
       "                        <td id=\"T_86515e3a_dece_11ea_aff4_005056b8869frow4_col0\" class=\"data row4 col0\" >24</td>\n",
       "            </tr>\n",
       "            <tr>\n",
       "                        <th id=\"T_86515e3a_dece_11ea_aff4_005056b8869flevel0_row5\" class=\"row_heading level0 row5\" >anxiety</th>\n",
       "                        <th id=\"T_86515e3a_dece_11ea_aff4_005056b8869flevel1_row5\" class=\"row_heading level1 row5\" >depression</th>\n",
       "                        <th id=\"T_86515e3a_dece_11ea_aff4_005056b8869flevel2_row5\" class=\"row_heading level2 row5\" >suicide</th>\n",
       "                        <td id=\"T_86515e3a_dece_11ea_aff4_005056b8869frow5_col0\" class=\"data row5 col0\" >24</td>\n",
       "            </tr>\n",
       "            <tr>\n",
       "                        <th id=\"T_86515e3a_dece_11ea_aff4_005056b8869flevel0_row6\" class=\"row_heading level0 row6\" >global_warming</th>\n",
       "                        <th id=\"T_86515e3a_dece_11ea_aff4_005056b8869flevel1_row6\" class=\"row_heading level1 row6\" >drought</th>\n",
       "                        <th id=\"T_86515e3a_dece_11ea_aff4_005056b8869flevel2_row6\" class=\"row_heading level2 row6\" >famine</th>\n",
       "                        <td id=\"T_86515e3a_dece_11ea_aff4_005056b8869frow6_col0\" class=\"data row6 col0\" >24</td>\n",
       "            </tr>\n",
       "            <tr>\n",
       "                        <th id=\"T_86515e3a_dece_11ea_aff4_005056b8869flevel0_row7\" class=\"row_heading level0 row7\" >diarrhea</th>\n",
       "                        <th id=\"T_86515e3a_dece_11ea_aff4_005056b8869flevel1_row7\" class=\"row_heading level1 row7\" >dehydration</th>\n",
       "                        <th id=\"T_86515e3a_dece_11ea_aff4_005056b8869flevel2_row7\" class=\"row_heading level2 row7\" >headaches</th>\n",
       "                        <td id=\"T_86515e3a_dece_11ea_aff4_005056b8869frow7_col0\" class=\"data row7 col0\" >23</td>\n",
       "            </tr>\n",
       "            <tr>\n",
       "                        <th id=\"T_86515e3a_dece_11ea_aff4_005056b8869flevel0_row8\" class=\"row_heading level0 row8\" >lightning</th>\n",
       "                        <th id=\"T_86515e3a_dece_11ea_aff4_005056b8869flevel1_row8\" class=\"row_heading level1 row8\" >fire</th>\n",
       "                        <th id=\"T_86515e3a_dece_11ea_aff4_005056b8869flevel2_row8\" class=\"row_heading level2 row8\" >damage</th>\n",
       "                        <td id=\"T_86515e3a_dece_11ea_aff4_005056b8869frow8_col0\" class=\"data row8 col0\" >22</td>\n",
       "            </tr>\n",
       "            <tr>\n",
       "                        <th id=\"T_86515e3a_dece_11ea_aff4_005056b8869flevel0_row9\" class=\"row_heading level0 row9\" >negligence</th>\n",
       "                        <th id=\"T_86515e3a_dece_11ea_aff4_005056b8869flevel1_row9\" class=\"row_heading level1 row9\" >injuries</th>\n",
       "                        <th id=\"T_86515e3a_dece_11ea_aff4_005056b8869flevel2_row9\" class=\"row_heading level2 row9\" >disability</th>\n",
       "                        <td id=\"T_86515e3a_dece_11ea_aff4_005056b8869frow9_col0\" class=\"data row9 col0\" >21</td>\n",
       "            </tr>\n",
       "    </tbody></table>"
      ],
      "text/plain": [
       "<IPython.core.display.HTML object>"
      ]
     },
     "metadata": {},
     "output_type": "display_data"
    },
    {
     "name": "stdout",
     "output_type": "stream",
     "text": [
      "\n",
      "Path-length: 3\n"
     ]
    },
    {
     "data": {
      "text/html": [
       "<style  type=\"text/css\" >\n",
       "</style><table id=\"T_865f3c4e_dece_11ea_aff4_005056b8869f\" ><thead>    <tr>        <th class=\"blank\" ></th>        <th class=\"blank\" ></th>        <th class=\"blank\" ></th>        <th class=\"blank level0\" ></th>        <th class=\"col_heading level0 col0\" >Support</th>    </tr>    <tr>        <th class=\"index_name level0\" >Cause</th>        <th class=\"index_name level1\" >Mediator 1</th>        <th class=\"index_name level2\" >Mediator 2</th>        <th class=\"index_name level3\" >Effect</th>        <th class=\"blank\" ></th>    </tr></thead><tbody>\n",
       "                <tr>\n",
       "                        <th id=\"T_865f3c4e_dece_11ea_aff4_005056b8869flevel0_row0\" class=\"row_heading level0 row0\" >negligence</th>\n",
       "                        <th id=\"T_865f3c4e_dece_11ea_aff4_005056b8869flevel1_row0\" class=\"row_heading level1 row0\" >accident</th>\n",
       "                        <th id=\"T_865f3c4e_dece_11ea_aff4_005056b8869flevel2_row0\" class=\"row_heading level2 row0\" >injury</th>\n",
       "                        <th id=\"T_865f3c4e_dece_11ea_aff4_005056b8869flevel3_row0\" class=\"row_heading level3 row0\" >death</th>\n",
       "                        <td id=\"T_865f3c4e_dece_11ea_aff4_005056b8869frow0_col0\" class=\"data row0 col0\" >29</td>\n",
       "            </tr>\n",
       "            <tr>\n",
       "                        <th id=\"T_865f3c4e_dece_11ea_aff4_005056b8869flevel0_row1\" class=\"row_heading level0 row1\" >bacteria</th>\n",
       "                        <th id=\"T_865f3c4e_dece_11ea_aff4_005056b8869flevel1_row1\" class=\"row_heading level1 row1\" >infection</th>\n",
       "                        <th id=\"T_865f3c4e_dece_11ea_aff4_005056b8869flevel2_row1\" class=\"row_heading level2 row1\" >disease</th>\n",
       "                        <th id=\"T_865f3c4e_dece_11ea_aff4_005056b8869flevel3_row1\" class=\"row_heading level3 row1\" >deaths</th>\n",
       "                        <td id=\"T_865f3c4e_dece_11ea_aff4_005056b8869frow1_col0\" class=\"data row1 col0\" >27</td>\n",
       "            </tr>\n",
       "            <tr>\n",
       "                        <th id=\"T_865f3c4e_dece_11ea_aff4_005056b8869flevel0_row2\" class=\"row_heading level0 row2\" >inflammation</th>\n",
       "                        <th id=\"T_865f3c4e_dece_11ea_aff4_005056b8869flevel1_row2\" class=\"row_heading level1 row2\" >pain</th>\n",
       "                        <th id=\"T_865f3c4e_dece_11ea_aff4_005056b8869flevel2_row2\" class=\"row_heading level2 row2\" >depression</th>\n",
       "                        <th id=\"T_865f3c4e_dece_11ea_aff4_005056b8869flevel3_row2\" class=\"row_heading level3 row2\" >suicide</th>\n",
       "                        <td id=\"T_865f3c4e_dece_11ea_aff4_005056b8869frow2_col0\" class=\"data row2 col0\" >26</td>\n",
       "            </tr>\n",
       "            <tr>\n",
       "                        <th id=\"T_865f3c4e_dece_11ea_aff4_005056b8869flevel0_row3\" class=\"row_heading level0 row3\" >fear</th>\n",
       "                        <th id=\"T_865f3c4e_dece_11ea_aff4_005056b8869flevel1_row3\" class=\"row_heading level1 row3\" >stress</th>\n",
       "                        <th id=\"T_865f3c4e_dece_11ea_aff4_005056b8869flevel2_row3\" class=\"row_heading level2 row3\" >illness</th>\n",
       "                        <th id=\"T_865f3c4e_dece_11ea_aff4_005056b8869flevel3_row3\" class=\"row_heading level3 row3\" >disability</th>\n",
       "                        <td id=\"T_865f3c4e_dece_11ea_aff4_005056b8869frow3_col0\" class=\"data row3 col0\" >23</td>\n",
       "            </tr>\n",
       "            <tr>\n",
       "                        <th id=\"T_865f3c4e_dece_11ea_aff4_005056b8869flevel0_row4\" class=\"row_heading level0 row4\" >greenhouse_gases</th>\n",
       "                        <th id=\"T_865f3c4e_dece_11ea_aff4_005056b8869flevel1_row4\" class=\"row_heading level1 row4\" >global_warming</th>\n",
       "                        <th id=\"T_865f3c4e_dece_11ea_aff4_005056b8869flevel2_row4\" class=\"row_heading level2 row4\" >drought</th>\n",
       "                        <th id=\"T_865f3c4e_dece_11ea_aff4_005056b8869flevel3_row4\" class=\"row_heading level3 row4\" >famine</th>\n",
       "                        <td id=\"T_865f3c4e_dece_11ea_aff4_005056b8869frow4_col0\" class=\"data row4 col0\" >23</td>\n",
       "            </tr>\n",
       "            <tr>\n",
       "                        <th id=\"T_865f3c4e_dece_11ea_aff4_005056b8869flevel0_row5\" class=\"row_heading level0 row5\" >lack_of_exercise</th>\n",
       "                        <th id=\"T_865f3c4e_dece_11ea_aff4_005056b8869flevel1_row5\" class=\"row_heading level1 row5\" >obesity</th>\n",
       "                        <th id=\"T_865f3c4e_dece_11ea_aff4_005056b8869flevel2_row5\" class=\"row_heading level2 row5\" >diabetes</th>\n",
       "                        <th id=\"T_865f3c4e_dece_11ea_aff4_005056b8869flevel3_row5\" class=\"row_heading level3 row5\" >blindness</th>\n",
       "                        <td id=\"T_865f3c4e_dece_11ea_aff4_005056b8869frow5_col0\" class=\"data row5 col0\" >23</td>\n",
       "            </tr>\n",
       "            <tr>\n",
       "                        <th id=\"T_865f3c4e_dece_11ea_aff4_005056b8869flevel0_row6\" class=\"row_heading level0 row6\" >lightning</th>\n",
       "                        <th id=\"T_865f3c4e_dece_11ea_aff4_005056b8869flevel1_row6\" class=\"row_heading level1 row6\" >fire</th>\n",
       "                        <th id=\"T_865f3c4e_dece_11ea_aff4_005056b8869flevel2_row6\" class=\"row_heading level2 row6\" >damage</th>\n",
       "                        <th id=\"T_865f3c4e_dece_11ea_aff4_005056b8869flevel3_row6\" class=\"row_heading level3 row6\" >cancer</th>\n",
       "                        <td id=\"T_865f3c4e_dece_11ea_aff4_005056b8869frow6_col0\" class=\"data row6 col0\" >20</td>\n",
       "            </tr>\n",
       "            <tr>\n",
       "                        <th id=\"T_865f3c4e_dece_11ea_aff4_005056b8869flevel0_row7\" class=\"row_heading level0 row7\" >virus</th>\n",
       "                        <th id=\"T_865f3c4e_dece_11ea_aff4_005056b8869flevel1_row7\" class=\"row_heading level1 row7\" >diarrhea</th>\n",
       "                        <th id=\"T_865f3c4e_dece_11ea_aff4_005056b8869flevel2_row7\" class=\"row_heading level2 row7\" >dehydration</th>\n",
       "                        <th id=\"T_865f3c4e_dece_11ea_aff4_005056b8869flevel3_row7\" class=\"row_heading level3 row7\" >headaches</th>\n",
       "                        <td id=\"T_865f3c4e_dece_11ea_aff4_005056b8869frow7_col0\" class=\"data row7 col0\" >20</td>\n",
       "            </tr>\n",
       "            <tr>\n",
       "                        <th id=\"T_865f3c4e_dece_11ea_aff4_005056b8869flevel0_row8\" class=\"row_heading level0 row8\" >anemia</th>\n",
       "                        <th id=\"T_865f3c4e_dece_11ea_aff4_005056b8869flevel1_row8\" class=\"row_heading level1 row8\" >fatigue</th>\n",
       "                        <th id=\"T_865f3c4e_dece_11ea_aff4_005056b8869flevel2_row8\" class=\"row_heading level2 row8\" >accidents</th>\n",
       "                        <th id=\"T_865f3c4e_dece_11ea_aff4_005056b8869flevel3_row8\" class=\"row_heading level3 row8\" >injuries</th>\n",
       "                        <td id=\"T_865f3c4e_dece_11ea_aff4_005056b8869frow8_col0\" class=\"data row8 col0\" >19</td>\n",
       "            </tr>\n",
       "            <tr>\n",
       "                        <th id=\"T_865f3c4e_dece_11ea_aff4_005056b8869flevel0_row9\" class=\"row_heading level0 row9\" >alcohol</th>\n",
       "                        <th id=\"T_865f3c4e_dece_11ea_aff4_005056b8869flevel1_row9\" class=\"row_heading level1 row9\" >problems</th>\n",
       "                        <th id=\"T_865f3c4e_dece_11ea_aff4_005056b8869flevel2_row9\" class=\"row_heading level2 row9\" >anxiety</th>\n",
       "                        <th id=\"T_865f3c4e_dece_11ea_aff4_005056b8869flevel3_row9\" class=\"row_heading level3 row9\" >insomnia</th>\n",
       "                        <td id=\"T_865f3c4e_dece_11ea_aff4_005056b8869frow9_col0\" class=\"data row9 col0\" >19</td>\n",
       "            </tr>\n",
       "    </tbody></table>"
      ],
      "text/plain": [
       "<IPython.core.display.HTML object>"
      ]
     },
     "metadata": {},
     "output_type": "display_data"
    },
    {
     "name": "stdout",
     "output_type": "stream",
     "text": [
      "\n"
     ]
    }
   ],
   "source": [
    "print_paths()"
   ]
  }
 ],
 "metadata": {
  "kernelspec": {
   "display_name": "cikm20-causenet",
   "language": "python",
   "name": "cikm20-causenet"
  },
  "language_info": {
   "codemirror_mode": {
    "name": "ipython",
    "version": 3
   },
   "file_extension": ".py",
   "mimetype": "text/x-python",
   "name": "python",
   "nbconvert_exporter": "python",
   "pygments_lexer": "ipython3",
   "version": "3.7.3"
  },
  "notify_time": "5",
  "toc": {
   "base_numbering": 1,
   "nav_menu": {},
   "number_sections": true,
   "sideBar": true,
   "skip_h1_title": false,
   "title_cell": "Table of Contents",
   "title_sidebar": "Contents",
   "toc_cell": false,
   "toc_position": {},
   "toc_section_display": true,
   "toc_window_display": false
  }
 },
 "nbformat": 4,
 "nbformat_minor": 4
}
