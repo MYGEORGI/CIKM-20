{
 "cells": [
  {
   "cell_type": "markdown",
   "metadata": {},
   "source": [
    "# Preamble"
   ]
  },
  {
   "cell_type": "code",
   "execution_count": 1,
   "metadata": {},
   "outputs": [],
   "source": [
    "from SPARQLWrapper import SPARQLWrapper, JSON\n",
    "from json import JSONDecodeError\n",
    "from nltk import word_tokenize\n",
    "from datetime import datetime\n",
    "import pandas as pd\n",
    "import unicodedata\n",
    "import nltk\n",
    "import json\n",
    "import bz2"
   ]
  },
  {
   "cell_type": "code",
   "execution_count": 2,
   "metadata": {},
   "outputs": [],
   "source": [
    "PATH_CAUSENET = \"../../data/causality-graphs/causenet-full.jsonl.bz2\"\n",
    "PATH_CONCEPTNET = \"../../data/external/knowledge-bases/conceptnet-assertions-5.6.0.csv\"\n",
    "PATH_WIKIDATA = \"../../data/external/knowledge-bases/wikidata-20181001-all.json.bz2\"\n",
    "\n",
    "PATH_QA_TRAIN = \"../../data/question-answering/causality-qa-training.json\"\n",
    "PATH_QA_VALID = \"../../data/question-answering/causality-qa-validation.json\"\n",
    "\n",
    "PATH_NLTK_RESOURCES = \"../../data/external/nltk/\""
   ]
  },
  {
   "cell_type": "code",
   "execution_count": 3,
   "metadata": {},
   "outputs": [
    {
     "name": "stderr",
     "output_type": "stream",
     "text": [
      "[nltk_data] Downloading package punkt to\n",
      "[nltk_data]     ../../data/downloads/nltk_data/...\n",
      "[nltk_data]   Package punkt is already up-to-date!\n"
     ]
    }
   ],
   "source": [
    "nltk.download('punkt', PATH_NLTK_RESOURCES)\n",
    "nltk.data.path.append(PATH_NLTK_RESOURCES)"
   ]
  },
  {
   "cell_type": "markdown",
   "metadata": {},
   "source": [
    "# Question Answering"
   ]
  },
  {
   "cell_type": "code",
   "execution_count": 4,
   "metadata": {},
   "outputs": [],
   "source": [
    "train = json.load(open(PATH_QA_TRAIN))\n",
    "valid = json.load(open(PATH_QA_VALID))\n",
    "\n",
    "# merge MS MARCO datasets for causality-QA\n",
    "causality_qa_dataset = train + valid"
   ]
  },
  {
   "cell_type": "code",
   "execution_count": 5,
   "metadata": {},
   "outputs": [],
   "source": [
    "evaluation_matrix = None"
   ]
  },
  {
   "cell_type": "code",
   "execution_count": 46,
   "metadata": {},
   "outputs": [],
   "source": [
    "class QueryException(Exception):\n",
    "    pass"
   ]
  },
  {
   "cell_type": "code",
   "execution_count": 47,
   "metadata": {},
   "outputs": [],
   "source": [
    "def evaluate_causality_graph(graph_name, causality_graph,\n",
    "                             query, evaluation_matrix,\n",
    "                             query_with_entities=False):\n",
    "    yes_yes, yes_no, no_yes, no_no = 0, 0, 0, 0\n",
    "\n",
    "    for question in causality_qa_dataset:\n",
    "\n",
    "        if query_with_entities and None in question['entities:dbo']:\n",
    "            # consider only questions that could be linked\n",
    "            continue\n",
    "        \n",
    "        try:\n",
    "            in_causality_graph = query(causality_graph, question)\n",
    "        except QueryException:\n",
    "            continue\n",
    "            \n",
    "        truth = question['answer:Extracted']\n",
    "\n",
    "        if truth == ['Yes'] and in_causality_graph:\n",
    "            yes_yes += 1\n",
    "            continue\n",
    "\n",
    "        if truth == ['Yes'] and not in_causality_graph:\n",
    "            yes_no += 1\n",
    "            continue\n",
    "\n",
    "        if truth == ['No'] and in_causality_graph:\n",
    "            no_yes += 1\n",
    "            continue\n",
    "\n",
    "        if truth == ['No'] and not in_causality_graph:\n",
    "            no_no += 1\n",
    "            continue\n",
    "\n",
    "    total = yes_yes + yes_no + no_yes + no_no\n",
    "\n",
    "    confusion_matrix = pd.DataFrame({\n",
    "        \"Yes>Yes\": {graph_name: yes_yes},\n",
    "        \"Yes>No\": {graph_name: yes_no},\n",
    "        \"No>Yes\": {graph_name: no_yes},\n",
    "        \"No>No\": {graph_name: no_no},\n",
    "        \"Total\": {graph_name: total}\n",
    "    })\n",
    "\n",
    "    return pd.concat([evaluation_matrix, confusion_matrix])"
   ]
  },
  {
   "cell_type": "markdown",
   "metadata": {},
   "source": [
    "## CauseNet"
   ]
  },
  {
   "cell_type": "code",
   "execution_count": 4,
   "metadata": {},
   "outputs": [],
   "source": [
    "def load_jsonl(path):\n",
    "    print(\"Loading... \" + path)\n",
    "    lines = []\n",
    "    document = bz2.open(path, mode='rt')\n",
    "    for line in document:\n",
    "        lines.append(json.loads(line))\n",
    "    return lines"
   ]
  },
  {
   "cell_type": "code",
   "execution_count": 8,
   "metadata": {},
   "outputs": [],
   "source": [
    "def get_subgraph(graph, source_type):\n",
    "    subgraph = []\n",
    "    for relation in graph:\n",
    "        belongs_to_subgraph = False\n",
    "        for source in relation['sources']:\n",
    "            if source['type'] == source_type:\n",
    "                belongs_to_subgraph = True\n",
    "                break\n",
    "        if belongs_to_subgraph:\n",
    "            subgraph.append(relation)\n",
    "    return subgraph"
   ]
  },
  {
   "cell_type": "code",
   "execution_count": 9,
   "metadata": {},
   "outputs": [],
   "source": [
    "# CauseNet-Wrapper for fast queries\n",
    "class Graph():\n",
    "\n",
    "    def __init__(self, causality_graph):\n",
    "        self.relations = []\n",
    "\n",
    "        for relation in causality_graph:\n",
    "            cause = relation['causal_relation']['cause']['concept']\n",
    "            effect = relation['causal_relation']['effect']['concept']\n",
    "            relation = cause + \" -> \" + effect\n",
    "            self.relations.append(relation)\n",
    "\n",
    "        self.relations = set(self.relations)\n",
    "\n",
    "    def has_edge(self, cause, effect):\n",
    "        return cause + \" -> \" + effect in self.relations"
   ]
  },
  {
   "cell_type": "code",
   "execution_count": null,
   "metadata": {},
   "outputs": [
    {
     "name": "stdout",
     "output_type": "stream",
     "text": [
      "Loading... ../../data/causality-graphs/causenet-full.jsonl.bz2\n"
     ]
    }
   ],
   "source": [
    "causenet = load_jsonl(PATH_CAUSENET)"
   ]
  },
  {
   "cell_type": "code",
   "execution_count": 11,
   "metadata": {},
   "outputs": [],
   "source": [
    "source_types = ['clueweb12_sentence', 'wikipedia_sentence',\n",
    "                'wikipedia_list', 'wikipedia_infobox']\n",
    "causality_graphs = {'causenet': Graph(causenet)}\n",
    "\n",
    "for source_type in source_types:\n",
    "    causality_graphs[source_type] = Graph(get_subgraph(causenet, source_type))"
   ]
  },
  {
   "cell_type": "code",
   "execution_count": 12,
   "metadata": {},
   "outputs": [],
   "source": [
    "def normalize_causal_concept(string):\n",
    "    # as in conceptNet\n",
    "    # https://en.wikipedia.org/wiki/Unicode_equivalence#Normalization\n",
    "    tokens = word_tokenize(string)\n",
    "    tokens = [unicodedata.normalize('NFKC', token.lower())\n",
    "              for token in tokens]\n",
    "    return '_'.join(tokens)"
   ]
  },
  {
   "cell_type": "code",
   "execution_count": 13,
   "metadata": {},
   "outputs": [],
   "source": [
    "def get_concept_from_question(question, index):\n",
    "    start = question['query'][index][0]\n",
    "    end = question['query'][index][1] + 1\n",
    "    concept = [t[0] for t in question['question:POS'][start:end]]\n",
    "    concept = ' '.join(concept)\n",
    "    return normalize_causal_concept(concept)"
   ]
  },
  {
   "cell_type": "code",
   "execution_count": 14,
   "metadata": {},
   "outputs": [],
   "source": [
    "def query_causenet(causality_graph, question):\n",
    "    cause = get_concept_from_question(question, 0)\n",
    "    effect = get_concept_from_question(question, 1)\n",
    "    return causality_graph.has_edge(cause, effect)"
   ]
  },
  {
   "cell_type": "code",
   "execution_count": 15,
   "metadata": {},
   "outputs": [],
   "source": [
    "for graph_key in causality_graphs:\n",
    "    parameters = (graph_key, causality_graphs[graph_key],\n",
    "                  query_causenet, evaluation_matrix)\n",
    "    evaluation_matrix = evaluate_causality_graph(*parameters)"
   ]
  },
  {
   "cell_type": "code",
   "execution_count": 16,
   "metadata": {},
   "outputs": [
    {
     "data": {
      "text/html": [
       "<style  type=\"text/css\" >\n",
       "</style><table id=\"T_673b6652_db32_11ea_8b56_005056b8869f\" ><thead>    <tr>        <th class=\"blank level0\" ></th>        <th class=\"col_heading level0 col0\" >Yes>Yes</th>        <th class=\"col_heading level0 col1\" >Yes>No</th>        <th class=\"col_heading level0 col2\" >No>Yes</th>        <th class=\"col_heading level0 col3\" >No>No</th>        <th class=\"col_heading level0 col4\" >Total</th>    </tr></thead><tbody>\n",
       "                <tr>\n",
       "                        <th id=\"T_673b6652_db32_11ea_8b56_005056b8869flevel0_row0\" class=\"row_heading level0 row0\" >causenet</th>\n",
       "                        <td id=\"T_673b6652_db32_11ea_8b56_005056b8869frow0_col0\" class=\"data row0 col0\" >487</td>\n",
       "                        <td id=\"T_673b6652_db32_11ea_8b56_005056b8869frow0_col1\" class=\"data row0 col1\" >1,342</td>\n",
       "                        <td id=\"T_673b6652_db32_11ea_8b56_005056b8869frow0_col2\" class=\"data row0 col2\" >53</td>\n",
       "                        <td id=\"T_673b6652_db32_11ea_8b56_005056b8869frow0_col3\" class=\"data row0 col3\" >287</td>\n",
       "                        <td id=\"T_673b6652_db32_11ea_8b56_005056b8869frow0_col4\" class=\"data row0 col4\" >2,169</td>\n",
       "            </tr>\n",
       "            <tr>\n",
       "                        <th id=\"T_673b6652_db32_11ea_8b56_005056b8869flevel0_row1\" class=\"row_heading level0 row1\" >clueweb12_sentence</th>\n",
       "                        <td id=\"T_673b6652_db32_11ea_8b56_005056b8869frow1_col0\" class=\"data row1 col0\" >480</td>\n",
       "                        <td id=\"T_673b6652_db32_11ea_8b56_005056b8869frow1_col1\" class=\"data row1 col1\" >1,349</td>\n",
       "                        <td id=\"T_673b6652_db32_11ea_8b56_005056b8869frow1_col2\" class=\"data row1 col2\" >52</td>\n",
       "                        <td id=\"T_673b6652_db32_11ea_8b56_005056b8869frow1_col3\" class=\"data row1 col3\" >288</td>\n",
       "                        <td id=\"T_673b6652_db32_11ea_8b56_005056b8869frow1_col4\" class=\"data row1 col4\" >2,169</td>\n",
       "            </tr>\n",
       "            <tr>\n",
       "                        <th id=\"T_673b6652_db32_11ea_8b56_005056b8869flevel0_row2\" class=\"row_heading level0 row2\" >wikipedia_sentence</th>\n",
       "                        <td id=\"T_673b6652_db32_11ea_8b56_005056b8869frow2_col0\" class=\"data row2 col0\" >51</td>\n",
       "                        <td id=\"T_673b6652_db32_11ea_8b56_005056b8869frow2_col1\" class=\"data row2 col1\" >1,778</td>\n",
       "                        <td id=\"T_673b6652_db32_11ea_8b56_005056b8869frow2_col2\" class=\"data row2 col2\" >8</td>\n",
       "                        <td id=\"T_673b6652_db32_11ea_8b56_005056b8869frow2_col3\" class=\"data row2 col3\" >332</td>\n",
       "                        <td id=\"T_673b6652_db32_11ea_8b56_005056b8869frow2_col4\" class=\"data row2 col4\" >2,169</td>\n",
       "            </tr>\n",
       "            <tr>\n",
       "                        <th id=\"T_673b6652_db32_11ea_8b56_005056b8869flevel0_row3\" class=\"row_heading level0 row3\" >wikipedia_list</th>\n",
       "                        <td id=\"T_673b6652_db32_11ea_8b56_005056b8869frow3_col0\" class=\"data row3 col0\" >8</td>\n",
       "                        <td id=\"T_673b6652_db32_11ea_8b56_005056b8869frow3_col1\" class=\"data row3 col1\" >1,821</td>\n",
       "                        <td id=\"T_673b6652_db32_11ea_8b56_005056b8869frow3_col2\" class=\"data row3 col2\" >0</td>\n",
       "                        <td id=\"T_673b6652_db32_11ea_8b56_005056b8869frow3_col3\" class=\"data row3 col3\" >340</td>\n",
       "                        <td id=\"T_673b6652_db32_11ea_8b56_005056b8869frow3_col4\" class=\"data row3 col4\" >2,169</td>\n",
       "            </tr>\n",
       "            <tr>\n",
       "                        <th id=\"T_673b6652_db32_11ea_8b56_005056b8869flevel0_row4\" class=\"row_heading level0 row4\" >wikipedia_infobox</th>\n",
       "                        <td id=\"T_673b6652_db32_11ea_8b56_005056b8869frow4_col0\" class=\"data row4 col0\" >9</td>\n",
       "                        <td id=\"T_673b6652_db32_11ea_8b56_005056b8869frow4_col1\" class=\"data row4 col1\" >1,820</td>\n",
       "                        <td id=\"T_673b6652_db32_11ea_8b56_005056b8869frow4_col2\" class=\"data row4 col2\" >1</td>\n",
       "                        <td id=\"T_673b6652_db32_11ea_8b56_005056b8869frow4_col3\" class=\"data row4 col3\" >339</td>\n",
       "                        <td id=\"T_673b6652_db32_11ea_8b56_005056b8869frow4_col4\" class=\"data row4 col4\" >2,169</td>\n",
       "            </tr>\n",
       "    </tbody></table>"
      ],
      "text/plain": [
       "<pandas.io.formats.style.Styler at 0x7fcbfe36a208>"
      ]
     },
     "execution_count": 16,
     "metadata": {},
     "output_type": "execute_result"
    }
   ],
   "source": [
    "evaluation_matrix.style.format(\"{0:,}\")"
   ]
  },
  {
   "cell_type": "markdown",
   "metadata": {},
   "source": [
    "## ConceptNet"
   ]
  },
  {
   "cell_type": "code",
   "execution_count": 17,
   "metadata": {},
   "outputs": [],
   "source": [
    "def load_conceptnet():\n",
    "    conceptnet = open(PATH_CONCEPTNET).readlines()\n",
    "    conceptnet_triples = []\n",
    "\n",
    "    for row in conceptnet:\n",
    "        elements = row.split(\"\\t\")\n",
    "        triple = (elements[2], elements[1], elements[3])\n",
    "        conceptnet_triples.append(triple)\n",
    "\n",
    "    return conceptnet_triples"
   ]
  },
  {
   "cell_type": "code",
   "execution_count": 18,
   "metadata": {},
   "outputs": [],
   "source": [
    "conceptnet = load_conceptnet()"
   ]
  },
  {
   "cell_type": "code",
   "execution_count": 19,
   "metadata": {},
   "outputs": [],
   "source": [
    "causal_properties = ['/r/CausesDesire', '/r/Causes']\n",
    "conceptnet_causality = set([t for t in conceptnet\n",
    "                            if t[1] in causal_properties])"
   ]
  },
  {
   "cell_type": "code",
   "execution_count": 20,
   "metadata": {},
   "outputs": [],
   "source": [
    "def query_conceptnet(causality_graph, question):\n",
    "    cause = get_concept_from_question(question, 0)\n",
    "    effect = get_concept_from_question(question, 1)\n",
    "    relation = ('/c/en/' + cause, '/r/Causes', '/c/en/' + effect)\n",
    "    return relation in causality_graph"
   ]
  },
  {
   "cell_type": "code",
   "execution_count": 21,
   "metadata": {},
   "outputs": [],
   "source": [
    "parameters = ('conceptnet', conceptnet_causality,\n",
    "              query_conceptnet, evaluation_matrix)\n",
    "evaluation_matrix = evaluate_causality_graph(*parameters)"
   ]
  },
  {
   "cell_type": "code",
   "execution_count": 22,
   "metadata": {},
   "outputs": [
    {
     "data": {
      "text/html": [
       "<style  type=\"text/css\" >\n",
       "</style><table id=\"T_e0f7b928_db32_11ea_8b56_005056b8869f\" ><thead>    <tr>        <th class=\"blank level0\" ></th>        <th class=\"col_heading level0 col0\" >Yes>Yes</th>        <th class=\"col_heading level0 col1\" >Yes>No</th>        <th class=\"col_heading level0 col2\" >No>Yes</th>        <th class=\"col_heading level0 col3\" >No>No</th>        <th class=\"col_heading level0 col4\" >Total</th>    </tr></thead><tbody>\n",
       "                <tr>\n",
       "                        <th id=\"T_e0f7b928_db32_11ea_8b56_005056b8869flevel0_row0\" class=\"row_heading level0 row0\" >causenet</th>\n",
       "                        <td id=\"T_e0f7b928_db32_11ea_8b56_005056b8869frow0_col0\" class=\"data row0 col0\" >487</td>\n",
       "                        <td id=\"T_e0f7b928_db32_11ea_8b56_005056b8869frow0_col1\" class=\"data row0 col1\" >1,342</td>\n",
       "                        <td id=\"T_e0f7b928_db32_11ea_8b56_005056b8869frow0_col2\" class=\"data row0 col2\" >53</td>\n",
       "                        <td id=\"T_e0f7b928_db32_11ea_8b56_005056b8869frow0_col3\" class=\"data row0 col3\" >287</td>\n",
       "                        <td id=\"T_e0f7b928_db32_11ea_8b56_005056b8869frow0_col4\" class=\"data row0 col4\" >2,169</td>\n",
       "            </tr>\n",
       "            <tr>\n",
       "                        <th id=\"T_e0f7b928_db32_11ea_8b56_005056b8869flevel0_row1\" class=\"row_heading level0 row1\" >clueweb12_sentence</th>\n",
       "                        <td id=\"T_e0f7b928_db32_11ea_8b56_005056b8869frow1_col0\" class=\"data row1 col0\" >480</td>\n",
       "                        <td id=\"T_e0f7b928_db32_11ea_8b56_005056b8869frow1_col1\" class=\"data row1 col1\" >1,349</td>\n",
       "                        <td id=\"T_e0f7b928_db32_11ea_8b56_005056b8869frow1_col2\" class=\"data row1 col2\" >52</td>\n",
       "                        <td id=\"T_e0f7b928_db32_11ea_8b56_005056b8869frow1_col3\" class=\"data row1 col3\" >288</td>\n",
       "                        <td id=\"T_e0f7b928_db32_11ea_8b56_005056b8869frow1_col4\" class=\"data row1 col4\" >2,169</td>\n",
       "            </tr>\n",
       "            <tr>\n",
       "                        <th id=\"T_e0f7b928_db32_11ea_8b56_005056b8869flevel0_row2\" class=\"row_heading level0 row2\" >wikipedia_sentence</th>\n",
       "                        <td id=\"T_e0f7b928_db32_11ea_8b56_005056b8869frow2_col0\" class=\"data row2 col0\" >51</td>\n",
       "                        <td id=\"T_e0f7b928_db32_11ea_8b56_005056b8869frow2_col1\" class=\"data row2 col1\" >1,778</td>\n",
       "                        <td id=\"T_e0f7b928_db32_11ea_8b56_005056b8869frow2_col2\" class=\"data row2 col2\" >8</td>\n",
       "                        <td id=\"T_e0f7b928_db32_11ea_8b56_005056b8869frow2_col3\" class=\"data row2 col3\" >332</td>\n",
       "                        <td id=\"T_e0f7b928_db32_11ea_8b56_005056b8869frow2_col4\" class=\"data row2 col4\" >2,169</td>\n",
       "            </tr>\n",
       "            <tr>\n",
       "                        <th id=\"T_e0f7b928_db32_11ea_8b56_005056b8869flevel0_row3\" class=\"row_heading level0 row3\" >wikipedia_list</th>\n",
       "                        <td id=\"T_e0f7b928_db32_11ea_8b56_005056b8869frow3_col0\" class=\"data row3 col0\" >8</td>\n",
       "                        <td id=\"T_e0f7b928_db32_11ea_8b56_005056b8869frow3_col1\" class=\"data row3 col1\" >1,821</td>\n",
       "                        <td id=\"T_e0f7b928_db32_11ea_8b56_005056b8869frow3_col2\" class=\"data row3 col2\" >0</td>\n",
       "                        <td id=\"T_e0f7b928_db32_11ea_8b56_005056b8869frow3_col3\" class=\"data row3 col3\" >340</td>\n",
       "                        <td id=\"T_e0f7b928_db32_11ea_8b56_005056b8869frow3_col4\" class=\"data row3 col4\" >2,169</td>\n",
       "            </tr>\n",
       "            <tr>\n",
       "                        <th id=\"T_e0f7b928_db32_11ea_8b56_005056b8869flevel0_row4\" class=\"row_heading level0 row4\" >wikipedia_infobox</th>\n",
       "                        <td id=\"T_e0f7b928_db32_11ea_8b56_005056b8869frow4_col0\" class=\"data row4 col0\" >9</td>\n",
       "                        <td id=\"T_e0f7b928_db32_11ea_8b56_005056b8869frow4_col1\" class=\"data row4 col1\" >1,820</td>\n",
       "                        <td id=\"T_e0f7b928_db32_11ea_8b56_005056b8869frow4_col2\" class=\"data row4 col2\" >1</td>\n",
       "                        <td id=\"T_e0f7b928_db32_11ea_8b56_005056b8869frow4_col3\" class=\"data row4 col3\" >339</td>\n",
       "                        <td id=\"T_e0f7b928_db32_11ea_8b56_005056b8869frow4_col4\" class=\"data row4 col4\" >2,169</td>\n",
       "            </tr>\n",
       "            <tr>\n",
       "                        <th id=\"T_e0f7b928_db32_11ea_8b56_005056b8869flevel0_row5\" class=\"row_heading level0 row5\" >conceptnet</th>\n",
       "                        <td id=\"T_e0f7b928_db32_11ea_8b56_005056b8869frow5_col0\" class=\"data row5 col0\" >1</td>\n",
       "                        <td id=\"T_e0f7b928_db32_11ea_8b56_005056b8869frow5_col1\" class=\"data row5 col1\" >1,828</td>\n",
       "                        <td id=\"T_e0f7b928_db32_11ea_8b56_005056b8869frow5_col2\" class=\"data row5 col2\" >0</td>\n",
       "                        <td id=\"T_e0f7b928_db32_11ea_8b56_005056b8869frow5_col3\" class=\"data row5 col3\" >340</td>\n",
       "                        <td id=\"T_e0f7b928_db32_11ea_8b56_005056b8869frow5_col4\" class=\"data row5 col4\" >2,169</td>\n",
       "            </tr>\n",
       "    </tbody></table>"
      ],
      "text/plain": [
       "<pandas.io.formats.style.Styler at 0x7fda2cb333c8>"
      ]
     },
     "execution_count": 22,
     "metadata": {},
     "output_type": "execute_result"
    }
   ],
   "source": [
    "evaluation_matrix.style.format(\"{0:,}\")"
   ]
  },
  {
   "cell_type": "markdown",
   "metadata": {},
   "source": [
    "## DBpedia Live"
   ]
  },
  {
   "cell_type": "code",
   "execution_count": 23,
   "metadata": {},
   "outputs": [],
   "source": [
    "not_causal_properties = [\n",
    "    'http://www.w3.org/2000/01/rdf-schema#seeAlso',\n",
    "    'http://dbpedia.org/ontology/wikiPageWikiLink',\n",
    "    'http://purl.org/linguistics/gold/hypernym',\n",
    "]"
   ]
  },
  {
   "cell_type": "code",
   "execution_count": 24,
   "metadata": {},
   "outputs": [],
   "source": [
    "def send_query(endpoint, query):\n",
    "    endpoint.setQuery(query)\n",
    "    endpoint.setReturnFormat(JSON)\n",
    "    results = endpoint.query().convert()\n",
    "    return results\n",
    "\n",
    "\n",
    "def in_dbpedia_live(endpoint, cause, effect):\n",
    "    query = \"SELECT ?p WHERE {<\" + str(cause) + \"> ?p <\" + str(effect) + \">}\"\n",
    "    results = send_query(endpoint, query)\n",
    "\n",
    "    for result in results['results']['bindings']:\n",
    "        prop = result['p']['value']\n",
    "        return prop not in not_causal_properties\n",
    "    return False"
   ]
  },
  {
   "cell_type": "code",
   "execution_count": 25,
   "metadata": {},
   "outputs": [],
   "source": [
    "def query_dbpedia_live(causality_graph, question):\n",
    "    parameters = (causality_graph,\n",
    "                  question['entities:dbo'][0],\n",
    "                  question['entities:dbo'][1])\n",
    "    return in_dbpedia_live(*parameters)"
   ]
  },
  {
   "cell_type": "code",
   "execution_count": 26,
   "metadata": {},
   "outputs": [],
   "source": [
    "dbpedia_live_endpoint = SPARQLWrapper(\"http://live.dbpedia.org/sparql\")"
   ]
  },
  {
   "cell_type": "code",
   "execution_count": 27,
   "metadata": {},
   "outputs": [
    {
     "name": "stdout",
     "output_type": "stream",
     "text": [
      "DBpedia Live (2020-08-10 19:56:55.805839):\n"
     ]
    }
   ],
   "source": [
    "print(f\"DBpedia Live ({datetime.now()}):\")\n",
    "parameters = ('dbpedia live', dbpedia_live_endpoint,\n",
    "              query_dbpedia_live, evaluation_matrix, True)\n",
    "evaluation_matrix = evaluate_causality_graph(*parameters)"
   ]
  },
  {
   "cell_type": "code",
   "execution_count": 28,
   "metadata": {},
   "outputs": [
    {
     "data": {
      "text/html": [
       "<style  type=\"text/css\" >\n",
       "</style><table id=\"T_0d6831b2_db34_11ea_8b56_005056b8869f\" ><thead>    <tr>        <th class=\"blank level0\" ></th>        <th class=\"col_heading level0 col0\" >Yes>Yes</th>        <th class=\"col_heading level0 col1\" >Yes>No</th>        <th class=\"col_heading level0 col2\" >No>Yes</th>        <th class=\"col_heading level0 col3\" >No>No</th>        <th class=\"col_heading level0 col4\" >Total</th>    </tr></thead><tbody>\n",
       "                <tr>\n",
       "                        <th id=\"T_0d6831b2_db34_11ea_8b56_005056b8869flevel0_row0\" class=\"row_heading level0 row0\" >causenet</th>\n",
       "                        <td id=\"T_0d6831b2_db34_11ea_8b56_005056b8869frow0_col0\" class=\"data row0 col0\" >487</td>\n",
       "                        <td id=\"T_0d6831b2_db34_11ea_8b56_005056b8869frow0_col1\" class=\"data row0 col1\" >1,342</td>\n",
       "                        <td id=\"T_0d6831b2_db34_11ea_8b56_005056b8869frow0_col2\" class=\"data row0 col2\" >53</td>\n",
       "                        <td id=\"T_0d6831b2_db34_11ea_8b56_005056b8869frow0_col3\" class=\"data row0 col3\" >287</td>\n",
       "                        <td id=\"T_0d6831b2_db34_11ea_8b56_005056b8869frow0_col4\" class=\"data row0 col4\" >2,169</td>\n",
       "            </tr>\n",
       "            <tr>\n",
       "                        <th id=\"T_0d6831b2_db34_11ea_8b56_005056b8869flevel0_row1\" class=\"row_heading level0 row1\" >clueweb12_sentence</th>\n",
       "                        <td id=\"T_0d6831b2_db34_11ea_8b56_005056b8869frow1_col0\" class=\"data row1 col0\" >480</td>\n",
       "                        <td id=\"T_0d6831b2_db34_11ea_8b56_005056b8869frow1_col1\" class=\"data row1 col1\" >1,349</td>\n",
       "                        <td id=\"T_0d6831b2_db34_11ea_8b56_005056b8869frow1_col2\" class=\"data row1 col2\" >52</td>\n",
       "                        <td id=\"T_0d6831b2_db34_11ea_8b56_005056b8869frow1_col3\" class=\"data row1 col3\" >288</td>\n",
       "                        <td id=\"T_0d6831b2_db34_11ea_8b56_005056b8869frow1_col4\" class=\"data row1 col4\" >2,169</td>\n",
       "            </tr>\n",
       "            <tr>\n",
       "                        <th id=\"T_0d6831b2_db34_11ea_8b56_005056b8869flevel0_row2\" class=\"row_heading level0 row2\" >wikipedia_sentence</th>\n",
       "                        <td id=\"T_0d6831b2_db34_11ea_8b56_005056b8869frow2_col0\" class=\"data row2 col0\" >51</td>\n",
       "                        <td id=\"T_0d6831b2_db34_11ea_8b56_005056b8869frow2_col1\" class=\"data row2 col1\" >1,778</td>\n",
       "                        <td id=\"T_0d6831b2_db34_11ea_8b56_005056b8869frow2_col2\" class=\"data row2 col2\" >8</td>\n",
       "                        <td id=\"T_0d6831b2_db34_11ea_8b56_005056b8869frow2_col3\" class=\"data row2 col3\" >332</td>\n",
       "                        <td id=\"T_0d6831b2_db34_11ea_8b56_005056b8869frow2_col4\" class=\"data row2 col4\" >2,169</td>\n",
       "            </tr>\n",
       "            <tr>\n",
       "                        <th id=\"T_0d6831b2_db34_11ea_8b56_005056b8869flevel0_row3\" class=\"row_heading level0 row3\" >wikipedia_list</th>\n",
       "                        <td id=\"T_0d6831b2_db34_11ea_8b56_005056b8869frow3_col0\" class=\"data row3 col0\" >8</td>\n",
       "                        <td id=\"T_0d6831b2_db34_11ea_8b56_005056b8869frow3_col1\" class=\"data row3 col1\" >1,821</td>\n",
       "                        <td id=\"T_0d6831b2_db34_11ea_8b56_005056b8869frow3_col2\" class=\"data row3 col2\" >0</td>\n",
       "                        <td id=\"T_0d6831b2_db34_11ea_8b56_005056b8869frow3_col3\" class=\"data row3 col3\" >340</td>\n",
       "                        <td id=\"T_0d6831b2_db34_11ea_8b56_005056b8869frow3_col4\" class=\"data row3 col4\" >2,169</td>\n",
       "            </tr>\n",
       "            <tr>\n",
       "                        <th id=\"T_0d6831b2_db34_11ea_8b56_005056b8869flevel0_row4\" class=\"row_heading level0 row4\" >wikipedia_infobox</th>\n",
       "                        <td id=\"T_0d6831b2_db34_11ea_8b56_005056b8869frow4_col0\" class=\"data row4 col0\" >9</td>\n",
       "                        <td id=\"T_0d6831b2_db34_11ea_8b56_005056b8869frow4_col1\" class=\"data row4 col1\" >1,820</td>\n",
       "                        <td id=\"T_0d6831b2_db34_11ea_8b56_005056b8869frow4_col2\" class=\"data row4 col2\" >1</td>\n",
       "                        <td id=\"T_0d6831b2_db34_11ea_8b56_005056b8869frow4_col3\" class=\"data row4 col3\" >339</td>\n",
       "                        <td id=\"T_0d6831b2_db34_11ea_8b56_005056b8869frow4_col4\" class=\"data row4 col4\" >2,169</td>\n",
       "            </tr>\n",
       "            <tr>\n",
       "                        <th id=\"T_0d6831b2_db34_11ea_8b56_005056b8869flevel0_row5\" class=\"row_heading level0 row5\" >conceptnet</th>\n",
       "                        <td id=\"T_0d6831b2_db34_11ea_8b56_005056b8869frow5_col0\" class=\"data row5 col0\" >1</td>\n",
       "                        <td id=\"T_0d6831b2_db34_11ea_8b56_005056b8869frow5_col1\" class=\"data row5 col1\" >1,828</td>\n",
       "                        <td id=\"T_0d6831b2_db34_11ea_8b56_005056b8869frow5_col2\" class=\"data row5 col2\" >0</td>\n",
       "                        <td id=\"T_0d6831b2_db34_11ea_8b56_005056b8869frow5_col3\" class=\"data row5 col3\" >340</td>\n",
       "                        <td id=\"T_0d6831b2_db34_11ea_8b56_005056b8869frow5_col4\" class=\"data row5 col4\" >2,169</td>\n",
       "            </tr>\n",
       "            <tr>\n",
       "                        <th id=\"T_0d6831b2_db34_11ea_8b56_005056b8869flevel0_row6\" class=\"row_heading level0 row6\" >dbpedia live</th>\n",
       "                        <td id=\"T_0d6831b2_db34_11ea_8b56_005056b8869frow6_col0\" class=\"data row6 col0\" >11</td>\n",
       "                        <td id=\"T_0d6831b2_db34_11ea_8b56_005056b8869frow6_col1\" class=\"data row6 col1\" >1,179</td>\n",
       "                        <td id=\"T_0d6831b2_db34_11ea_8b56_005056b8869frow6_col2\" class=\"data row6 col2\" >2</td>\n",
       "                        <td id=\"T_0d6831b2_db34_11ea_8b56_005056b8869frow6_col3\" class=\"data row6 col3\" >231</td>\n",
       "                        <td id=\"T_0d6831b2_db34_11ea_8b56_005056b8869frow6_col4\" class=\"data row6 col4\" >1,423</td>\n",
       "            </tr>\n",
       "    </tbody></table>"
      ],
      "text/plain": [
       "<pandas.io.formats.style.Styler at 0x7fcb9b98eef0>"
      ]
     },
     "execution_count": 28,
     "metadata": {},
     "output_type": "execute_result"
    }
   ],
   "source": [
    "evaluation_matrix.style.format(\"{0:,}\")"
   ]
  },
  {
   "cell_type": "markdown",
   "metadata": {},
   "source": [
    "## Wikidata"
   ]
  },
  {
   "cell_type": "code",
   "execution_count": 29,
   "metadata": {},
   "outputs": [],
   "source": [
    "wikidata_causal_predicates = [\n",
    "    'P509',  # cause of death\n",
    "    'P780',  # symptoms\n",
    "    'P828',  # has cause\n",
    "    'P1542',  # has effect\n",
    "    'P770',  # cause of destruction\n",
    "    'P1478',  # has immediate cause\n",
    "    'P1479',  # has contributing factor\n",
    "    'P1534',  # end cause\n",
    "]"
   ]
  },
  {
   "cell_type": "code",
   "execution_count": 30,
   "metadata": {},
   "outputs": [],
   "source": [
    "def load_wikidata_causality(wikidata_causal_predicates):\n",
    "    causal_wikidata = []\n",
    "\n",
    "    for line in bz2.open(PATH_WIKIDATA, mode='rt'):\n",
    "        try:\n",
    "            item = json.loads(line.strip()[:-1])\n",
    "        except JSONDecodeError:\n",
    "            continue\n",
    "\n",
    "        for wikidata_property in item['claims'].keys():\n",
    "            if wikidata_property in wikidata_causal_predicates:\n",
    "                for snack in item['claims'][wikidata_property]:\n",
    "                    if 'datavalue' not in snack['mainsnak']:\n",
    "                        continue\n",
    "                    value = snack['mainsnak']['datavalue']['value']\n",
    "                    if 'id' not in value:\n",
    "                        continue\n",
    "                    wikidata_object = value['id']\n",
    "                    relation = (item['id'], wikidata_property, wikidata_object)\n",
    "                    causal_wikidata.append(relation)\n",
    "    return causal_wikidata"
   ]
  },
  {
   "cell_type": "code",
   "execution_count": 31,
   "metadata": {},
   "outputs": [],
   "source": [
    "wikidata_causality = load_wikidata_causality(wikidata_causal_predicates)\n",
    "wikidata_causality = [(t[0], t[2]) for t in wikidata_causality]"
   ]
  },
  {
   "cell_type": "code",
   "execution_count": 54,
   "metadata": {},
   "outputs": [],
   "source": [
    "def get_wikidata_items(question, endpoint):\n",
    "    # use DBpedia’s interwiki-links for linking against Wikidata\n",
    "    items = []\n",
    "\n",
    "    for entity in question['entities:dbo']:\n",
    "        sparql_query = \"\"\"\n",
    "            SELECT ?o WHERE { <\"\"\" + entity + \"\"\"> owl:sameAs ?o\n",
    "                 FILTER (STRSTARTS(str(?o),\n",
    "                     \"http://wikidata.dbpedia.org/resource/\"))\n",
    "            }\n",
    "        \"\"\"\n",
    "        endpoint.setQuery(sparql_query)\n",
    "        endpoint.setReturnFormat(JSON)\n",
    "        results = endpoint.query().convert()\n",
    "\n",
    "        for result in results[\"results\"][\"bindings\"]:\n",
    "            items.append(result[\"o\"][\"value\"])\n",
    "\n",
    "    return tuple([x.split(\"/\")[-1][1:] for x in items])"
   ]
  },
  {
   "cell_type": "code",
   "execution_count": 55,
   "metadata": {},
   "outputs": [],
   "source": [
    "def query_wikidata(wikidata, question):\n",
    "    expected_link = get_wikidata_items(question, dbpedia_live_endpoint)\n",
    "    if len(expected_link) != 2:\n",
    "        raise QueryException(\"no interwiki-links available\")\n",
    "    \n",
    "    expected_link = ('Q' + expected_link[0], 'Q' + expected_link[1])\n",
    "    return expected_link in wikidata"
   ]
  },
  {
   "cell_type": "code",
   "execution_count": 56,
   "metadata": {},
   "outputs": [],
   "source": [
    "parameters = ('wikidata', wikidata_causality,\n",
    "              query_wikidata, evaluation_matrix, True)\n",
    "evaluation_matrix = evaluate_causality_graph(*parameters)"
   ]
  },
  {
   "cell_type": "code",
   "execution_count": 57,
   "metadata": {},
   "outputs": [
    {
     "data": {
      "text/html": [
       "<style  type=\"text/css\" >\n",
       "</style><table id=\"T_b2934140_db93_11ea_8b56_005056b8869f\" ><thead>    <tr>        <th class=\"blank level0\" ></th>        <th class=\"col_heading level0 col0\" >Yes>Yes</th>        <th class=\"col_heading level0 col1\" >Yes>No</th>        <th class=\"col_heading level0 col2\" >No>Yes</th>        <th class=\"col_heading level0 col3\" >No>No</th>        <th class=\"col_heading level0 col4\" >Total</th>    </tr></thead><tbody>\n",
       "                <tr>\n",
       "                        <th id=\"T_b2934140_db93_11ea_8b56_005056b8869flevel0_row0\" class=\"row_heading level0 row0\" >causenet</th>\n",
       "                        <td id=\"T_b2934140_db93_11ea_8b56_005056b8869frow0_col0\" class=\"data row0 col0\" >487</td>\n",
       "                        <td id=\"T_b2934140_db93_11ea_8b56_005056b8869frow0_col1\" class=\"data row0 col1\" >1,342</td>\n",
       "                        <td id=\"T_b2934140_db93_11ea_8b56_005056b8869frow0_col2\" class=\"data row0 col2\" >53</td>\n",
       "                        <td id=\"T_b2934140_db93_11ea_8b56_005056b8869frow0_col3\" class=\"data row0 col3\" >287</td>\n",
       "                        <td id=\"T_b2934140_db93_11ea_8b56_005056b8869frow0_col4\" class=\"data row0 col4\" >2,169</td>\n",
       "            </tr>\n",
       "            <tr>\n",
       "                        <th id=\"T_b2934140_db93_11ea_8b56_005056b8869flevel0_row1\" class=\"row_heading level0 row1\" >clueweb12_sentence</th>\n",
       "                        <td id=\"T_b2934140_db93_11ea_8b56_005056b8869frow1_col0\" class=\"data row1 col0\" >480</td>\n",
       "                        <td id=\"T_b2934140_db93_11ea_8b56_005056b8869frow1_col1\" class=\"data row1 col1\" >1,349</td>\n",
       "                        <td id=\"T_b2934140_db93_11ea_8b56_005056b8869frow1_col2\" class=\"data row1 col2\" >52</td>\n",
       "                        <td id=\"T_b2934140_db93_11ea_8b56_005056b8869frow1_col3\" class=\"data row1 col3\" >288</td>\n",
       "                        <td id=\"T_b2934140_db93_11ea_8b56_005056b8869frow1_col4\" class=\"data row1 col4\" >2,169</td>\n",
       "            </tr>\n",
       "            <tr>\n",
       "                        <th id=\"T_b2934140_db93_11ea_8b56_005056b8869flevel0_row2\" class=\"row_heading level0 row2\" >wikipedia_sentence</th>\n",
       "                        <td id=\"T_b2934140_db93_11ea_8b56_005056b8869frow2_col0\" class=\"data row2 col0\" >51</td>\n",
       "                        <td id=\"T_b2934140_db93_11ea_8b56_005056b8869frow2_col1\" class=\"data row2 col1\" >1,778</td>\n",
       "                        <td id=\"T_b2934140_db93_11ea_8b56_005056b8869frow2_col2\" class=\"data row2 col2\" >8</td>\n",
       "                        <td id=\"T_b2934140_db93_11ea_8b56_005056b8869frow2_col3\" class=\"data row2 col3\" >332</td>\n",
       "                        <td id=\"T_b2934140_db93_11ea_8b56_005056b8869frow2_col4\" class=\"data row2 col4\" >2,169</td>\n",
       "            </tr>\n",
       "            <tr>\n",
       "                        <th id=\"T_b2934140_db93_11ea_8b56_005056b8869flevel0_row3\" class=\"row_heading level0 row3\" >wikipedia_list</th>\n",
       "                        <td id=\"T_b2934140_db93_11ea_8b56_005056b8869frow3_col0\" class=\"data row3 col0\" >8</td>\n",
       "                        <td id=\"T_b2934140_db93_11ea_8b56_005056b8869frow3_col1\" class=\"data row3 col1\" >1,821</td>\n",
       "                        <td id=\"T_b2934140_db93_11ea_8b56_005056b8869frow3_col2\" class=\"data row3 col2\" >0</td>\n",
       "                        <td id=\"T_b2934140_db93_11ea_8b56_005056b8869frow3_col3\" class=\"data row3 col3\" >340</td>\n",
       "                        <td id=\"T_b2934140_db93_11ea_8b56_005056b8869frow3_col4\" class=\"data row3 col4\" >2,169</td>\n",
       "            </tr>\n",
       "            <tr>\n",
       "                        <th id=\"T_b2934140_db93_11ea_8b56_005056b8869flevel0_row4\" class=\"row_heading level0 row4\" >wikipedia_infobox</th>\n",
       "                        <td id=\"T_b2934140_db93_11ea_8b56_005056b8869frow4_col0\" class=\"data row4 col0\" >9</td>\n",
       "                        <td id=\"T_b2934140_db93_11ea_8b56_005056b8869frow4_col1\" class=\"data row4 col1\" >1,820</td>\n",
       "                        <td id=\"T_b2934140_db93_11ea_8b56_005056b8869frow4_col2\" class=\"data row4 col2\" >1</td>\n",
       "                        <td id=\"T_b2934140_db93_11ea_8b56_005056b8869frow4_col3\" class=\"data row4 col3\" >339</td>\n",
       "                        <td id=\"T_b2934140_db93_11ea_8b56_005056b8869frow4_col4\" class=\"data row4 col4\" >2,169</td>\n",
       "            </tr>\n",
       "            <tr>\n",
       "                        <th id=\"T_b2934140_db93_11ea_8b56_005056b8869flevel0_row5\" class=\"row_heading level0 row5\" >conceptnet</th>\n",
       "                        <td id=\"T_b2934140_db93_11ea_8b56_005056b8869frow5_col0\" class=\"data row5 col0\" >1</td>\n",
       "                        <td id=\"T_b2934140_db93_11ea_8b56_005056b8869frow5_col1\" class=\"data row5 col1\" >1,828</td>\n",
       "                        <td id=\"T_b2934140_db93_11ea_8b56_005056b8869frow5_col2\" class=\"data row5 col2\" >0</td>\n",
       "                        <td id=\"T_b2934140_db93_11ea_8b56_005056b8869frow5_col3\" class=\"data row5 col3\" >340</td>\n",
       "                        <td id=\"T_b2934140_db93_11ea_8b56_005056b8869frow5_col4\" class=\"data row5 col4\" >2,169</td>\n",
       "            </tr>\n",
       "            <tr>\n",
       "                        <th id=\"T_b2934140_db93_11ea_8b56_005056b8869flevel0_row6\" class=\"row_heading level0 row6\" >dbpedia live</th>\n",
       "                        <td id=\"T_b2934140_db93_11ea_8b56_005056b8869frow6_col0\" class=\"data row6 col0\" >11</td>\n",
       "                        <td id=\"T_b2934140_db93_11ea_8b56_005056b8869frow6_col1\" class=\"data row6 col1\" >1,179</td>\n",
       "                        <td id=\"T_b2934140_db93_11ea_8b56_005056b8869frow6_col2\" class=\"data row6 col2\" >2</td>\n",
       "                        <td id=\"T_b2934140_db93_11ea_8b56_005056b8869frow6_col3\" class=\"data row6 col3\" >231</td>\n",
       "                        <td id=\"T_b2934140_db93_11ea_8b56_005056b8869frow6_col4\" class=\"data row6 col4\" >1,423</td>\n",
       "            </tr>\n",
       "            <tr>\n",
       "                        <th id=\"T_b2934140_db93_11ea_8b56_005056b8869flevel0_row7\" class=\"row_heading level0 row7\" >wikidata</th>\n",
       "                        <td id=\"T_b2934140_db93_11ea_8b56_005056b8869frow7_col0\" class=\"data row7 col0\" >10</td>\n",
       "                        <td id=\"T_b2934140_db93_11ea_8b56_005056b8869frow7_col1\" class=\"data row7 col1\" >1,098</td>\n",
       "                        <td id=\"T_b2934140_db93_11ea_8b56_005056b8869frow7_col2\" class=\"data row7 col2\" >0</td>\n",
       "                        <td id=\"T_b2934140_db93_11ea_8b56_005056b8869frow7_col3\" class=\"data row7 col3\" >223</td>\n",
       "                        <td id=\"T_b2934140_db93_11ea_8b56_005056b8869frow7_col4\" class=\"data row7 col4\" >1,331</td>\n",
       "            </tr>\n",
       "    </tbody></table>"
      ],
      "text/plain": [
       "<pandas.io.formats.style.Styler at 0x7fc9317cb8d0>"
      ]
     },
     "execution_count": 57,
     "metadata": {},
     "output_type": "execute_result"
    }
   ],
   "source": [
    "evaluation_matrix.style.format(\"{0:,}\")"
   ]
  }
 ],
 "metadata": {
  "kernelspec": {
   "display_name": "cikm20-causenet",
   "language": "python",
   "name": "cikm20-causenet"
  },
  "language_info": {
   "codemirror_mode": {
    "name": "ipython",
    "version": 3
   },
   "file_extension": ".py",
   "mimetype": "text/x-python",
   "name": "python",
   "nbconvert_exporter": "python",
   "pygments_lexer": "ipython3",
   "version": "3.7.3"
  },
  "toc": {
   "base_numbering": 1,
   "nav_menu": {},
   "number_sections": true,
   "sideBar": true,
   "skip_h1_title": false,
   "title_cell": "Table of Contents",
   "title_sidebar": "Contents",
   "toc_cell": false,
   "toc_position": {},
   "toc_section_display": true,
   "toc_window_display": false
  }
 },
 "nbformat": 4,
 "nbformat_minor": 4
}
